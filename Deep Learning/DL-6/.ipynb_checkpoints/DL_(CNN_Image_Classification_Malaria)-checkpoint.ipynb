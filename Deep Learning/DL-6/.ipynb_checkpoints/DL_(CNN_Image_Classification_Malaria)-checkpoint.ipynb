{
 "cells": [
  {
   "cell_type": "markdown",
   "metadata": {
    "id": "pAqK_4rJyGIo"
   },
   "source": [
    "\n",
    "## CNN With Custom Images\n",
    "\n",
    "The dataset contains 2 folders - Infected - Uninfected\n",
    "\n",
    "And a total of 27,558 images.\n",
    "\n",
    "\n",
    "This Dataset is taken from the official NIH Website: https://ceb.nlm.nih.gov/repositories/malaria-datasets/ "
   ]
  },
  {
   "cell_type": "code",
   "execution_count": 1,
   "metadata": {
    "id": "HujjHaXQyGIr"
   },
   "outputs": [],
   "source": [
    "import os\n",
    "import pandas as pd\n",
    "import numpy as np\n",
    "import seaborn as sns\n",
    "import matplotlib.pyplot as plt\n",
    "from matplotlib.image import imread\n",
    "import warnings\n",
    "warnings.filterwarnings('ignore')"
   ]
  },
  {
   "cell_type": "code",
   "execution_count": 15,
   "metadata": {
    "id": "uFZ8x6-PyGIs",
    "outputId": "eed1fb85-e90c-44e5-a7a7-7a24ab04c938"
   },
   "outputs": [
    {
     "data": {
      "text/plain": [
       "'/Users/macbook/Desktop'"
      ]
     },
     "execution_count": 15,
     "metadata": {},
     "output_type": "execute_result"
    }
   ],
   "source": [
    "pwd"
   ]
  },
  {
   "cell_type": "code",
   "execution_count": 16,
   "metadata": {
    "id": "T14jLqBHyGIt"
   },
   "outputs": [],
   "source": [
    "my_data_dir = '/Users/macbook/Desktop/cell_images'"
   ]
  },
  {
   "cell_type": "code",
   "execution_count": 18,
   "metadata": {
    "id": "KPXlpKTpyGIv",
    "outputId": "e6978376-bb2b-4253-d28f-7cc633a57663"
   },
   "outputs": [
    {
     "data": {
      "text/plain": [
       "['.DS_Store', 'test', 'train']"
      ]
     },
     "execution_count": 18,
     "metadata": {},
     "output_type": "execute_result"
    }
   ],
   "source": [
    "# CONFIRM THAT THIS REPORTS BACK 'test', and 'train'\n",
    "os.listdir(my_data_dir) \n",
    "\n",
    "# klasorlerimi listeliyor"
   ]
  },
  {
   "cell_type": "code",
   "execution_count": 19,
   "metadata": {
    "id": "z0BuKsaFyGIv"
   },
   "outputs": [],
   "source": [
    "test_path = my_data_dir+'/test/'\n",
    "train_path = my_data_dir+'/train/'"
   ]
  },
  {
   "cell_type": "code",
   "execution_count": 20,
   "metadata": {
    "id": "5eOc4BKRyGIv",
    "outputId": "0049e3e1-0baa-431f-fcc0-5187fa0a14f1"
   },
   "outputs": [
    {
     "data": {
      "text/plain": [
       "['.DS_Store', 'parasitized', 'uninfected']"
      ]
     },
     "execution_count": 20,
     "metadata": {},
     "output_type": "execute_result"
    }
   ],
   "source": [
    "os.listdir(test_path)"
   ]
  },
  {
   "cell_type": "code",
   "execution_count": 22,
   "metadata": {
    "id": "mKliw2QVyGIw",
    "outputId": "2aef4fbc-a507-4694-a7f7-4bedd45d81df"
   },
   "outputs": [
    {
     "data": {
      "text/plain": [
       "['parasitized', 'uninfected']"
      ]
     },
     "execution_count": 22,
     "metadata": {},
     "output_type": "execute_result"
    }
   ],
   "source": [
    "os.listdir(train_path)"
   ]
  },
  {
   "cell_type": "code",
   "execution_count": 23,
   "metadata": {
    "id": "kFQ10IvvyGIx",
    "jupyter": {
     "outputs_hidden": true
    },
    "outputId": "95a59b4e-1bbd-4a11-c863-21f35b3294b1",
    "tags": []
   },
   "outputs": [
    {
     "data": {
      "text/plain": [
       "['C189P150ThinF_IMG_20151203_142224_cell_84.png',\n",
       " 'C91P52ThinF_IMG_20150821_123116_cell_189.png',\n",
       " 'C84P45ThinF_IMG_20150818_101226_cell_98.png',\n",
       " 'C144P105ThinF_IMG_20151015_163432_cell_310.png',\n",
       " 'C136P97ThinF_IMG_20151005_141803_cell_131.png',\n",
       " 'C60P21thinF_IMG_20150804_105034_cell_105.png',\n",
       " 'C176P137NThinF_IMG_20151201_122708_cell_126.png',\n",
       " 'C136P97ThinF_IMG_20151005_142437_cell_119.png',\n",
       " 'C173P134NThinF_IMG_20151130_115733_cell_227.png',\n",
       " 'C85P46ThinF_IMG_20150820_105154_cell_221.png',\n",
       " 'C101P62ThinF_IMG_20150918_151507_cell_49.png',\n",
       " 'C116P77ThinF_IMG_20150930_171844_cell_100.png',\n",
       " 'C48P9thinF_IMG_20150721_160406_cell_247.png',\n",
       " 'C184P145ThinF_IMG_20151203_103114_cell_149.png',\n",
       " 'C99P60ThinF_IMG_20150918_141620_cell_56.png',\n",
       " 'C132P93ThinF_IMG_20151004_152045_cell_111.png',\n",
       " 'C68P29N_ThinF_IMG_20150819_134112_cell_153.png',\n",
       " 'C116P77ThinF_IMG_20150930_171844_cell_114.png',\n",
       " 'C171P132ThinF_IMG_20151119_153150_cell_222.png',\n",
       " 'C176P137NThinF_IMG_20151201_122708_cell_132.png']"
      ]
     },
     "execution_count": 23,
     "metadata": {},
     "output_type": "execute_result"
    }
   ],
   "source": [
    "os.listdir(train_path+'parasitized')[:20]"
   ]
  },
  {
   "cell_type": "code",
   "execution_count": 24,
   "metadata": {
    "id": "JF8rXNQPyGIx",
    "outputId": "f97d5251-3b4a-4c5a-e536-97d8c20f8a3d"
   },
   "outputs": [
    {
     "data": {
      "text/plain": [
       "'C136P97ThinF_IMG_20151005_142437_cell_119.png'"
      ]
     },
     "execution_count": 24,
     "metadata": {},
     "output_type": "execute_result"
    }
   ],
   "source": [
    "os.listdir(train_path+'parasitized')[7]"
   ]
  },
  {
   "cell_type": "code",
   "execution_count": 25,
   "metadata": {
    "id": "YZPSIYW8yGIy"
   },
   "outputs": [],
   "source": [
    "para_cell = train_path+'parasitized'+'/C100P61ThinF_IMG_20150918_144104_cell_169.png'"
   ]
  },
  {
   "cell_type": "code",
   "execution_count": 27,
   "metadata": {},
   "outputs": [
    {
     "data": {
      "text/plain": [
       "'/Users/macbook/Desktop/cell_images/train/parasitized/C100P61ThinF_IMG_20150918_144104_cell_169.png'"
      ]
     },
     "execution_count": 27,
     "metadata": {},
     "output_type": "execute_result"
    }
   ],
   "source": [
    "para_cell"
   ]
  },
  {
   "cell_type": "code",
   "execution_count": 28,
   "metadata": {
    "id": "cPfIa7-kyGIy",
    "jupyter": {
     "outputs_hidden": true
    },
    "outputId": "677dfbea-7962-485f-c1d5-09e2172e4665",
    "tags": []
   },
   "outputs": [
    {
     "data": {
      "text/plain": [
       "array([[[0., 0., 0.],\n",
       "        [0., 0., 0.],\n",
       "        [0., 0., 0.],\n",
       "        ...,\n",
       "        [0., 0., 0.],\n",
       "        [0., 0., 0.],\n",
       "        [0., 0., 0.]],\n",
       "\n",
       "       [[0., 0., 0.],\n",
       "        [0., 0., 0.],\n",
       "        [0., 0., 0.],\n",
       "        ...,\n",
       "        [0., 0., 0.],\n",
       "        [0., 0., 0.],\n",
       "        [0., 0., 0.]],\n",
       "\n",
       "       [[0., 0., 0.],\n",
       "        [0., 0., 0.],\n",
       "        [0., 0., 0.],\n",
       "        ...,\n",
       "        [0., 0., 0.],\n",
       "        [0., 0., 0.],\n",
       "        [0., 0., 0.]],\n",
       "\n",
       "       ...,\n",
       "\n",
       "       [[0., 0., 0.],\n",
       "        [0., 0., 0.],\n",
       "        [0., 0., 0.],\n",
       "        ...,\n",
       "        [0., 0., 0.],\n",
       "        [0., 0., 0.],\n",
       "        [0., 0., 0.]],\n",
       "\n",
       "       [[0., 0., 0.],\n",
       "        [0., 0., 0.],\n",
       "        [0., 0., 0.],\n",
       "        ...,\n",
       "        [0., 0., 0.],\n",
       "        [0., 0., 0.],\n",
       "        [0., 0., 0.]],\n",
       "\n",
       "       [[0., 0., 0.],\n",
       "        [0., 0., 0.],\n",
       "        [0., 0., 0.],\n",
       "        ...,\n",
       "        [0., 0., 0.],\n",
       "        [0., 0., 0.],\n",
       "        [0., 0., 0.]]], dtype=float32)"
      ]
     },
     "execution_count": 28,
     "metadata": {},
     "output_type": "execute_result"
    }
   ],
   "source": [
    "imread(para_cell)"
   ]
  },
  {
   "cell_type": "code",
   "execution_count": 29,
   "metadata": {
    "id": "On0snEeYyGIz"
   },
   "outputs": [],
   "source": [
    "para_img= imread(para_cell)"
   ]
  },
  {
   "cell_type": "code",
   "execution_count": 32,
   "metadata": {
    "id": "LACF8r3CyGIz",
    "outputId": "8ed93dbf-2931-4fed-8250-6c8d9e455200"
   },
   "outputs": [
    {
     "data": {
      "image/png": "[encoded data removed]",
      "text/plain": [
       "<Figure size 432x288 with 1 Axes>"
      ]
     },
     "metadata": {
      "needs_background": "light"
     },
     "output_type": "display_data"
    }
   ],
   "source": [
    "plt.imshow(para_img);"
   ]
  },
  {
   "cell_type": "code",
   "execution_count": 33,
   "metadata": {
    "id": "Y1O2gbWsyGIz",
    "outputId": "bd93aaa3-7c9a-4f2e-d1b4-e967062a3989"
   },
   "outputs": [
    {
     "data": {
      "text/plain": [
       "(124, 154, 3)"
      ]
     },
     "execution_count": 33,
     "metadata": {},
     "output_type": "execute_result"
    }
   ],
   "source": [
    "para_img.shape"
   ]
  },
  {
   "cell_type": "code",
   "execution_count": 34,
   "metadata": {
    "id": "IdFMDqZmyGI0",
    "jupyter": {
     "outputs_hidden": true
    },
    "outputId": "f2fc23ab-a696-4f6f-b21d-331afc8c7ed2",
    "tags": []
   },
   "outputs": [
    {
     "data": {
      "text/plain": [
       "['C13NThinF_IMG_20150614_131318_cell_179.png',\n",
       " 'C205ThinF_IMG_20151106_152003_cell_21.png',\n",
       " 'C230ThinF_IMG_20151112_150647_cell_1.png',\n",
       " 'C134P95ThinF_IMG_20151005_121834_cell_65.png',\n",
       " 'C141P102ThinF_IMG_20151005_214836_cell_132.png',\n",
       " 'C182P143NThinF_IMG_20151201_171950_cell_93.png',\n",
       " 'C181P142ThinF_IMG_20151127_160616_cell_54.png',\n",
       " 'C142P103ThinF_IMG_20151005_223257_cell_18.png',\n",
       " 'C80P41ThinF_IMG_20150817_110608_cell_62.png',\n",
       " 'C144P105ThinF_IMG_20151015_163142_cell_66.png',\n",
       " 'C12NThinF_IMG_20150614_124212_cell_187.png',\n",
       " 'C223ThinF_IMG_20151112_104708_cell_190.png',\n",
       " 'C143P104ThinF_IMG_20151005_225746_cell_133.png',\n",
       " 'C84P45ThinF_IMG_20150818_101056_cell_87.png',\n",
       " 'C222ThinF_IMG_20151115_150925_cell_127.png',\n",
       " 'C1_thinF_IMG_20150604_104919_cell_82.png',\n",
       " 'C150P111ThinF_IMG_20151115_115950_cell_53.png',\n",
       " 'C170P131ThinF_IMG_20151119_120233_cell_183.png',\n",
       " 'C13NThinF_IMG_20150614_131529_cell_168.png',\n",
       " 'C1_thinF_IMG_20150604_104919_cell_96.png']"
      ]
     },
     "execution_count": 34,
     "metadata": {},
     "output_type": "execute_result"
    }
   ],
   "source": [
    "os.listdir(train_path+'uninfected')[:20]"
   ]
  },
  {
   "cell_type": "code",
   "execution_count": 35,
   "metadata": {},
   "outputs": [
    {
     "data": {
      "text/plain": [
       "'C142P103ThinF_IMG_20151005_223257_cell_18.png'"
      ]
     },
     "execution_count": 35,
     "metadata": {},
     "output_type": "execute_result"
    }
   ],
   "source": [
    "os.listdir(train_path+'uninfected')[7]"
   ]
  },
  {
   "cell_type": "code",
   "execution_count": 36,
   "metadata": {
    "id": "lP9Put_-yGI0"
   },
   "outputs": [],
   "source": [
    "uninfected_cell_path = train_path+'uninfected/'+os.listdir(train_path+'uninfected')[7]"
   ]
  },
  {
   "cell_type": "code",
   "execution_count": 39,
   "metadata": {},
   "outputs": [
    {
     "data": {
      "text/plain": [
       "'/Users/macbook/Desktop/cell_images/train/uninfected/C142P103ThinF_IMG_20151005_223257_cell_18.png'"
      ]
     },
     "execution_count": 39,
     "metadata": {},
     "output_type": "execute_result"
    }
   ],
   "source": [
    "uninfected_cell_path"
   ]
  },
  {
   "cell_type": "code",
   "execution_count": 37,
   "metadata": {
    "id": "d-L4Uw9TyGI1",
    "jupyter": {
     "outputs_hidden": true
    },
    "outputId": "11edc0b9-7a9c-497e-e933-faca34a58561",
    "tags": []
   },
   "outputs": [
    {
     "data": {
      "text/plain": [
       "array([[[0., 0., 0.],\n",
       "        [0., 0., 0.],\n",
       "        [0., 0., 0.],\n",
       "        ...,\n",
       "        [0., 0., 0.],\n",
       "        [0., 0., 0.],\n",
       "        [0., 0., 0.]],\n",
       "\n",
       "       [[0., 0., 0.],\n",
       "        [0., 0., 0.],\n",
       "        [0., 0., 0.],\n",
       "        ...,\n",
       "        [0., 0., 0.],\n",
       "        [0., 0., 0.],\n",
       "        [0., 0., 0.]],\n",
       "\n",
       "       [[0., 0., 0.],\n",
       "        [0., 0., 0.],\n",
       "        [0., 0., 0.],\n",
       "        ...,\n",
       "        [0., 0., 0.],\n",
       "        [0., 0., 0.],\n",
       "        [0., 0., 0.]],\n",
       "\n",
       "       ...,\n",
       "\n",
       "       [[0., 0., 0.],\n",
       "        [0., 0., 0.],\n",
       "        [0., 0., 0.],\n",
       "        ...,\n",
       "        [0., 0., 0.],\n",
       "        [0., 0., 0.],\n",
       "        [0., 0., 0.]],\n",
       "\n",
       "       [[0., 0., 0.],\n",
       "        [0., 0., 0.],\n",
       "        [0., 0., 0.],\n",
       "        ...,\n",
       "        [0., 0., 0.],\n",
       "        [0., 0., 0.],\n",
       "        [0., 0., 0.]],\n",
       "\n",
       "       [[0., 0., 0.],\n",
       "        [0., 0., 0.],\n",
       "        [0., 0., 0.],\n",
       "        ...,\n",
       "        [0., 0., 0.],\n",
       "        [0., 0., 0.],\n",
       "        [0., 0., 0.]]], dtype=float32)"
      ]
     },
     "execution_count": 37,
     "metadata": {},
     "output_type": "execute_result"
    }
   ],
   "source": [
    "imread(uninfected_cell_path)\n",
    "\n",
    "# imread path'i numpy array olarak dondurur"
   ]
  },
  {
   "cell_type": "code",
   "execution_count": 38,
   "metadata": {
    "id": "5077yUK2yGI1",
    "outputId": "1212c06b-09cb-40dd-bdc1-fa14fcc1b4e8"
   },
   "outputs": [
    {
     "data": {
      "image/png": "[encoded data removed]",
      "text/plain": [
       "<Figure size 432x288 with 1 Axes>"
      ]
     },
     "metadata": {
      "needs_background": "light"
     },
     "output_type": "display_data"
    }
   ],
   "source": [
    "uninfected_cell = imread(uninfected_cell_path)\n",
    "plt.imshow(uninfected_cell);\n",
    "\n",
    "# imshow array'i gorsellestirir"
   ]
  },
  {
   "cell_type": "markdown",
   "metadata": {
    "id": "ozw3janNyGI1"
   },
   "source": [
    "**Let's check how many images there are.**"
   ]
  },
  {
   "cell_type": "code",
   "execution_count": 42,
   "metadata": {
    "id": "AyIjBX6HyGI2",
    "outputId": "71940786-1398-4eec-e8c3-0470d122cca6"
   },
   "outputs": [
    {
     "data": {
      "text/plain": [
       "12480"
      ]
     },
     "execution_count": 42,
     "metadata": {},
     "output_type": "execute_result"
    }
   ],
   "source": [
    "len(os.listdir(train_path+'parasitized'))"
   ]
  },
  {
   "cell_type": "code",
   "execution_count": 43,
   "metadata": {
    "id": "B_qqqbbjyGI2",
    "outputId": "eea581a1-b8d5-472f-8272-00cb36e6cf45"
   },
   "outputs": [
    {
     "data": {
      "text/plain": [
       "12480"
      ]
     },
     "execution_count": 43,
     "metadata": {},
     "output_type": "execute_result"
    }
   ],
   "source": [
    "len(os.listdir(train_path+'uninfected'))"
   ]
  },
  {
   "cell_type": "markdown",
   "metadata": {
    "id": "M11aEESPyGI3"
   },
   "source": [
    "**Let's find out the average dimensions of these images.**"
   ]
  },
  {
   "cell_type": "code",
   "execution_count": 44,
   "metadata": {
    "id": "hDI2g2MTyGI3",
    "outputId": "829ebf6c-380d-461a-c9c6-97a413d3fd25"
   },
   "outputs": [
    {
     "data": {
      "text/plain": [
       "(100, 106, 3)"
      ]
     },
     "execution_count": 44,
     "metadata": {},
     "output_type": "execute_result"
    }
   ],
   "source": [
    "uninfected_cell.shape"
   ]
  },
  {
   "cell_type": "code",
   "execution_count": 45,
   "metadata": {
    "id": "JmYusxi-yGI3",
    "outputId": "514cfca8-cf4d-4548-942e-4f2d127858e7"
   },
   "outputs": [
    {
     "data": {
      "text/plain": [
       "(124, 154, 3)"
      ]
     },
     "execution_count": 45,
     "metadata": {},
     "output_type": "execute_result"
    }
   ],
   "source": [
    "para_img.shape"
   ]
  },
  {
   "cell_type": "code",
   "execution_count": 46,
   "metadata": {
    "id": "KU8vN3COyGI4"
   },
   "outputs": [],
   "source": [
    "x = []\n",
    "y = []\n",
    "for image in os.listdir(test_path+'uninfected'):\n",
    "    \n",
    "    img = imread(test_path+'uninfected/'+image)\n",
    "    d1,d2,colors = img.shape\n",
    "    x.append(d1)\n",
    "    y.append(d2)"
   ]
  },
  {
   "cell_type": "code",
   "execution_count": 47,
   "metadata": {
    "id": "uN5np7FCyGI4",
    "jupyter": {
     "outputs_hidden": true
    },
    "outputId": "1da1a9cd-dd03-42e8-dd38-2f08084ec76b",
    "tags": []
   },
   "outputs": [
    {
     "data": {
      "text/plain": [
       "[127,\n",
       " 121,\n",
       " 151,\n",
       " 130,\n",
       " 124,\n",
       " 127,\n",
       " 136,\n",
       " 124,\n",
       " 124,\n",
       " 130,\n",
       " 127,\n",
       " 115,\n",
       " 154,\n",
       " 115,\n",
       " 100,\n",
       " 121,\n",
       " 151,\n",
       " 142,\n",
       " 118,\n",
       " 172]"
      ]
     },
     "execution_count": 47,
     "metadata": {},
     "output_type": "execute_result"
    }
   ],
   "source": [
    "y[:20]"
   ]
  },
  {
   "cell_type": "code",
   "execution_count": 48,
   "metadata": {},
   "outputs": [
    {
     "data": {
      "image/png": "[encoded data removed]",
      "text/plain": [
       "<Figure size 432x288 with 1 Axes>"
      ]
     },
     "metadata": {
      "needs_background": "light"
     },
     "output_type": "display_data"
    }
   ],
   "source": [
    "sns.scatterplot(x,y);"
   ]
  },
  {
   "cell_type": "code",
   "execution_count": 49,
   "metadata": {
    "id": "xkA-LSmJyGI5",
    "outputId": "45d0437a-4b69-498f-8c7a-f71694866426"
   },
   "outputs": [
    {
     "data": {
      "text/plain": [
       "130.92538461538462"
      ]
     },
     "execution_count": 49,
     "metadata": {},
     "output_type": "execute_result"
    }
   ],
   "source": [
    "np.mean(x)"
   ]
  },
  {
   "cell_type": "code",
   "execution_count": 50,
   "metadata": {
    "id": "7uqu0mzfyGI5",
    "outputId": "8bb3fcb8-00c9-4d31-bde7-9a0dafcf8120"
   },
   "outputs": [
    {
     "data": {
      "text/plain": [
       "130.75"
      ]
     },
     "execution_count": 50,
     "metadata": {},
     "output_type": "execute_result"
    }
   ],
   "source": [
    "np.mean(y)"
   ]
  },
  {
   "cell_type": "code",
   "execution_count": 51,
   "metadata": {
    "id": "E2kCYgOQyGI5"
   },
   "outputs": [],
   "source": [
    "image_shape = (130,130,3)"
   ]
  },
  {
   "cell_type": "code",
   "execution_count": 52,
   "metadata": {},
   "outputs": [
    {
     "data": {
      "text/plain": [
       "130.0"
      ]
     },
     "execution_count": 52,
     "metadata": {},
     "output_type": "execute_result"
    }
   ],
   "source": [
    "np.median(x)"
   ]
  },
  {
   "cell_type": "code",
   "execution_count": 53,
   "metadata": {},
   "outputs": [
    {
     "data": {
      "text/plain": [
       "130.0"
      ]
     },
     "execution_count": 53,
     "metadata": {},
     "output_type": "execute_result"
    }
   ],
   "source": [
    "np.median(y)"
   ]
  },
  {
   "cell_type": "markdown",
   "metadata": {
    "id": "Cc9Ey1zhyGI5"
   },
   "source": [
    "## Preparing the Data for the model"
   ]
  },
  {
   "cell_type": "code",
   "execution_count": 54,
   "metadata": {
    "id": "toDwf2JTyGI5",
    "outputId": "824c3441-edd2-4353-a2cd-83d59076dad8"
   },
   "outputs": [
    {
     "data": {
      "text/plain": [
       "0.85490197"
      ]
     },
     "execution_count": 54,
     "metadata": {},
     "output_type": "execute_result"
    }
   ],
   "source": [
    "uninfected_cell.max()"
   ]
  },
  {
   "cell_type": "code",
   "execution_count": 55,
   "metadata": {
    "id": "jgml-VO9yGI6",
    "outputId": "33f45bbd-afed-4434-ae37-2cf4c16eda9b"
   },
   "outputs": [
    {
     "data": {
      "text/plain": [
       "0.8901961"
      ]
     },
     "execution_count": 55,
     "metadata": {},
     "output_type": "execute_result"
    }
   ],
   "source": [
    "para_img.max()\n",
    "\n",
    "# zaten scale edilmis yani x/255 yapilmis"
   ]
  },
  {
   "cell_type": "code",
   "execution_count": 56,
   "metadata": {
    "id": "-da3iZnSyGI6"
   },
   "outputs": [],
   "source": [
    "from tensorflow.keras.preprocessing.image import ImageDataGenerator"
   ]
  },
  {
   "cell_type": "code",
   "execution_count": 58,
   "metadata": {
    "id": "C4jI9UIJyGI6",
    "jupyter": {
     "outputs_hidden": true
    },
    "tags": []
   },
   "outputs": [],
   "source": [
    "# help(ImageDataGenerator)"
   ]
  },
  {
   "cell_type": "code",
   "execution_count": 61,
   "metadata": {
    "id": "4hYotfXGyGI6"
   },
   "outputs": [],
   "source": [
    "image_gen = ImageDataGenerator(rotation_range=15, # (15 dereceye kadar rotate et)\n",
    "                               width_shift_range=0.10, # (%10'a kadar kaydir)\n",
    "                               height_shift_range=0.10, \n",
    "                               #rescale=1/255, (zaten yukarida scale edilmis)\n",
    "                               shear_range=0.1, # (maksimum %10'a kadar islemi yap)\n",
    "                               zoom_range=0.1, \n",
    "                               horizontal_flip=True, \n",
    "                               fill_mode='nearest')\n",
    "\n",
    "# zaten scale yapildigi icin rescale yapmamiza gerek yok\n",
    "\n",
    "# imagedatagenerator her batch size icin orijinal datayi random olarak donusturuyor ve modele\n",
    "# distorted datayi veriyor. Original datayi hicbir zaman modele vermiyor.\n",
    "# Bu donusturme isleminde random olarak bizim verdigimiz sinirlar icerisinde donusturme\n",
    "# yapiyor. Neyi yapacagina random olarak kendisi karar veriyor. Tum resimler icin kendisi\n",
    "# istedigi degisiklikleri yapiyor, boylece her resim farkli sekilde random olarak distort\n",
    "# edilmis oluyor. Modele sadece distort edilmis bu resimler veriliyor, original resimler \n",
    "# degil.\n",
    "\n",
    "# On the fly verdigi karari tum batch'e ayni sekilde uyguluyor."
   ]
  },
  {
   "cell_type": "code",
   "execution_count": 59,
   "metadata": {
    "id": "YkgwWRm0yGI7",
    "outputId": "646a473a-5a46-43af-9536-a466251d41a3"
   },
   "outputs": [
    {
     "data": {
      "image/png": "[encoded data removed]",
      "text/plain": [
       "<Figure size 432x288 with 1 Axes>"
      ]
     },
     "metadata": {
      "needs_background": "light"
     },
     "output_type": "display_data"
    }
   ],
   "source": [
    "plt.imshow(para_img);"
   ]
  },
  {
   "cell_type": "code",
   "execution_count": 62,
   "metadata": {
    "id": "JvAditu3yGI7",
    "outputId": "bac51c1c-8ca6-496b-e08d-81e55fa39c79"
   },
   "outputs": [
    {
     "data": {
      "image/png": "[encoded data removed]",
      "text/plain": [
       "<Figure size 432x288 with 1 Axes>"
      ]
     },
     "metadata": {
      "needs_background": "light"
     },
     "output_type": "display_data"
    }
   ],
   "source": [
    "plt.imshow(image_gen.random_transform(para_img));"
   ]
  },
  {
   "cell_type": "code",
   "execution_count": 63,
   "metadata": {
    "id": "iLfrSbXeyGI7",
    "outputId": "64bcdceb-98fc-4eb5-900a-35fee4971d69"
   },
   "outputs": [
    {
     "name": "stdout",
     "output_type": "stream",
     "text": [
      "Found 24958 images belonging to 2 classes.\n"
     ]
    },
    {
     "data": {
      "text/plain": [
       "<keras.preprocessing.image.DirectoryIterator at 0x7fa6cd782b50>"
      ]
     },
     "execution_count": 63,
     "metadata": {},
     "output_type": "execute_result"
    }
   ],
   "source": [
    "image_gen.flow_from_directory(train_path)\n",
    "\n",
    "# flow_from_directory ile train_path icindeki iki klasoru buluyor ve resimleri ben ozellikle\n",
    "# klasor isimlerini yazmasam da resimleri okuyabiliyor ve resimlerin parasitized mi yoksa\n",
    "# uninfected mi oldugunu aklinda tutuyor"
   ]
  },
  {
   "cell_type": "code",
   "execution_count": 64,
   "metadata": {
    "id": "1LZT1qN1yGI8",
    "outputId": "88ceea91-5c15-40b1-d05f-e8b417fdb3e7"
   },
   "outputs": [
    {
     "name": "stdout",
     "output_type": "stream",
     "text": [
      "Found 2600 images belonging to 2 classes.\n"
     ]
    },
    {
     "data": {
      "text/plain": [
       "<keras.preprocessing.image.DirectoryIterator at 0x7fa6cd85cc40>"
      ]
     },
     "execution_count": 64,
     "metadata": {},
     "output_type": "execute_result"
    }
   ],
   "source": [
    "image_gen.flow_from_directory(test_path)\n",
    "\n",
    "# 2 klasor icinde yani class'ta toplam 2600 resim test_path'inda\n",
    "\n",
    "# resimlerin path'larini, isimlerini ve ait olduklari class'lari biliyor su anda. \n",
    "# Hafizasina atmadi, image generator on the fly gerceklesiyor. Modelde her resmi \n",
    "# batch'teki sirasi geldigi zaman okuyacak."
   ]
  },
  {
   "cell_type": "markdown",
   "metadata": {
    "id": "0NEQcQp7yGI8"
   },
   "source": [
    "# Creating the Model"
   ]
  },
  {
   "cell_type": "code",
   "execution_count": 67,
   "metadata": {
    "id": "AIdvyrxlyGI8"
   },
   "outputs": [],
   "source": [
    "from tensorflow.keras.models import Sequential\n",
    "from tensorflow.keras.layers import Activation, Dropout, Flatten, Dense, Conv2D, MaxPooling2D"
   ]
  },
  {
   "cell_type": "code",
   "execution_count": 68,
   "metadata": {
    "id": "5VXwv5MnyGI8"
   },
   "outputs": [
    {
     "name": "stderr",
     "output_type": "stream",
     "text": [
      "2022-03-14 19:36:11.533201: I tensorflow/core/platform/cpu_feature_guard.cc:151] This TensorFlow binary is optimized with oneAPI Deep Neural Network Library (oneDNN) to use the following CPU instructions in performance-critical operations:  AVX2 FMA\n",
      "To enable them in other operations, rebuild TensorFlow with the appropriate compiler flags.\n"
     ]
    }
   ],
   "source": [
    "model = Sequential()\n",
    "\n",
    "model.add(Conv2D(filters=32, kernel_size=(3,3),input_shape=image_shape, activation='relu',))\n",
    "model.add(MaxPooling2D(pool_size=(2, 2)))\n",
    "\n",
    "model.add(Conv2D(filters=64, kernel_size=(3,3), activation='relu',))\n",
    "model.add(MaxPooling2D(pool_size=(2, 2)))\n",
    "\n",
    "model.add(Conv2D(filters=64, kernel_size=(3,3), activation='relu',))\n",
    "model.add(MaxPooling2D(pool_size=(2, 2)))\n",
    "\n",
    "\n",
    "model.add(Flatten())\n",
    "\n",
    "\n",
    "model.add(Dense(128))\n",
    "model.add(Activation('relu'))\n",
    "\n",
    "model.add(Dropout(0.5))\n",
    "\n",
    "model.add(Dense(1))\n",
    "model.add(Activation('sigmoid'))\n",
    "\n",
    "model.compile(loss='binary_crossentropy',\n",
    "              optimizer='adam',\n",
    "              metrics=['accuracy'])\n",
    "\n",
    "# modelin overfit olmasi durumunda early stopping, dropout ve batch normalization \n",
    "# kullanilabilir"
   ]
  },
  {
   "cell_type": "code",
   "execution_count": 69,
   "metadata": {
    "id": "_QJoTfEdyGI9",
    "outputId": "9a61bdf1-5548-4302-fb60-82fd199d64e0"
   },
   "outputs": [
    {
     "name": "stdout",
     "output_type": "stream",
     "text": [
      "Model: \"sequential\"\n",
      "_________________________________________________________________\n",
      " Layer (type)                Output Shape              Param #   \n",
      "=================================================================\n",
      " conv2d (Conv2D)             (None, 128, 128, 32)      896       \n",
      "                                                                 \n",
      " max_pooling2d (MaxPooling2D  (None, 64, 64, 32)       0         \n",
      " )                                                               \n",
      "                                                                 \n",
      " conv2d_1 (Conv2D)           (None, 62, 62, 64)        18496     \n",
      "                                                                 \n",
      " max_pooling2d_1 (MaxPooling  (None, 31, 31, 64)       0         \n",
      " 2D)                                                             \n",
      "                                                                 \n",
      " conv2d_2 (Conv2D)           (None, 29, 29, 64)        36928     \n",
      "                                                                 \n",
      " max_pooling2d_2 (MaxPooling  (None, 14, 14, 64)       0         \n",
      " 2D)                                                             \n",
      "                                                                 \n",
      " flatten (Flatten)           (None, 12544)             0         \n",
      "                                                                 \n",
      " dense (Dense)               (None, 128)               1605760   \n",
      "                                                                 \n",
      " activation (Activation)     (None, 128)               0         \n",
      "                                                                 \n",
      " dropout (Dropout)           (None, 128)               0         \n",
      "                                                                 \n",
      " dense_1 (Dense)             (None, 1)                 129       \n",
      "                                                                 \n",
      " activation_1 (Activation)   (None, 1)                 0         \n",
      "                                                                 \n",
      "=================================================================\n",
      "Total params: 1,662,209\n",
      "Trainable params: 1,662,209\n",
      "Non-trainable params: 0\n",
      "_________________________________________________________________\n"
     ]
    }
   ],
   "source": [
    "model.summary()"
   ]
  },
  {
   "cell_type": "markdown",
   "metadata": {
    "id": "j42pXlqfyGI9"
   },
   "source": [
    "## Early Stopping"
   ]
  },
  {
   "cell_type": "code",
   "execution_count": 70,
   "metadata": {
    "id": "42_fU9BgyGI9"
   },
   "outputs": [],
   "source": [
    "from tensorflow.keras.callbacks import EarlyStopping"
   ]
  },
  {
   "cell_type": "code",
   "execution_count": 71,
   "metadata": {
    "id": "iK59XS1qyGI-"
   },
   "outputs": [],
   "source": [
    "early_stop = EarlyStopping(monitor='val_loss',patience=5)"
   ]
  },
  {
   "cell_type": "markdown",
   "metadata": {
    "id": "QrN3SdBmyGI-"
   },
   "source": [
    "## Training the Model"
   ]
  },
  {
   "cell_type": "code",
   "execution_count": 72,
   "metadata": {
    "id": "_eXPvbMnyGI_"
   },
   "outputs": [],
   "source": [
    "# help(image_gen.flow_from_directory)"
   ]
  },
  {
   "cell_type": "code",
   "execution_count": 73,
   "metadata": {
    "id": "SIBZVLaIyGI_",
    "outputId": "324f6b80-334b-48c8-b5d1-c2c0ece1f279"
   },
   "outputs": [
    {
     "name": "stdout",
     "output_type": "stream",
     "text": [
      "Found 24958 images belonging to 2 classes.\n"
     ]
    }
   ],
   "source": [
    "batch_size = 16 # 64'ten fazla yapilmaz genelde\n",
    "train_image_gen = image_gen.flow_from_directory(train_path,\n",
    "                                               target_size=image_shape[:2],\n",
    "                                               color_mode='rgb',\n",
    "                                               batch_size=batch_size,\n",
    "                                               class_mode='binary', # iki class var\n",
    "                                               shuffle=True,\n",
    "                                               seed=42)"
   ]
  },
  {
   "cell_type": "code",
   "execution_count": 74,
   "metadata": {
    "id": "knuURbmnyGI_",
    "outputId": "3a84a79f-711f-4129-8775-976d94e03ba3"
   },
   "outputs": [
    {
     "name": "stdout",
     "output_type": "stream",
     "text": [
      "Found 2600 images belonging to 2 classes.\n"
     ]
    }
   ],
   "source": [
    "test_image_gen = image_gen.flow_from_directory(test_path,\n",
    "                                               target_size=image_shape[:2],\n",
    "                                               color_mode='rgb',\n",
    "                                               batch_size=batch_size,\n",
    "                                               class_mode='binary',\n",
    "                                               shuffle=True,\n",
    "                                               seed=42)"
   ]
  },
  {
   "cell_type": "code",
   "execution_count": 75,
   "metadata": {
    "id": "12yCh0kEyGJA",
    "outputId": "5c6de2ac-1210-47ad-a0d5-abf72b0d0a94"
   },
   "outputs": [
    {
     "data": {
      "text/plain": [
       "{'parasitized': 0, 'uninfected': 1}"
      ]
     },
     "execution_count": 75,
     "metadata": {},
     "output_type": "execute_result"
    }
   ],
   "source": [
    "train_image_gen.class_indices"
   ]
  },
  {
   "cell_type": "code",
   "execution_count": 76,
   "metadata": {},
   "outputs": [
    {
     "data": {
      "text/plain": [
       "{'parasitized': 0, 'uninfected': 1}"
      ]
     },
     "execution_count": 76,
     "metadata": {},
     "output_type": "execute_result"
    }
   ],
   "source": [
    "test_image_gen.class_indices"
   ]
  },
  {
   "cell_type": "code",
   "execution_count": 77,
   "metadata": {},
   "outputs": [],
   "source": [
    "step_size_train=train_image_gen.n//train_image_gen.batch_size\n",
    "step_size_test=test_image_gen.n//test_image_gen.batch_size"
   ]
  },
  {
   "cell_type": "code",
   "execution_count": 78,
   "metadata": {},
   "outputs": [
    {
     "data": {
      "text/plain": [
       "(1559, 162)"
      ]
     },
     "execution_count": 78,
     "metadata": {},
     "output_type": "execute_result"
    }
   ],
   "source": [
    "step_size_train, step_size_test"
   ]
  },
  {
   "cell_type": "code",
   "execution_count": 79,
   "metadata": {
    "id": "jSYdC6x_yGJA",
    "outputId": "ec9681ce-40df-4034-c4d4-bcff9919b2c4",
    "scrolled": true,
    "tags": []
   },
   "outputs": [],
   "source": [
    "results = model.fit_generator(train_image_gen,epochs=8,\n",
    "                              validation_data=test_image_gen, \n",
    "                              steps_per_epoch=step_size_train,\n",
    "                              validation_steps=step_size_test,\n",
    "                              callbacks=[early_stop])"
   ]
  },
  {
   "cell_type": "markdown",
   "metadata": {
    "id": "vZn8PTMVyGJA",
    "tags": []
   },
   "source": [
    "# Evaluating the Model"
   ]
  },
  {
   "cell_type": "code",
   "execution_count": 103,
   "metadata": {
    "id": "loJLAh7syGJA",
    "outputId": "7a13b0d0-c2ef-4449-ace2-cdaaf4bd15d2"
   },
   "outputs": [
    {
     "data": {
      "text/html": [
       "<div>\n",
       "<style scoped>\n",
       "    .dataframe tbody tr th:only-of-type {\n",
       "        vertical-align: middle;\n",
       "    }\n",
       "\n",
       "    .dataframe tbody tr th {\n",
       "        vertical-align: top;\n",
       "    }\n",
       "\n",
       "    .dataframe thead th {\n",
       "        text-align: right;\n",
       "    }\n",
       "</style>\n",
       "<table border=\"1\" class=\"dataframe\">\n",
       "  <thead>\n",
       "    <tr style=\"text-align: right;\">\n",
       "      <th></th>\n",
       "      <th>loss</th>\n",
       "      <th>accuracy</th>\n",
       "      <th>val_loss</th>\n",
       "      <th>val_accuracy</th>\n",
       "    </tr>\n",
       "  </thead>\n",
       "  <tbody>\n",
       "    <tr>\n",
       "      <th>0</th>\n",
       "      <td>0.765028</td>\n",
       "      <td>0.555894</td>\n",
       "      <td>0.676724</td>\n",
       "      <td>0.577308</td>\n",
       "    </tr>\n",
       "    <tr>\n",
       "      <th>1</th>\n",
       "      <td>0.676100</td>\n",
       "      <td>0.586505</td>\n",
       "      <td>0.664452</td>\n",
       "      <td>0.605769</td>\n",
       "    </tr>\n",
       "    <tr>\n",
       "      <th>2</th>\n",
       "      <td>0.671139</td>\n",
       "      <td>0.597404</td>\n",
       "      <td>0.660153</td>\n",
       "      <td>0.615385</td>\n",
       "    </tr>\n",
       "    <tr>\n",
       "      <th>3</th>\n",
       "      <td>0.667306</td>\n",
       "      <td>0.601410</td>\n",
       "      <td>0.660128</td>\n",
       "      <td>0.620769</td>\n",
       "    </tr>\n",
       "    <tr>\n",
       "      <th>4</th>\n",
       "      <td>0.660645</td>\n",
       "      <td>0.614512</td>\n",
       "      <td>0.656352</td>\n",
       "      <td>0.622308</td>\n",
       "    </tr>\n",
       "  </tbody>\n",
       "</table>\n",
       "</div>"
      ],
      "text/plain": [
       "       loss  accuracy  val_loss  val_accuracy\n",
       "0  0.765028  0.555894  0.676724      0.577308\n",
       "1  0.676100  0.586505  0.664452      0.605769\n",
       "2  0.671139  0.597404  0.660153      0.615385\n",
       "3  0.667306  0.601410  0.660128      0.620769\n",
       "4  0.660645  0.614512  0.656352      0.622308"
      ]
     },
     "execution_count": 103,
     "metadata": {},
     "output_type": "execute_result"
    }
   ],
   "source": [
    "summary = pd.DataFrame(model.history.history)\n",
    "summary.head()"
   ]
  },
  {
   "cell_type": "code",
   "execution_count": 104,
   "metadata": {
    "id": "u2grfsQmyGJB",
    "outputId": "654ad712-fbd1-46e5-971f-10905180b4a3"
   },
   "outputs": [
    {
     "data": {
      "image/png": "[encoded data removed]",
      "text/plain": [
       "<Figure size 720x432 with 1 Axes>"
      ]
     },
     "metadata": {
      "needs_background": "light"
     },
     "output_type": "display_data"
    }
   ],
   "source": [
    "plt.figure(figsize=(10,6))\n",
    "plt.plot(summary.loss, label=\"loss\")\n",
    "plt.plot(summary.val_loss, label=\"val_loss\")\n",
    "plt.legend(loc=\"upper right\")\n",
    "plt.ylabel(\"Loss\")\n",
    "plt.xlabel(\"Epoch\")\n",
    "plt.show()"
   ]
  },
  {
   "cell_type": "code",
   "execution_count": 105,
   "metadata": {
    "id": "jD4KIrKnyGJB",
    "outputId": "43e5a572-e8e9-422c-9f8e-3f86bb6dc979"
   },
   "outputs": [
    {
     "data": {
      "image/png": "[encoded data removed]",
      "text/plain": [
       "<Figure size 720x432 with 1 Axes>"
      ]
     },
     "metadata": {
      "needs_background": "light"
     },
     "output_type": "display_data"
    }
   ],
   "source": [
    "plt.figure(figsize=(10,6))\n",
    "plt.plot(summary.accuracy, label=\"accuracy\")\n",
    "plt.plot(summary.val_accuracy, label=\"val_accuracy\")\n",
    "plt.legend(loc=\"upper left\")\n",
    "plt.ylabel(\"Accuracy\")\n",
    "plt.xlabel(\"Epoch\")\n",
    "plt.show()"
   ]
  },
  {
   "cell_type": "code",
   "execution_count": 106,
   "metadata": {
    "id": "GTPA47R7yGJB",
    "outputId": "164c2da2-7f9f-4989-92a3-23dea02fe67e"
   },
   "outputs": [
    {
     "data": {
      "text/plain": [
       "['loss', 'accuracy']"
      ]
     },
     "execution_count": 106,
     "metadata": {},
     "output_type": "execute_result"
    }
   ],
   "source": [
    "model.metrics_names"
   ]
  },
  {
   "cell_type": "code",
   "execution_count": 107,
   "metadata": {
    "id": "lnTF0Q66yGJB",
    "outputId": "a8ce4d56-298f-4e35-a9ad-9997e9eca598"
   },
   "outputs": [
    {
     "data": {
      "text/plain": [
       "[0.182359978556633, 0.9338461756706238]"
      ]
     },
     "execution_count": 107,
     "metadata": {},
     "output_type": "execute_result"
    }
   ],
   "source": [
    "model.evaluate_generator(test_image_gen)"
   ]
  },
  {
   "cell_type": "code",
   "execution_count": 108,
   "metadata": {
    "id": "ZCo0yg6PyGJC"
   },
   "outputs": [],
   "source": [
    "from tensorflow.keras.preprocessing import image"
   ]
  },
  {
   "cell_type": "code",
   "execution_count": 109,
   "metadata": {
    "id": "2aSpYj9LyGJC"
   },
   "outputs": [],
   "source": [
    "pred_probabilities = model.predict_generator(test_image_gen)"
   ]
  },
  {
   "cell_type": "code",
   "execution_count": 110,
   "metadata": {
    "id": "5jVh9p-1yGJC",
    "outputId": "995852ca-8b58-409c-857c-4e1bd2263a6f"
   },
   "outputs": [
    {
     "data": {
      "text/plain": [
       "array([[4.2922911e-04],\n",
       "       [6.8679762e-01],\n",
       "       [6.4223586e-03],\n",
       "       ...,\n",
       "       [4.8023220e-03],\n",
       "       [8.2330519e-01],\n",
       "       [3.0595627e-05]], dtype=float32)"
      ]
     },
     "execution_count": 110,
     "metadata": {},
     "output_type": "execute_result"
    }
   ],
   "source": [
    "pred_probabilities"
   ]
  },
  {
   "cell_type": "code",
   "execution_count": 111,
   "metadata": {
    "id": "d6fxjzltyGJC",
    "outputId": "d17145e2-3fcb-4df9-97aa-d6a708e06e8f"
   },
   "outputs": [
    {
     "data": {
      "text/plain": [
       "array([0, 0, 0, ..., 1, 1, 1], dtype=int32)"
      ]
     },
     "execution_count": 111,
     "metadata": {},
     "output_type": "execute_result"
    }
   ],
   "source": [
    "test_image_gen.classes"
   ]
  },
  {
   "cell_type": "code",
   "execution_count": 112,
   "metadata": {
    "id": "cfC-SV7xyGJC"
   },
   "outputs": [],
   "source": [
    "predictions = pred_probabilities > 0.5"
   ]
  },
  {
   "cell_type": "code",
   "execution_count": 113,
   "metadata": {
    "id": "jbQXSglqyGJD",
    "outputId": "7b8fbfb6-e0df-4115-ab06-20690eeb2aee"
   },
   "outputs": [
    {
     "data": {
      "text/plain": [
       "array([[False],\n",
       "       [ True],\n",
       "       [False],\n",
       "       ...,\n",
       "       [False],\n",
       "       [ True],\n",
       "       [False]])"
      ]
     },
     "execution_count": 113,
     "metadata": {},
     "output_type": "execute_result"
    }
   ],
   "source": [
    "predictions"
   ]
  },
  {
   "cell_type": "code",
   "execution_count": 114,
   "metadata": {
    "id": "XAdk4L8WyGJD"
   },
   "outputs": [],
   "source": [
    "from sklearn.metrics import classification_report,confusion_matrix"
   ]
  },
  {
   "cell_type": "code",
   "execution_count": 115,
   "metadata": {
    "id": "O-YOZuolyGJD",
    "outputId": "de6a65a3-5ebc-44ed-97a5-7ce731a995d2"
   },
   "outputs": [
    {
     "name": "stdout",
     "output_type": "stream",
     "text": [
      "              precision    recall  f1-score   support\n",
      "\n",
      "           0       0.50      0.50      0.50      1300\n",
      "           1       0.50      0.50      0.50      1300\n",
      "\n",
      "    accuracy                           0.50      2600\n",
      "   macro avg       0.50      0.50      0.50      2600\n",
      "weighted avg       0.50      0.50      0.50      2600\n",
      "\n"
     ]
    }
   ],
   "source": [
    "print(classification_report(test_image_gen.classes,predictions))"
   ]
  },
  {
   "cell_type": "code",
   "execution_count": 116,
   "metadata": {
    "id": "OaLqsbwyyGJD",
    "outputId": "c51e82e1-66f7-49a2-a19e-ecdb8e8db13b"
   },
   "outputs": [
    {
     "data": {
      "text/plain": [
       "array([[655, 645],\n",
       "       [654, 646]])"
      ]
     },
     "execution_count": 116,
     "metadata": {},
     "output_type": "execute_result"
    }
   ],
   "source": [
    "confusion_matrix(test_image_gen.classes,predictions)"
   ]
  },
  {
   "cell_type": "code",
   "execution_count": null,
   "metadata": {
    "id": "XFsDYmx1yGJF"
   },
   "outputs": [],
   "source": [
    "model.save('malaria_model.h5')"
   ]
  },
  {
   "cell_type": "markdown",
   "metadata": {
    "id": "oQB-AVGRyGJF"
   },
   "source": [
    "# Predicting on an Image"
   ]
  },
  {
   "cell_type": "code",
   "execution_count": 117,
   "metadata": {
    "id": "z1EX1D1ryGJF",
    "outputId": "66ef66b1-2e07-490d-b6b6-5097baac5f13"
   },
   "outputs": [
    {
     "data": {
      "text/plain": [
       "'/home/katze/datasets/cell_images/train/parasitized/C100P61ThinF_IMG_20150918_144104_cell_169.png'"
      ]
     },
     "execution_count": 117,
     "metadata": {},
     "output_type": "execute_result"
    }
   ],
   "source": [
    "para_cell"
   ]
  },
  {
   "cell_type": "code",
   "execution_count": 118,
   "metadata": {
    "id": "xJnaWQcnyGJF"
   },
   "outputs": [],
   "source": [
    "my_image = image.load_img(para_cell,target_size=image_shape)\n",
    "\n",
    "# burada para_cell'i numpy array'a donusturmeden image'e donusturursek resim distorted olur"
   ]
  },
  {
   "cell_type": "code",
   "execution_count": null,
   "metadata": {},
   "outputs": [],
   "source": [
    "tf.keras.preprocessing.image.smart_resize(para_img, image_shape)\n",
    "\n",
    "# distortion'i engellemek icin smart_resize yapabiliriz. Bunun icin de para_cell yerine\n",
    "# bunu numpy array'e donusturdugumuz para_img'yi image_shape ile donusturebiliriz\n",
    "# Bu sekilde distortion olmayacak"
   ]
  },
  {
   "cell_type": "code",
   "execution_count": 119,
   "metadata": {
    "id": "Vj1KNBEnyGJG",
    "outputId": "1b6f75fd-9c6e-4a66-caeb-f158e11bdaa3"
   },
   "outputs": [
    {
     "data": {
      "image/png": "[encoded data removed]",
      "text/plain": [
       "<PIL.Image.Image image mode=RGB size=130x130 at 0x7F93F500FDF0>"
      ]
     },
     "execution_count": 119,
     "metadata": {},
     "output_type": "execute_result"
    }
   ],
   "source": [
    "my_image"
   ]
  },
  {
   "cell_type": "code",
   "execution_count": 120,
   "metadata": {
    "id": "RAomlcwXyGJG",
    "outputId": "47c6cf9d-93ca-488a-9759-1213df51f0c2"
   },
   "outputs": [
    {
     "data": {
      "text/plain": [
       "PIL.Image.Image"
      ]
     },
     "execution_count": 120,
     "metadata": {},
     "output_type": "execute_result"
    }
   ],
   "source": [
    "type(my_image)"
   ]
  },
  {
   "cell_type": "code",
   "execution_count": 121,
   "metadata": {
    "id": "h_8_dFYOyGJH"
   },
   "outputs": [],
   "source": [
    "my_image = image.img_to_array(my_image)"
   ]
  },
  {
   "cell_type": "code",
   "execution_count": 122,
   "metadata": {
    "id": "x0SDzKj1yGJH",
    "outputId": "8c838e0a-d3e2-4d37-fe77-3cd0ab98b6f6"
   },
   "outputs": [
    {
     "data": {
      "text/plain": [
       "numpy.ndarray"
      ]
     },
     "execution_count": 122,
     "metadata": {},
     "output_type": "execute_result"
    }
   ],
   "source": [
    "type(my_image)"
   ]
  },
  {
   "cell_type": "code",
   "execution_count": 123,
   "metadata": {
    "id": "PQaOgbqoyGJH",
    "outputId": "23dba4e4-c921-41e2-f8d2-7a1a9fc67f49"
   },
   "outputs": [
    {
     "data": {
      "text/plain": [
       "(130, 130, 3)"
      ]
     },
     "execution_count": 123,
     "metadata": {},
     "output_type": "execute_result"
    }
   ],
   "source": [
    "my_image.shape"
   ]
  },
  {
   "cell_type": "code",
   "execution_count": 124,
   "metadata": {
    "id": "5oQ9QaVpyGJH"
   },
   "outputs": [],
   "source": [
    "my_image = np.expand_dims(my_image, axis=0)\n",
    "\n",
    "# 0'inci axis'e bir tane 1 ekle diyoruz burada\n",
    "# bunu yapiyoruz cunku my_image 3 boyutlu iken modeli biz 4 boyutla egittik. Bu sebeple \n",
    "# image'imizi 4 boyuta donusturuyoruz"
   ]
  },
  {
   "cell_type": "code",
   "execution_count": 125,
   "metadata": {
    "id": "lqAXKrXqyGJH",
    "outputId": "b87c2253-8e69-4bca-ef32-73898c1f7fac"
   },
   "outputs": [
    {
     "data": {
      "text/plain": [
       "(1, 130, 130, 3)"
      ]
     },
     "execution_count": 125,
     "metadata": {},
     "output_type": "execute_result"
    }
   ],
   "source": [
    "my_image.shape"
   ]
  },
  {
   "cell_type": "code",
   "execution_count": 126,
   "metadata": {
    "id": "kANFISzNyGJI",
    "outputId": "add100ac-1459-46e8-c82f-188b4d9171b3"
   },
   "outputs": [
    {
     "data": {
      "text/plain": [
       "array([[0.00085365]], dtype=float32)"
      ]
     },
     "execution_count": 126,
     "metadata": {},
     "output_type": "execute_result"
    }
   ],
   "source": [
    "model.predict(my_image)"
   ]
  },
  {
   "cell_type": "code",
   "execution_count": 127,
   "metadata": {
    "id": "XZqaf6IbyGJI",
    "outputId": "a12ef9c6-ddb4-4927-8133-53c7f26267ca"
   },
   "outputs": [
    {
     "data": {
      "text/plain": [
       "{'parasitized': 0, 'uninfected': 1}"
      ]
     },
     "execution_count": 127,
     "metadata": {},
     "output_type": "execute_result"
    }
   ],
   "source": [
    "train_image_gen.class_indices"
   ]
  },
  {
   "cell_type": "code",
   "execution_count": 128,
   "metadata": {
    "id": "PcaLwwCPyGJI",
    "outputId": "daf91bcb-83f0-4f05-d1b1-ec8d642219cd"
   },
   "outputs": [
    {
     "data": {
      "text/plain": [
       "{'parasitized': 0, 'uninfected': 1}"
      ]
     },
     "execution_count": 128,
     "metadata": {},
     "output_type": "execute_result"
    }
   ],
   "source": [
    "test_image_gen.class_indices"
   ]
  },
  {
   "cell_type": "code",
   "execution_count": null,
   "metadata": {
    "id": "P9I5qw9tyGJJ"
   },
   "outputs": [],
   "source": []
  }
 ],
 "metadata": {
  "colab": {
   "name": "DL-S7 (CNN Image Classification-Malaria)-03 Nov 2021.ipynb",
   "provenance": []
  },
  "kernelspec": {
   "display_name": "Python 3 (ipykernel)",
   "language": "python",
   "name": "python3"
  },
  "language_info": {
   "codemirror_mode": {
    "name": "ipython",
    "version": 3
   },
   "file_extension": ".py",
   "mimetype": "text/x-python",
   "name": "python",
   "nbconvert_exporter": "python",
   "pygments_lexer": "ipython3",
   "version": "3.9.7"
  }
 },
 "nbformat": 4,
 "nbformat_minor": 4
}
