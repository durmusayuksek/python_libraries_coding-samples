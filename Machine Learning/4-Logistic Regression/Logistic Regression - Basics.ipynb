{
 "cells": [
  {
   "cell_type": "code",
   "execution_count": 1,
   "metadata": {},
   "outputs": [],
   "source": [
    "from sklearn.datasets import make_classification\n",
    "from matplotlib import pyplot as plt\n",
    "from sklearn.linear_model import LogisticRegression\n",
    "from sklearn.model_selection import train_test_split\n",
    "from sklearn.metrics import confusion_matrix\n",
    "import pandas as pd"
   ]
  },
  {
   "cell_type": "code",
   "execution_count": 15,
   "metadata": {},
   "outputs": [],
   "source": [
    "# Generate and dataset for Logistic Regression\n",
    "X, y = make_classification(\n",
    "    n_samples=100,\n",
    "    n_features=1,\n",
    "    n_classes=2,\n",
    "    n_clusters_per_class=1,\n",
    "    flip_y=0.03,\n",
    "    n_informative=1,\n",
    "    n_redundant=0,\n",
    "    n_repeated=0\n",
    ")"
   ]
  },
  {
   "cell_type": "code",
   "execution_count": 16,
   "metadata": {},
   "outputs": [
    {
     "name": "stdout",
     "output_type": "stream",
     "text": [
      "[[-0.82140593]\n",
      " [ 0.96381213]\n",
      " [-1.13760589]\n",
      " [ 0.94888834]\n",
      " [ 1.02275609]\n",
      " [-0.82395238]\n",
      " [ 0.90003119]\n",
      " [-0.97691787]\n",
      " [-1.04033606]\n",
      " [-1.09041294]\n",
      " [ 1.08328813]\n",
      " [-1.00200772]\n",
      " [-0.99462257]\n",
      " [ 0.92567574]\n",
      " [ 0.92208397]\n",
      " [-0.89230625]\n",
      " [-0.69966664]\n",
      " [ 1.05374238]\n",
      " [-0.99685072]\n",
      " [-0.97665045]\n",
      " [ 0.92111688]\n",
      " [ 1.02026531]\n",
      " [ 0.95512683]\n",
      " [ 0.99165534]\n",
      " [ 0.91976123]\n",
      " [-1.06504829]\n",
      " [-1.03855017]\n",
      " [-0.937898  ]\n",
      " [-0.92322831]\n",
      " [ 0.97704294]\n",
      " [-0.81087392]\n",
      " [ 0.97683945]\n",
      " [-0.95726767]\n",
      " [-1.00161649]\n",
      " [ 1.00360561]\n",
      " [ 0.98565917]\n",
      " [ 0.94480307]\n",
      " [-0.80712709]\n",
      " [ 0.88588456]\n",
      " [-1.16689824]\n",
      " [-1.09263554]\n",
      " [ 1.06848659]\n",
      " [ 1.01913548]\n",
      " [ 0.99510304]\n",
      " [ 1.02661348]\n",
      " [ 0.95509682]\n",
      " [ 0.97220176]\n",
      " [ 1.02839497]\n",
      " [ 0.93975022]\n",
      " [-1.07927985]\n",
      " [-1.13837611]\n",
      " [-1.09220293]\n",
      " [ 0.95596137]\n",
      " [ 0.92519981]\n",
      " [-1.06955798]\n",
      " [-1.00163895]\n",
      " [ 0.99761237]\n",
      " [-0.87753399]\n",
      " [-1.01383694]\n",
      " [-0.90772852]\n",
      " [-0.81483973]\n",
      " [-1.06450769]\n",
      " [-0.97022239]\n",
      " [-0.91480613]\n",
      " [ 0.9239401 ]\n",
      " [ 1.0313655 ]\n",
      " [ 0.91390454]\n",
      " [ 0.9393308 ]\n",
      " [ 1.01092743]\n",
      " [-1.12271081]\n",
      " [-0.926029  ]\n",
      " [ 1.07474247]\n",
      " [ 0.9669695 ]\n",
      " [-0.8929402 ]\n",
      " [ 0.89620831]\n",
      " [-0.82177367]\n",
      " [-1.11610071]\n",
      " [ 1.04682825]\n",
      " [-0.79673586]\n",
      " [ 0.95871833]\n",
      " [-1.00765972]\n",
      " [-0.97481341]\n",
      " [ 1.05140969]\n",
      " [ 1.02595703]\n",
      " [ 1.12888836]\n",
      " [ 0.96791869]\n",
      " [-1.08171616]\n",
      " [-1.1136881 ]\n",
      " [-0.92648198]\n",
      " [-0.92867305]\n",
      " [-0.80582404]\n",
      " [-1.14260526]\n",
      " [ 0.92096335]\n",
      " [-0.81150387]\n",
      " [ 1.0419087 ]\n",
      " [ 0.93588268]\n",
      " [-1.15740916]\n",
      " [ 0.87237856]\n",
      " [ 1.02441415]\n",
      " [ 1.04011822]]\n"
     ]
    }
   ],
   "source": [
    "print(X)"
   ]
  },
  {
   "cell_type": "code",
   "execution_count": 17,
   "metadata": {},
   "outputs": [
    {
     "name": "stdout",
     "output_type": "stream",
     "text": [
      "[0 1 0 1 1 0 1 0 0 0 1 0 0 1 1 0 0 1 0 0 1 1 1 1 1 0 0 0 0 1 0 1 0 0 1 1 1\n",
      " 0 1 0 0 1 1 1 1 1 1 1 1 0 0 0 1 1 0 0 1 0 0 0 0 0 0 0 1 1 1 1 1 0 0 1 1 0\n",
      " 1 0 0 1 0 1 0 0 1 1 1 1 0 0 0 0 0 0 1 0 1 1 0 1 1 1]\n"
     ]
    }
   ],
   "source": [
    "print(y)"
   ]
  },
  {
   "cell_type": "code",
   "execution_count": 18,
   "metadata": {},
   "outputs": [
    {
     "data": {
      "image/png": "[encoded data removed]",
      "text/plain": [
       "<Figure size 432x288 with 1 Axes>"
      ]
     },
     "metadata": {
      "needs_background": "light"
     },
     "output_type": "display_data"
    }
   ],
   "source": [
    "# Create a scatter plot\n",
    "plt.scatter(X, y, c=y, cmap='rainbow')\n",
    "plt.title('Scatter Plot of Logistic Regression')\n",
    "plt.show()"
   ]
  },
  {
   "cell_type": "code",
   "execution_count": 19,
   "metadata": {},
   "outputs": [],
   "source": [
    "# Split the dataset into training and test dataset\n",
    "X_train, X_test, y_train, y_test = train_test_split(X, y, random_state=1)"
   ]
  },
  {
   "cell_type": "code",
   "execution_count": 20,
   "metadata": {},
   "outputs": [
    {
     "data": {
      "text/plain": [
       "(75, 1)"
      ]
     },
     "execution_count": 20,
     "metadata": {},
     "output_type": "execute_result"
    }
   ],
   "source": [
    "X_train.shape"
   ]
  },
  {
   "cell_type": "code",
   "execution_count": 21,
   "metadata": {},
   "outputs": [
    {
     "data": {
      "text/plain": [
       "LogisticRegression()"
      ]
     },
     "execution_count": 21,
     "metadata": {},
     "output_type": "execute_result"
    }
   ],
   "source": [
    "# Create a Logistic Regression Object, perform Logistic Regression\n",
    "log_reg = LogisticRegression()\n",
    "log_reg.fit(X_train, y_train)"
   ]
  },
  {
   "cell_type": "code",
   "execution_count": 23,
   "metadata": {},
   "outputs": [
    {
     "name": "stdout",
     "output_type": "stream",
     "text": [
      "[[3.18473309]]\n",
      "[-0.01752059]\n"
     ]
    }
   ],
   "source": [
    "# Show to Coeficient and Intercept\n",
    "print(log_reg.coef_)\n",
    "print(log_reg.intercept_)"
   ]
  },
  {
   "cell_type": "code",
   "execution_count": 24,
   "metadata": {},
   "outputs": [],
   "source": [
    "# Perform prediction using the test dataset\n",
    "y_pred = log_reg.predict(X_test)"
   ]
  },
  {
   "cell_type": "code",
   "execution_count": 25,
   "metadata": {},
   "outputs": [
    {
     "data": {
      "text/plain": [
       "array([[13,  0],\n",
       "       [ 0, 12]])"
      ]
     },
     "execution_count": 25,
     "metadata": {},
     "output_type": "execute_result"
    }
   ],
   "source": [
    "# Show the Confusion Matrix\n",
    "confusion_matrix(y_test, y_pred)"
   ]
  },
  {
   "cell_type": "code",
   "execution_count": null,
   "metadata": {},
   "outputs": [],
   "source": []
  }
 ],
 "metadata": {
  "kernelspec": {
   "display_name": "Python 3 (ipykernel)",
   "language": "python",
   "name": "python3"
  },
  "language_info": {
   "codemirror_mode": {
    "name": "ipython",
    "version": 3
   },
   "file_extension": ".py",
   "mimetype": "text/x-python",
   "name": "python",
   "nbconvert_exporter": "python",
   "pygments_lexer": "ipython3",
   "version": "3.9.7"
  }
 },
 "nbformat": 4,
 "nbformat_minor": 4
}
