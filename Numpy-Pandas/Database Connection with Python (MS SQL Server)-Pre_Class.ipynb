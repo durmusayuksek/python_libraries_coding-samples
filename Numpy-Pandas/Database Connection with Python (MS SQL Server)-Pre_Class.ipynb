{
 "cells": [
  {
   "cell_type": "code",
   "execution_count": 2,
   "metadata": {},
   "outputs": [],
   "source": [
    "# Connecting to MS SQL Server from Python with PyODBC\n",
    "# pip install pyodbc"
   ]
  },
  {
   "cell_type": "code",
   "execution_count": null,
   "metadata": {},
   "outputs": [],
   "source": [
    "# Connecting to MS SQL Server\n",
    "\n",
    "import pyodbc\n",
    "\n",
    "def create_server_connection(driver, server, database, user, password):\n",
    "    conn = None\n",
    "    try:\n",
    "                conn = pyodbc.connect(DRIVER = driver, SERVER = server, DATABASE = database, UID = user, \\\n",
    "                                      PWD = password)\n",
    "                print(\"MS SQL Server Database connection successful\")\n",
    "    except Error as err:\n",
    "        print(f\"Error: '{err}'\")\n",
    "    return conn\n",
    "\n",
    "\n",
    "driver = '{ODBC Driver 17 for SQL Server}'\n",
    "server = 'localhost' \n",
    "database = 'master' \n",
    "user = 'sa' \n",
    "password = 'xxx' # kendi password'umuz\n",
    "conn = create_server_connection(driver, server, database, user, password)\n",
    "\n",
    "# MS SQL Server Database connection successful"
   ]
  },
  {
   "cell_type": "code",
   "execution_count": null,
   "metadata": {},
   "outputs": [],
   "source": [
    "# Creating a New Database\n",
    "\n",
    "def create_database(conn, create_database_query):\n",
    "    csr = conn.cursor()\n",
    "    try:\n",
    "        csr.execute(create_database_query)\n",
    "        print(\"Database created successfully\")\n",
    "    except Error as err:\n",
    "        print(f\"Error: '{err}'\")\n",
    "    \n",
    "\n",
    "conn.autocommit = True\n",
    "create_database_query = 'CREATE DATABASE TestDB'\n",
    "create_database(conn, create_database_query)\n",
    "\n",
    "# Database created successfully"
   ]
  },
  {
   "cell_type": "code",
   "execution_count": null,
   "metadata": {},
   "outputs": [],
   "source": [
    "# Creating a Query Execution Function\n",
    "\n",
    "def execute_query(conn, query):\n",
    "    csr = conn.cursor()\n",
    "    try:\n",
    "        csr.execute(query)\n",
    "        conn.commit()\n",
    "        print(\"Query successful\")\n",
    "    \n",
    "    except Error as err:\n",
    "        print(f\"Error: '{err}'\")\n",
    "\n",
    "\n",
    "query ='USE TestDB'\n",
    "execute_query(conn, query)\n",
    "\n",
    "# Query successful\n",
    "\n",
    "query = 'CREATE TABLE TestA ( \\\n",
    "             ID int IDENTITY(1,1) NOT NULL, \\\n",
    "             FirstName varchar(255) NOT NULL, \\\n",
    "             LastName varchar(255) NOT NULL, \\\n",
    "             PRIMARY KEY(ID))'\n",
    "execute_query(conn, query)\n",
    "\n",
    "# Query successful"
   ]
  },
  {
   "cell_type": "code",
   "execution_count": null,
   "metadata": {},
   "outputs": [],
   "source": [
    "# Inserting Data\n",
    "\n",
    "csr = conn.cursor()\n",
    "\n",
    "csr.execute(\"INSERT TestA (FirstName, LastName) VALUES ('Aaaa', 'Bbbb')\")\n",
    "\n",
    "conn.commit() # yukarida autocommit yaptigimiz icin buna aslinda gerek yok"
   ]
  },
  {
   "cell_type": "code",
   "execution_count": null,
   "metadata": {},
   "outputs": [],
   "source": [
    "# or, parameterized:\n",
    "csr.execute(\"INSERT TestA (FirstName, LastName) VALUES (?, ?)\", 'Cccc', 'Dddd')\n",
    "\n",
    "conn.commit()"
   ]
  },
  {
   "cell_type": "code",
   "execution_count": null,
   "metadata": {},
   "outputs": [],
   "source": [
    "# Updating and Deleting\n",
    "\n",
    "csr.execute(\"delete from TestA where FirstName = ?\", 'Aaaa')\n",
    "\n",
    "conn.commit()\n",
    "\n",
    "print(csr.rowcount, 'row(s) deleted')"
   ]
  },
  {
   "cell_type": "code",
   "execution_count": null,
   "metadata": {},
   "outputs": [],
   "source": [
    "deleted = csr.execute(\"delete from TestA where FirstName = 'Cccc'\").rowcount\n",
    "\n",
    "conn.commit()\n",
    "\n",
    "print(deleted, 'row(s) deleted')"
   ]
  },
  {
   "cell_type": "markdown",
   "metadata": {},
   "source": [
    "### Reading Data"
   ]
  },
  {
   "cell_type": "code",
   "execution_count": null,
   "metadata": {},
   "outputs": [],
   "source": [
    "csr = conn.cursor()\n",
    "csr.execute('select FirstName, LastName from TestA')\n",
    "row = csr.fetchone()\n",
    "if row:\n",
    "    print(row)"
   ]
  },
  {
   "cell_type": "code",
   "execution_count": null,
   "metadata": {},
   "outputs": [],
   "source": [
    "# Row objects are similar to tuples, but they also allow access to columns by name:\n",
    "\n",
    "csr.execute('select FirstName, LastName from TestA')\n",
    "row = csr.fetchone()\n",
    "print('LastName:', row[1]) # access by column index (zero-based)\n",
    "print('LastName:', row.LastName) # access by name"
   ]
  },
  {
   "cell_type": "code",
   "execution_count": null,
   "metadata": {},
   "outputs": [],
   "source": [
    "# The fetchone() function returns None when all rows have been retrieved.\n",
    "\n",
    "csr.execute('select FirstName, LastName from TestA')\n",
    "while True:\n",
    "    row = csr.fetchone()\n",
    "    if not row:\n",
    "        break\n",
    "    print('FirstName:', row.FirstName)"
   ]
  },
  {
   "cell_type": "markdown",
   "metadata": {},
   "source": [
    "```\n",
    "The fetchall() function returns all remaining rows in a list. Bear in mind those rows will all be stored in memory so if there are a lot of rows, you may run out of memory.\n",
    "\n",
    "If there are no rows, an empty list is returned.\n",
    "```"
   ]
  },
  {
   "cell_type": "code",
   "execution_count": null,
   "metadata": {},
   "outputs": [],
   "source": [
    "csr.execute('select FirstName, LastName from TestA')\n",
    "rows = csr.fetchall()"
   ]
  },
  {
   "cell_type": "code",
   "execution_count": null,
   "metadata": {},
   "outputs": [],
   "source": [
    "for row in rows:\n",
    "    print(row.FirstName, row.LastName)"
   ]
  },
  {
   "cell_type": "code",
   "execution_count": null,
   "metadata": {},
   "outputs": [],
   "source": [
    "# If you are going to process the rows one at a time, you can use the cursor itself as an iterator:\n",
    "\n",
    "csr.execute('select FirstName, LastName from TestA')\n",
    "for row in csr:\n",
    "    print(row.FirstName, row.LastName)\n",
    "\n",
    "#or just:\n",
    "\n",
    "for row in csr.execute('select FirstName, LastName from TestA'):\n",
    "    print(row.FirstName, row.LastName)"
   ]
  },
  {
   "cell_type": "markdown",
   "metadata": {},
   "source": [
    "```\n",
    "ODBC supports parameters using a question mark as a place holder in the SQL.\n",
    "You provide the values for the question marks by passing them after the SQL:\n",
    "```"
   ]
  },
  {
   "cell_type": "code",
   "execution_count": null,
   "metadata": {},
   "outputs": [],
   "source": [
    "csr.execute(\"\"\"select FirstName, LastName from TestA\n",
    "               where FirstName = ?\"\"\", 'Aaaa')\n",
    "row = csr.fetchone()\n",
    "if row:\n",
    "    print(row)"
   ]
  },
  {
   "cell_type": "code",
   "execution_count": null,
   "metadata": {},
   "outputs": [],
   "source": [
    "# The Python DB API specifies that parameters should be passed as a sequence, so this is also supported by pyodbc:\n",
    "\n",
    "csr.execute(\"\"\" select FirstName, LastName from TestA\n",
    "\t\twhere FirstName = ? and LastName = ? \"\"\", ['Aaaa', 'Bbbb'])\n",
    "row = csr.fetchone()\n",
    "if row:\n",
    "    print(row)"
   ]
  },
  {
   "cell_type": "code",
   "execution_count": null,
   "metadata": {},
   "outputs": [],
   "source": [
    "# To simplify the process, a function def read_query function can be created.\n",
    "\n",
    "def read_query(conn, query):\n",
    "    csr = conn.cursor()\n",
    "    results = None\n",
    "    try:\n",
    "        csr.execute(query)\n",
    "        results = csr.fetchall()\n",
    "        # Close and delete cursor\n",
    "        csr.close()\n",
    "        del csr\n",
    "        return results    \n",
    "    except Error as err:\n",
    "        print(f\"Error: '{err}'\")\n",
    "\n",
    "query = 'select FirstName, LastName from TestA'\n",
    "execute_query(conn, query) -- kodu yukarida var\n",
    "results = read_query(conn, query)\n",
    "print(results)\n",
    "conn.close()\n",
    "\n",
    "import pandas as pd\n",
    "from_db = []\n",
    "\n",
    "for result in results:\n",
    "    result = list(result)\n",
    "    from_db.append(result)\n",
    "\n",
    "columns = ['FirstName', 'LastName']\n",
    "df = pd.DataFrame(from_db, columns=columns)\n",
    "display(df)"
   ]
  },
  {
   "cell_type": "markdown",
   "metadata": {},
   "source": [
    "### Tips and Tricks"
   ]
  },
  {
   "cell_type": "code",
   "execution_count": null,
   "metadata": {},
   "outputs": [],
   "source": [
    "# Since single quotes are valid in SQL, use double quotes to surround your SQL:\n",
    "\n",
    "deleted = csr.execute(\"delete from TestA where FirstName = 'Aaaa'\").rowcount"
   ]
  },
  {
   "cell_type": "markdown",
   "metadata": {},
   "source": [
    "```\n",
    "It's also worthwhile considering using 'raw' strings for your SQL to avoid any inadvertent escaping (unless you really do want to specify control characters):\n",
    "```"
   ]
  },
  {
   "cell_type": "code",
   "execution_count": null,
   "metadata": {},
   "outputs": [],
   "source": [
    "csr.execute(\"delete from TestA where FirstName like '%bad\\name%'\") # Python will convert \\n to 'new line'!\n",
    "\n",
    "csr.execute(r\"delete from TestA where name like '%bad\\name%'\") # no escaping"
   ]
  },
  {
   "cell_type": "markdown",
   "metadata": {},
   "source": [
    "```\n",
    "Some databases (e.g. SQL Server) do not generate column names for calculated fields, e.g. `COUNT(*)`.\n",
    "\n",
    "In that case you can either access the column by its index, or use an alias on the column (i.e. use the \"as\" keyword).\n",
    "```"
   ]
  },
  {
   "cell_type": "code",
   "execution_count": null,
   "metadata": {},
   "outputs": [],
   "source": [
    "row = csr.execute(\"select count(*) as user_count from TestA\").fetchone()\n",
    "\n",
    "print('%s users' % row.user_count)"
   ]
  },
  {
   "cell_type": "code",
   "execution_count": null,
   "metadata": {},
   "outputs": [],
   "source": [
    "# Formatting Long SQL Statements\n",
    "\n",
    "import textwrap\n",
    "\n",
    "sql = textwrap.dedent(\"\"\"select FirstName, LastName from TestA\n",
    "                         where FirstName = 'Aaaa' and LastName = ?\n",
    "                      \"\"\")\n",
    "rows = csr.execute(sql, 'Bbbb').fetchall()"
   ]
  },
  {
   "cell_type": "code",
   "execution_count": null,
   "metadata": {},
   "outputs": [],
   "source": [
    "# fetchval\n",
    "\n",
    "maxid = csr.execute(\"select max(ID) from TestA\").fetchval()"
   ]
  },
  {
   "cell_type": "markdown",
   "metadata": {},
   "source": [
    "```\n",
    "Most databases support `COALESCE` or `ISNULL` which can be used to convert `NULL` to a hardcoded value, but note that this will not cause a row to be returned if the SQL returns no rows.\n",
    "\n",
    "That is, `COALESCE` is great with aggregate functions like max or count, but fetchval is better when attempting to retrieve the value from a particular row:\n",
    "```"
   ]
  },
  {
   "cell_type": "code",
   "execution_count": null,
   "metadata": {},
   "outputs": [],
   "source": [
    "csr.execute(\"select coalesce(max(ID), 0) from TestA where FirstName = 'Eeee'\").fetchone()[0]\n",
    "\n",
    "csr.execute(\"select coalesce(count(*), 0) from TestA where FirstName = 'Eeee'\").fetchone()[0]"
   ]
  },
  {
   "cell_type": "code",
   "execution_count": null,
   "metadata": {},
   "outputs": [],
   "source": [
    "# However, fetchval is a better choice if the statement can return an empty set:\n",
    "# Careful !!!\n",
    "\n",
    "csr.execute(\"\"\"select FirstName from TestA where FirstName = 'Eeee'\n",
    "            \"\"\").fetchone()[0]\n",
    "\n",
    "# Preferred\n",
    "csr.execute(\"\"\"select FirstName from TestA where FirstName = 'Eeee'\n",
    "            \"\"\").fetchval()"
   ]
  },
  {
   "cell_type": "markdown",
   "metadata": {},
   "source": [
    "```\n",
    "The first example will raise an exception if there are no rows.\n",
    "\n",
    "The fetchone() call returns None. Python then attempts to apply [0] to the result (None[0]) which is not valid.\n",
    "\n",
    "The fetchval method was created just for this situation - it will detect the fact that there are no rows and will return None.\n",
    "```"
   ]
  },
  {
   "cell_type": "code",
   "execution_count": null,
   "metadata": {},
   "outputs": [],
   "source": []
  }
 ],
 "metadata": {
  "kernelspec": {
   "display_name": "Python 3 (ipykernel)",
   "language": "python",
   "name": "python3"
  },
  "language_info": {
   "codemirror_mode": {
    "name": "ipython",
    "version": 3
   },
   "file_extension": ".py",
   "mimetype": "text/x-python",
   "name": "python",
   "nbconvert_exporter": "python",
   "pygments_lexer": "ipython3",
   "version": "3.8.5"
  }
 },
 "nbformat": 4,
 "nbformat_minor": 4
}
