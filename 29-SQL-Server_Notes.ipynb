{
 "cells": [
  {
   "cell_type": "markdown",
   "metadata": {},
   "source": [
    "# SQL Notes"
   ]
  },
  {
   "cell_type": "markdown",
   "metadata": {},
   "source": [
    "## Pivot Operations"
   ]
  },
  {
   "cell_type": "code",
   "execution_count": null,
   "metadata": {},
   "outputs": [],
   "source": [
    "select *\n",
    "from\n",
    "(select top 100 order_id, list_price\n",
    "from sale.order_item) as yeni\n",
    "pivot (\n",
    "    avg(list_price)\n",
    "    for order_id in ([1],[2],[3],[4])\n",
    " ) pivottable"
   ]
  },
  {
   "cell_type": "code",
   "execution_count": null,
   "metadata": {},
   "outputs": [],
   "source": [
    "select * from\n",
    "(select product_id, model_year, list_price\n",
    "from product.product) as yeni\n",
    "pivot (\n",
    "    avg(list_price)\n",
    "    for model_year in ([2018], [2019], [2020], [2021])\n",
    ") as pivottable"
   ]
  },
  {
   "cell_type": "code",
   "execution_count": null,
   "metadata": {},
   "outputs": [],
   "source": [
    "select category, model_year, sum(total_sales_price) as total\n",
    "from sale.sales_summary\n",
    "group by category, model_year;\n",
    "\n",
    "select * from\n",
    "(\n",
    "select category, model_year, total_sales_price\n",
    "from sale.sales_summary\n",
    ") as A\n",
    "PIVOT (\n",
    "    sum(total_sales_price)\n",
    "    for model_year in ([2018], [2019], [2020])\n",
    ") as pivottable"
   ]
  },
  {
   "cell_type": "code",
   "execution_count": null,
   "metadata": {},
   "outputs": [],
   "source": [
    "set @r1=0, @r2=0, @r3=0, @r4=0;\n",
    "select min(Doctor), min(Professor), min(Singer), min(Actor)\n",
    "from(\n",
    "  select case when Occupation='Doctor' then (@r1:=@r1+1)\n",
    "            when Occupation='Professor' then (@r2:=@r2+1)\n",
    "            when Occupation='Singer' then (@r3:=@r3+1)\n",
    "            when Occupation='Actor' then (@r4:=@r4+1) end as RowNumber,\n",
    "    case when Occupation='Doctor' then Name end as Doctor,\n",
    "    case when Occupation='Professor' then Name end as Professor,\n",
    "    case when Occupation='Singer' then Name end as Singer,\n",
    "    case when Occupation='Actor' then Name end as Actor\n",
    "  from OCCUPATIONS\n",
    "  order by Name\n",
    ") Temp\n",
    "group by RowNumber"
   ]
  },
  {
   "cell_type": "markdown",
   "metadata": {},
   "source": [
    "```\n",
    "QUOTENAME(column name, ()) komutu belirttiğimiz column [] veya istenilen bir parantezin icine alır. Default, yani hicbirsey yazilmazsa [] olur.\n",
    "```"
   ]
  },
  {
   "cell_type": "code",
   "execution_count": null,
   "metadata": {},
   "outputs": [],
   "source": [
    "select *\n",
    "from\n",
    "(select top 100 product_id, product_name, list_price\n",
    "from product.product) as yeni\n",
    "pivot (\n",
    "    count(list_price)\n",
    "    for product_id in ([1],[2],[3],[4], [5], [6], [7], [8], [9], [10])\n",
    " ) pivottable"
   ]
  },
  {
   "cell_type": "markdown",
   "metadata": {},
   "source": [
    "## ROLLUP Ornegi"
   ]
  },
  {
   "cell_type": "code",
   "execution_count": null,
   "metadata": {},
   "outputs": [],
   "source": [
    "select model_year, avg(list_price) as ort\n",
    "from product.product\n",
    "group by model_year with rollup\n",
    "order by model_year"
   ]
  },
  {
   "cell_type": "code",
   "execution_count": null,
   "metadata": {},
   "outputs": [],
   "source": [
    "select b.brand_name, c.category_name, p.model_year, sum((p.list_price * (1 - o.discount)) * o.quantity) as sayi\n",
    "from product.brand b join product.product p on b.brand_id = p.brand_id join product.category c on p.category_id = c.category_id\n",
    "join sale.order_item o on p.product_id = o.product_id\n",
    "group by\n",
    "    rollup(b.brand_name,  c.category_name, p.model_year)\n",
    "order by b.brand_name,  c.category_name, p.model_year"
   ]
  },
  {
   "cell_type": "code",
   "execution_count": null,
   "metadata": {},
   "outputs": [],
   "source": [
    "select brand, category, model_year, sum(total_sales_price) as total_price\n",
    "from sale.sales_summary\n",
    "group BY\n",
    "    rollup(brand, category, model_year);"
   ]
  },
  {
   "cell_type": "markdown",
   "metadata": {},
   "source": [
    "## SELECT INTO"
   ]
  },
  {
   "cell_type": "code",
   "execution_count": null,
   "metadata": {},
   "outputs": [],
   "source": [
    "SELECT\tC.brand_name as Brand, D.category_name as Category, B.model_year as Model_Year,\n",
    "\t\tROUND (SUM (A.quantity * A.list_price * (1 - A.discount)), 0) total_sales_price\n",
    "INTO\tsale.sales_summary\n",
    "FROM\tsale.order_item A, product.product B, product.brand C, product.category D\n",
    "WHERE\tA.product_id = B.product_id\n",
    "AND\t\tB.brand_id = C.brand_id\n",
    "AND\t\tB.category_id = D.category_id\n",
    "GROUP BY\n",
    "\t\tC.brand_name, D.category_name, B.model_year"
   ]
  },
  {
   "cell_type": "markdown",
   "metadata": {},
   "source": [
    "## Grouping Sets"
   ]
  },
  {
   "cell_type": "code",
   "execution_count": null,
   "metadata": {},
   "outputs": [],
   "source": [
    "select b.brand_name,  c.category_name, p.model_year, sum((p.list_price * (1 - o.discount)) * o.quantity) as sayi\n",
    "from product.brand b join product.product p on b.brand_id = p.brand_id join product.category c on p.category_id = c.category_id\n",
    "join sale.order_item o on p.product_id = o.product_id\n",
    "group BY\n",
    "    grouping sets (\n",
    "        (b.brand_name,  c.category_name, p.model_year),\n",
    "        (b.brand_name,  c.category_name),\n",
    "        (c.category_name),\n",
    "        (p.model_year),\n",
    "        ()\n",
    "    )\n",
    "order by sayi desc;"
   ]
  },
  {
   "cell_type": "markdown",
   "metadata": {},
   "source": [
    "## CUBE"
   ]
  },
  {
   "cell_type": "code",
   "execution_count": null,
   "metadata": {},
   "outputs": [],
   "source": [
    "select brand, category, model_year, sum(total_sales_price) as total_price\n",
    "from sale.sales_summary\n",
    "group BY\n",
    "    cube(brand, category, model_year)\n",
    "order by brand, category, model_year;"
   ]
  },
  {
   "cell_type": "markdown",
   "metadata": {},
   "source": [
    "## Correlated Subqueries"
   ]
  },
  {
   "cell_type": "code",
   "execution_count": null,
   "metadata": {},
   "outputs": [],
   "source": [
    "SELECT c.countryname, f.filmname, f.filmruntimeminutes\n",
    "FROM tb1film AS f INNER JOIN tb1country AS c ON c.countryid=f.filmcountryid\n",
    "WHERE f.filmruntimeminutes >\n",
    "    (SELECT AVG(filmruntimeminutes)\n",
    "    FROM tb1film AS g\n",
    "    WHERE g.filmcountryid=f.filmcountryid)"
   ]
  },
  {
   "cell_type": "code",
   "execution_count": null,
   "metadata": {},
   "outputs": [],
   "source": [
    "SELECT YEAR(f.filmreleasedate) as y, f.filmname, f.filmruntimeminutes\n",
    "FROM tb1film AS f\n",
    "WHERE f.filmruntimeminutes >\n",
    "    (SELECT AVG(filmruntimeminutes)\n",
    "    FROM tb1film AS g\n",
    "    WHERE YEAR(g.filmreleasedate)=YEAR(f.filmreleasedate)\n",
    "ORDER BY y"
   ]
  },
  {
   "cell_type": "markdown",
   "metadata": {},
   "source": [
    "## Common Table Expressions (CTE)"
   ]
  },
  {
   "cell_type": "code",
   "execution_count": null,
   "metadata": {},
   "outputs": [],
   "source": [
    "WITH temp_table (avg_salary) AS\n",
    "    (SELECT AVG(salary)\n",
    "    FROM employees)\n",
    "    SELECT salary\n",
    "    FROM employees, temp_table\n",
    "    WHERE employees.salary > temp_table.avg_salary;"
   ]
  },
  {
   "cell_type": "code",
   "execution_count": null,
   "metadata": {},
   "outputs": [],
   "source": [
    "WITH temp_table AS \n",
    "(\n",
    "SELECT emp_id, hire_date, term_date\n",
    "FROM employees\n",
    "WHERE job_title = \"Data Scientist\"\n",
    ")\n",
    "SELECT d.dept_name, MIN(t1.hire_date) as min_hire_date, MAX(t2.term_date) as max_term_date\n",
    "FROM departments as d\n",
    "LEFT JOIN temp_table as t1\n",
    "ON d.emp_id = t1.emp_id\n",
    "LEFT JOIN temp_table as t2\n",
    "ON d.emp_id = t2.emp_id\n",
    "GROUP BY 1"
   ]
  },
  {
   "cell_type": "code",
   "execution_count": null,
   "metadata": {},
   "outputs": [],
   "source": [
    "# Recursive CTE\n",
    "with ctetable\n",
    "as\n",
    "( select 0 as num # anchor record (tablo ilk calistirildiginda bu satir calisir ve num olarak 0 alinir)\n",
    "union all\n",
    "select num + 1 from ctetable # recursive record (ilk calismadan sonraki tum recurse'larda bu \n",
    "#satir calisir ve num +1 olur)\n",
    "where num < 10 # recursive record'da bir where olmali, yoksa sonsuz dongu olusur\n",
    ")\n",
    "select * from ctetable"
   ]
  },
  {
   "cell_type": "code",
   "execution_count": null,
   "metadata": {},
   "outputs": [],
   "source": [
    "with emp\n",
    "as\n",
    "(\n",
    "    select employee_number, employee_name, manager\n",
    "    from employee\n",
    "    where manager is null\n",
    "union all\n",
    "    select e.employee_number, e.employee_name, e.manager\n",
    "    from emp join employee e on emp.employee_number=e.manager\n",
    ")\n",
    "select * from emp"
   ]
  },
  {
   "cell_type": "code",
   "execution_count": null,
   "metadata": {},
   "outputs": [],
   "source": [
    "with emps\n",
    "as\n",
    "(\n",
    "    select employeeid, firstname, lastname, ReportsTo, 1 as lvl,\n",
    "    cast(',' + cast(employeeid as varchar) + ',' as varchar(250)) empconcat\n",
    "    from employees\n",
    "    where reportsto is NULL\n",
    "union ALL\n",
    "    select e.employeeid, e.firstname, e.lastname, e.ReportsTo, lvl + 1 as lvl,\n",
    "    cast(emps.empconcat + ',' + cast(e.employeeid as varchar) + ',' as varchar(250))\n",
    "    from emps join employees e on emps.employeeid=e.ReportsTo\n",
    ")\n",
    "select * from emps"
   ]
  },
  {
   "cell_type": "code",
   "execution_count": null,
   "metadata": {},
   "outputs": [],
   "source": [
    "with last_cust \n",
    "as \n",
    "(\n",
    "    select max(o.order_date) as aaa\n",
    "    from sale.customer c join sale.orders o on c.customer_id=o.customer_id\n",
    "    where first_name = 'Sharyn' and last_name = 'Hopkins'\n",
    ")\n",
    "select a.first_name, a.last_name, b.order_date, a.city\n",
    "from sale.customer a join sale.orders b on a.customer_id=b.customer_id\n",
    "where b.order_date < (select * from last_cust) and a.city = 'San Diego'"
   ]
  },
  {
   "cell_type": "code",
   "execution_count": null,
   "metadata": {},
   "outputs": [],
   "source": [
    "with new_query as \n",
    "(\n",
    "    select o.order_date\n",
    "    from sale.orders o join sale.customer c on o.customer_id=c.customer_id\n",
    "    where c.first_name = 'Abby' and c.last_name = 'Parks'\n",
    ")\n",
    "select a.first_name, a.last_name, b.order_date\n",
    "from sale.customer a join sale.orders b on a.customer_id=b.customer_id\n",
    "where b.order_date in (select * from new_query)"
   ]
  },
  {
   "cell_type": "code",
   "execution_count": null,
   "metadata": {},
   "outputs": [],
   "source": [
    "with ccc \n",
    "as\n",
    "(select 0 as num\n",
    "union all\n",
    "select num + 2\n",
    "from ccc\n",
    "where num < 9\n",
    ")\n",
    "select * from ccc"
   ]
  },
  {
   "cell_type": "markdown",
   "metadata": {},
   "source": [
    "## Collation\n",
    "```\n",
    "Bazi arkadaslar goruyorum sorguda ‘Jane’ yerine ‘jane’ kullanmis. Default olarak SQL Server case-insensitive \n",
    "oldugu icin problem olmuyor. Ama database olustururken istersek ‘COLLATION’ ile case-sensitive bir database olusturabiliriz.\n",
    "\n",
    "Bu da benden bir interview sorusu..\n",
    "```"
   ]
  },
  {
   "cell_type": "markdown",
   "metadata": {},
   "source": [
    "## ALL"
   ]
  },
  {
   "cell_type": "code",
   "execution_count": null,
   "metadata": {},
   "outputs": [],
   "source": [
    "select product_name, model_year, list_price\n",
    "from product.product\n",
    "where list_price > all\n",
    "(select p.list_price\n",
    "from product.product p join product.category c on p.category_id=c.category_id\n",
    "where c.category_name='Electric Bikes') and model_year = 2020"
   ]
  },
  {
   "cell_type": "markdown",
   "metadata": {},
   "source": [
    "## ANY"
   ]
  },
  {
   "cell_type": "code",
   "execution_count": null,
   "metadata": {},
   "outputs": [],
   "source": [
    "select product_name, model_year, list_price\n",
    "from product.product\n",
    "where list_price > any\n",
    "(select p.list_price\n",
    "from product.product p join product.category c on p.category_id=c.category_id\n",
    "where c.category_name='Electric Bikes') and model_year = 2020"
   ]
  },
  {
   "cell_type": "markdown",
   "metadata": {},
   "source": [
    "## Exists, Not Exists"
   ]
  },
  {
   "cell_type": "code",
   "execution_count": null,
   "metadata": {},
   "outputs": [],
   "source": [
    "select c.first_name, c.last_name, o.order_date\n",
    "from sale.orders o join sale.customer c on o.customer_id=c.customer_id\n",
    "where exists (select 1 from sale.orders where customer_id = (select customer_id \n",
    "from sale.customer where first_name='Abby' and last_name='Parks'))\n",
    "# burada Abby Parks diye bir musteri var mi yok mu, varsa ustteki query calisiyor"
   ]
  },
  {
   "cell_type": "code",
   "execution_count": null,
   "metadata": {},
   "outputs": [],
   "source": [
    "select c.first_name, c.last_name, o.order_date\n",
    "from sale.orders o join sale.customer c on o.customer_id=c.customer_id\n",
    "where not exists (select 1 from sale.orders where customer_id = (select customer_id \n",
    "from sale.customer where first_name='Abbyy' and last_name='Parks'))\n",
    "# Abbyy isimli bir customer olmadigi icin yukaridaki query yine calisiyor"
   ]
  },
  {
   "cell_type": "markdown",
   "metadata": {},
   "source": [
    "## UNION ALL, UNION, INTERCEPT, EXCEPT"
   ]
  },
  {
   "cell_type": "code",
   "execution_count": null,
   "metadata": {},
   "outputs": [],
   "source": [
    "select last_name\n",
    "from sale.customer\n",
    "where city = 'Monroe'\n",
    "union all \n",
    "select last_name\n",
    "from sale.customer\n",
    "where city = 'Sacramento'\n",
    "order by last_name"
   ]
  },
  {
   "cell_type": "code",
   "execution_count": 1,
   "metadata": {},
   "outputs": [],
   "source": [
    "#intersect soz konusu oldugunda soz konusu sutunlarin distinct olan ve ayni olan row'lar gelir"
   ]
  },
  {
   "cell_type": "code",
   "execution_count": null,
   "metadata": {},
   "outputs": [],
   "source": [
    "select A.brand_id, B. brand_name\n",
    "from\n",
    "(select brand_id\n",
    "from product.product\n",
    "where model_year = 2018\n",
    "intersect\n",
    "select brand_id\n",
    "from product.product\n",
    "where model_year = 2019) as A join product.brand B on A.brand_id=B.brand_id"
   ]
  },
  {
   "cell_type": "code",
   "execution_count": null,
   "metadata": {},
   "outputs": [],
   "source": [
    "select first_name, last_name\n",
    "from sale.customer\n",
    "where customer_id in (\n",
    "select customer_id\n",
    "from sale.orders\n",
    "where order_date between '2018-01-01' and '2018-12-31'\n",
    "intersect\n",
    "select customer_id\n",
    "from sale.orders\n",
    "where order_date between '2019-01-01' and '2019-12-31'\n",
    "intersect\n",
    "select customer_id\n",
    "from sale.orders\n",
    "where order_date between '2020-01-01' and '2020-12-31')"
   ]
  },
  {
   "cell_type": "markdown",
   "metadata": {},
   "source": [
    "## DATE Functions"
   ]
  },
  {
   "cell_type": "code",
   "execution_count": null,
   "metadata": {},
   "outputs": [],
   "source": [
    "CREATE TABLE t_date_time (\n",
    "    A_time time,\n",
    "    A_date date,\n",
    "    A_smalldatetime smalldatetime,\n",
    "    A_datetime datetime,\n",
    "    A_datetime2 datetime2,\n",
    "    A_datetimeoffset datetimeoffset\n",
    "    )\n",
    "\n",
    "select * from t_date_time\n",
    "\n",
    "select getdate()\n",
    "\n",
    "Insert into t_date_time \n",
    "values (getdate(), getdate(), getdate(), getdate(), getdate(), getdate())\n",
    "\n",
    "select getdate();\n",
    "select convert(varchar, getdate(), 6);\n",
    "\n",
    "select convert(date, '25 Oct 21', 6);"
   ]
  },
  {
   "cell_type": "code",
   "execution_count": null,
   "metadata": {},
   "outputs": [],
   "source": [
    "# Functions for return date or time parts\n",
    "\n",
    "select a_date from t_date_time\n",
    "\n",
    "SELECT  A_date,\n",
    "        DATENAME(DW, A_date) [DAY],\n",
    "        DAY (A_date) [DAY2],\n",
    "        MONTH(A_date),\n",
    "        YEAR (A_date),\n",
    "        A_time,\n",
    "        DATEPART (NANOSECOND, A_time),\n",
    "        DATEPART (MONTH, A_date)\n",
    "FROM    t_date_time"
   ]
  }
 ],
 "metadata": {
  "kernelspec": {
   "display_name": "Python 3 (ipykernel)",
   "language": "python",
   "name": "python3"
  },
  "language_info": {
   "codemirror_mode": {
    "name": "ipython",
    "version": 3
   },
   "file_extension": ".py",
   "mimetype": "text/x-python",
   "name": "python",
   "nbconvert_exporter": "python",
   "pygments_lexer": "ipython3",
   "version": "3.8.5"
  }
 },
 "nbformat": 4,
 "nbformat_minor": 4
}
