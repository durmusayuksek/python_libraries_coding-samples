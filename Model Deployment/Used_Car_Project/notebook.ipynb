{
 "cells": [
  {
   "cell_type": "code",
   "execution_count": 1,
   "metadata": {},
   "outputs": [],
   "source": [
    "import pandas as pd\n",
    "import numpy as np"
   ]
  },
  {
   "cell_type": "code",
   "execution_count": 2,
   "metadata": {},
   "outputs": [
    {
     "data": {
      "text/html": [
       "<div>\n",
       "<style scoped>\n",
       "    .dataframe tbody tr th:only-of-type {\n",
       "        vertical-align: middle;\n",
       "    }\n",
       "\n",
       "    .dataframe tbody tr th {\n",
       "        vertical-align: top;\n",
       "    }\n",
       "\n",
       "    .dataframe thead th {\n",
       "        text-align: right;\n",
       "    }\n",
       "</style>\n",
       "<table border=\"1\" class=\"dataframe\">\n",
       "  <thead>\n",
       "    <tr style=\"text-align: right;\">\n",
       "      <th></th>\n",
       "      <th>Car_Name</th>\n",
       "      <th>Year</th>\n",
       "      <th>Selling_Price</th>\n",
       "      <th>Present_Price</th>\n",
       "      <th>Kms_Driven</th>\n",
       "      <th>Fuel_Type</th>\n",
       "      <th>Seller_Type</th>\n",
       "      <th>Transmission</th>\n",
       "      <th>Owner</th>\n",
       "    </tr>\n",
       "  </thead>\n",
       "  <tbody>\n",
       "    <tr>\n",
       "      <th>0</th>\n",
       "      <td>ritz</td>\n",
       "      <td>2014</td>\n",
       "      <td>3.35</td>\n",
       "      <td>5.59</td>\n",
       "      <td>27000</td>\n",
       "      <td>Petrol</td>\n",
       "      <td>Dealer</td>\n",
       "      <td>Manual</td>\n",
       "      <td>0</td>\n",
       "    </tr>\n",
       "    <tr>\n",
       "      <th>1</th>\n",
       "      <td>sx4</td>\n",
       "      <td>2013</td>\n",
       "      <td>4.75</td>\n",
       "      <td>9.54</td>\n",
       "      <td>43000</td>\n",
       "      <td>Diesel</td>\n",
       "      <td>Dealer</td>\n",
       "      <td>Manual</td>\n",
       "      <td>0</td>\n",
       "    </tr>\n",
       "    <tr>\n",
       "      <th>2</th>\n",
       "      <td>ciaz</td>\n",
       "      <td>2017</td>\n",
       "      <td>7.25</td>\n",
       "      <td>9.85</td>\n",
       "      <td>6900</td>\n",
       "      <td>Petrol</td>\n",
       "      <td>Dealer</td>\n",
       "      <td>Manual</td>\n",
       "      <td>0</td>\n",
       "    </tr>\n",
       "    <tr>\n",
       "      <th>3</th>\n",
       "      <td>wagon r</td>\n",
       "      <td>2011</td>\n",
       "      <td>2.85</td>\n",
       "      <td>4.15</td>\n",
       "      <td>5200</td>\n",
       "      <td>Petrol</td>\n",
       "      <td>Dealer</td>\n",
       "      <td>Manual</td>\n",
       "      <td>0</td>\n",
       "    </tr>\n",
       "    <tr>\n",
       "      <th>4</th>\n",
       "      <td>swift</td>\n",
       "      <td>2014</td>\n",
       "      <td>4.60</td>\n",
       "      <td>6.87</td>\n",
       "      <td>42450</td>\n",
       "      <td>Diesel</td>\n",
       "      <td>Dealer</td>\n",
       "      <td>Manual</td>\n",
       "      <td>0</td>\n",
       "    </tr>\n",
       "  </tbody>\n",
       "</table>\n",
       "</div>"
      ],
      "text/plain": [
       "  Car_Name  Year  Selling_Price  Present_Price  Kms_Driven Fuel_Type  \\\n",
       "0     ritz  2014           3.35           5.59       27000    Petrol   \n",
       "1      sx4  2013           4.75           9.54       43000    Diesel   \n",
       "2     ciaz  2017           7.25           9.85        6900    Petrol   \n",
       "3  wagon r  2011           2.85           4.15        5200    Petrol   \n",
       "4    swift  2014           4.60           6.87       42450    Diesel   \n",
       "\n",
       "  Seller_Type Transmission  Owner  \n",
       "0      Dealer       Manual      0  \n",
       "1      Dealer       Manual      0  \n",
       "2      Dealer       Manual      0  \n",
       "3      Dealer       Manual      0  \n",
       "4      Dealer       Manual      0  "
      ]
     },
     "execution_count": 2,
     "metadata": {},
     "output_type": "execute_result"
    }
   ],
   "source": [
    "df  = pd.read_csv(\"car_dataset.csv\")\n",
    "df.head()"
   ]
  },
  {
   "cell_type": "code",
   "execution_count": 3,
   "metadata": {},
   "outputs": [
    {
     "data": {
      "text/plain": [
       "array([0, 1, 3])"
      ]
     },
     "execution_count": 3,
     "metadata": {},
     "output_type": "execute_result"
    }
   ],
   "source": [
    "df.Owner.unique()"
   ]
  },
  {
   "cell_type": "code",
   "execution_count": 4,
   "metadata": {},
   "outputs": [
    {
     "name": "stdout",
     "output_type": "stream",
     "text": [
      "<class 'pandas.core.frame.DataFrame'>\n",
      "RangeIndex: 301 entries, 0 to 300\n",
      "Data columns (total 9 columns):\n",
      " #   Column         Non-Null Count  Dtype  \n",
      "---  ------         --------------  -----  \n",
      " 0   Car_Name       301 non-null    object \n",
      " 1   Year           301 non-null    int64  \n",
      " 2   Selling_Price  301 non-null    float64\n",
      " 3   Present_Price  301 non-null    float64\n",
      " 4   Kms_Driven     301 non-null    int64  \n",
      " 5   Fuel_Type      301 non-null    object \n",
      " 6   Seller_Type    301 non-null    object \n",
      " 7   Transmission   301 non-null    object \n",
      " 8   Owner          301 non-null    int64  \n",
      "dtypes: float64(2), int64(3), object(4)\n",
      "memory usage: 21.3+ KB\n"
     ]
    },
    {
     "data": {
      "text/plain": [
       "(Car_Name         0\n",
       " Year             0\n",
       " Selling_Price    0\n",
       " Present_Price    0\n",
       " Kms_Driven       0\n",
       " Fuel_Type        0\n",
       " Seller_Type      0\n",
       " Transmission     0\n",
       " Owner            0\n",
       " dtype: int64,\n",
       " None)"
      ]
     },
     "execution_count": 4,
     "metadata": {},
     "output_type": "execute_result"
    }
   ],
   "source": [
    "df.isnull().sum(), df.info()"
   ]
  },
  {
   "cell_type": "code",
   "execution_count": 5,
   "metadata": {},
   "outputs": [
    {
     "data": {
      "text/html": [
       "<div>\n",
       "<style scoped>\n",
       "    .dataframe tbody tr th:only-of-type {\n",
       "        vertical-align: middle;\n",
       "    }\n",
       "\n",
       "    .dataframe tbody tr th {\n",
       "        vertical-align: top;\n",
       "    }\n",
       "\n",
       "    .dataframe thead th {\n",
       "        text-align: right;\n",
       "    }\n",
       "</style>\n",
       "<table border=\"1\" class=\"dataframe\">\n",
       "  <thead>\n",
       "    <tr style=\"text-align: right;\">\n",
       "      <th></th>\n",
       "      <th>Year</th>\n",
       "      <th>Selling_Price</th>\n",
       "      <th>Present_Price</th>\n",
       "      <th>Kms_Driven</th>\n",
       "      <th>Owner</th>\n",
       "      <th>Fuel_Type_Diesel</th>\n",
       "      <th>Fuel_Type_Petrol</th>\n",
       "      <th>Seller_Type_Individual</th>\n",
       "      <th>Transmission_Manual</th>\n",
       "    </tr>\n",
       "  </thead>\n",
       "  <tbody>\n",
       "    <tr>\n",
       "      <th>0</th>\n",
       "      <td>4</td>\n",
       "      <td>3.35</td>\n",
       "      <td>5.59</td>\n",
       "      <td>27000</td>\n",
       "      <td>0</td>\n",
       "      <td>0</td>\n",
       "      <td>1</td>\n",
       "      <td>0</td>\n",
       "      <td>1</td>\n",
       "    </tr>\n",
       "    <tr>\n",
       "      <th>1</th>\n",
       "      <td>5</td>\n",
       "      <td>4.75</td>\n",
       "      <td>9.54</td>\n",
       "      <td>43000</td>\n",
       "      <td>0</td>\n",
       "      <td>1</td>\n",
       "      <td>0</td>\n",
       "      <td>0</td>\n",
       "      <td>1</td>\n",
       "    </tr>\n",
       "    <tr>\n",
       "      <th>2</th>\n",
       "      <td>1</td>\n",
       "      <td>7.25</td>\n",
       "      <td>9.85</td>\n",
       "      <td>6900</td>\n",
       "      <td>0</td>\n",
       "      <td>0</td>\n",
       "      <td>1</td>\n",
       "      <td>0</td>\n",
       "      <td>1</td>\n",
       "    </tr>\n",
       "    <tr>\n",
       "      <th>3</th>\n",
       "      <td>7</td>\n",
       "      <td>2.85</td>\n",
       "      <td>4.15</td>\n",
       "      <td>5200</td>\n",
       "      <td>0</td>\n",
       "      <td>0</td>\n",
       "      <td>1</td>\n",
       "      <td>0</td>\n",
       "      <td>1</td>\n",
       "    </tr>\n",
       "    <tr>\n",
       "      <th>4</th>\n",
       "      <td>4</td>\n",
       "      <td>4.60</td>\n",
       "      <td>6.87</td>\n",
       "      <td>42450</td>\n",
       "      <td>0</td>\n",
       "      <td>1</td>\n",
       "      <td>0</td>\n",
       "      <td>0</td>\n",
       "      <td>1</td>\n",
       "    </tr>\n",
       "    <tr>\n",
       "      <th>...</th>\n",
       "      <td>...</td>\n",
       "      <td>...</td>\n",
       "      <td>...</td>\n",
       "      <td>...</td>\n",
       "      <td>...</td>\n",
       "      <td>...</td>\n",
       "      <td>...</td>\n",
       "      <td>...</td>\n",
       "      <td>...</td>\n",
       "    </tr>\n",
       "    <tr>\n",
       "      <th>296</th>\n",
       "      <td>2</td>\n",
       "      <td>9.50</td>\n",
       "      <td>11.60</td>\n",
       "      <td>33988</td>\n",
       "      <td>0</td>\n",
       "      <td>1</td>\n",
       "      <td>0</td>\n",
       "      <td>0</td>\n",
       "      <td>1</td>\n",
       "    </tr>\n",
       "    <tr>\n",
       "      <th>297</th>\n",
       "      <td>3</td>\n",
       "      <td>4.00</td>\n",
       "      <td>5.90</td>\n",
       "      <td>60000</td>\n",
       "      <td>0</td>\n",
       "      <td>0</td>\n",
       "      <td>1</td>\n",
       "      <td>0</td>\n",
       "      <td>1</td>\n",
       "    </tr>\n",
       "    <tr>\n",
       "      <th>298</th>\n",
       "      <td>9</td>\n",
       "      <td>3.35</td>\n",
       "      <td>11.00</td>\n",
       "      <td>87934</td>\n",
       "      <td>0</td>\n",
       "      <td>0</td>\n",
       "      <td>1</td>\n",
       "      <td>0</td>\n",
       "      <td>1</td>\n",
       "    </tr>\n",
       "    <tr>\n",
       "      <th>299</th>\n",
       "      <td>1</td>\n",
       "      <td>11.50</td>\n",
       "      <td>12.50</td>\n",
       "      <td>9000</td>\n",
       "      <td>0</td>\n",
       "      <td>1</td>\n",
       "      <td>0</td>\n",
       "      <td>0</td>\n",
       "      <td>1</td>\n",
       "    </tr>\n",
       "    <tr>\n",
       "      <th>300</th>\n",
       "      <td>2</td>\n",
       "      <td>5.30</td>\n",
       "      <td>5.90</td>\n",
       "      <td>5464</td>\n",
       "      <td>0</td>\n",
       "      <td>0</td>\n",
       "      <td>1</td>\n",
       "      <td>0</td>\n",
       "      <td>1</td>\n",
       "    </tr>\n",
       "  </tbody>\n",
       "</table>\n",
       "<p>301 rows × 9 columns</p>\n",
       "</div>"
      ],
      "text/plain": [
       "     Year  Selling_Price  Present_Price  Kms_Driven  Owner  Fuel_Type_Diesel  \\\n",
       "0       4           3.35           5.59       27000      0                 0   \n",
       "1       5           4.75           9.54       43000      0                 1   \n",
       "2       1           7.25           9.85        6900      0                 0   \n",
       "3       7           2.85           4.15        5200      0                 0   \n",
       "4       4           4.60           6.87       42450      0                 1   \n",
       "..    ...            ...            ...         ...    ...               ...   \n",
       "296     2           9.50          11.60       33988      0                 1   \n",
       "297     3           4.00           5.90       60000      0                 0   \n",
       "298     9           3.35          11.00       87934      0                 0   \n",
       "299     1          11.50          12.50        9000      0                 1   \n",
       "300     2           5.30           5.90        5464      0                 0   \n",
       "\n",
       "     Fuel_Type_Petrol  Seller_Type_Individual  Transmission_Manual  \n",
       "0                   1                       0                    1  \n",
       "1                   0                       0                    1  \n",
       "2                   1                       0                    1  \n",
       "3                   1                       0                    1  \n",
       "4                   0                       0                    1  \n",
       "..                ...                     ...                  ...  \n",
       "296                 0                       0                    1  \n",
       "297                 1                       0                    1  \n",
       "298                 1                       0                    1  \n",
       "299                 0                       0                    1  \n",
       "300                 1                       0                    1  \n",
       "\n",
       "[301 rows x 9 columns]"
      ]
     },
     "execution_count": 5,
     "metadata": {},
     "output_type": "execute_result"
    }
   ],
   "source": [
    "df = df.drop(\"Car_Name\", axis=1)\n",
    "df[\"Year\"] = df[\"Year\"].max()-df[\"Year\"]\n",
    "df = pd.get_dummies(df,columns=[\"Fuel_Type\",\t\"Seller_Type\",\t\"Transmission\"],drop_first=True)\n",
    "df"
   ]
  },
  {
   "cell_type": "code",
   "execution_count": 6,
   "metadata": {},
   "outputs": [],
   "source": [
    "X,y = df.drop(\"Selling_Price\",axis=1), df[\"Selling_Price\"]"
   ]
  },
  {
   "cell_type": "code",
   "execution_count": 7,
   "metadata": {},
   "outputs": [],
   "source": [
    "from sklearn.preprocessing import MinMaxScaler"
   ]
  },
  {
   "cell_type": "code",
   "execution_count": 8,
   "metadata": {},
   "outputs": [],
   "source": [
    "scaler = MinMaxScaler().fit(X)"
   ]
  },
  {
   "cell_type": "code",
   "execution_count": 9,
   "metadata": {},
   "outputs": [],
   "source": [
    "X=scaler.transform(X)"
   ]
  },
  {
   "cell_type": "code",
   "execution_count": 10,
   "metadata": {},
   "outputs": [
    {
     "data": {
      "text/plain": [
       "0.9999845130058066"
      ]
     },
     "execution_count": 10,
     "metadata": {},
     "output_type": "execute_result"
    }
   ],
   "source": [
    "from xgboost import XGBRegressor\n",
    "model = XGBRegressor()\n",
    "model.fit(X,y)\n",
    "model.score(X,y)"
   ]
  },
  {
   "cell_type": "code",
   "execution_count": 11,
   "metadata": {},
   "outputs": [],
   "source": [
    "y_pred= model.predict(X)"
   ]
  },
  {
   "cell_type": "code",
   "execution_count": 12,
   "metadata": {},
   "outputs": [],
   "source": [
    "df[\"y_pred\"] = y_pred"
   ]
  },
  {
   "cell_type": "code",
   "execution_count": 13,
   "metadata": {},
   "outputs": [],
   "source": [
    "from sklearn.metrics import r2_score, mean_absolute_error"
   ]
  },
  {
   "cell_type": "code",
   "execution_count": 15,
   "metadata": {},
   "outputs": [
    {
     "data": {
      "text/plain": [
       "('r2', 0.9999845130058066, 'mae', 0.014087983362896508)"
      ]
     },
     "execution_count": 15,
     "metadata": {},
     "output_type": "execute_result"
    }
   ],
   "source": [
    "\"r2\",r2_score(y,y_pred), \"mae\", mean_absolute_error(y,y_pred)"
   ]
  },
  {
   "cell_type": "code",
   "execution_count": 16,
   "metadata": {},
   "outputs": [
    {
     "data": {
      "text/plain": [
       "0.8825741581640659"
      ]
     },
     "execution_count": 16,
     "metadata": {},
     "output_type": "execute_result"
    }
   ],
   "source": [
    "from sklearn.linear_model import LinearRegression\n",
    "lr_model = LinearRegression(normalize=True) # \n",
    "lr_model.fit(X,y)\n",
    "lr_model.score(X,y)"
   ]
  },
  {
   "cell_type": "code",
   "execution_count": 17,
   "metadata": {},
   "outputs": [],
   "source": [
    "import joblib\n",
    "joblib.dump(model,open(\"xgb_model.joblib\",\"wb\"))\n",
    "joblib.dump(scaler,open(\"scaler.joblib\",\"wb\"))\n",
    "joblib.dump(list(df.drop([\"Selling_Price\",\"y_pred\"],axis=1).columns),open(\"columns.joblib\",\"wb\"))"
   ]
  },
  {
   "cell_type": "code",
   "execution_count": 18,
   "metadata": {},
   "outputs": [],
   "source": [
    "sample_one = [{\n",
    "\"Year\":2014,\n",
    "\"Selling_Price\":3.35,\n",
    "\"Present_Price\":5.59,\n",
    "\"Kms_Driven\":27000,\n",
    "\"Fuel_Type\":\"Petrol\",\n",
    "\"Seller_Type\":\"Dealer\",\n",
    "\"Transmission\":\"Manual\",\n",
    "\"Owner\":0\n",
    "    }]"
   ]
  },
  {
   "cell_type": "code",
   "execution_count": 19,
   "metadata": {},
   "outputs": [
    {
     "data": {
      "text/plain": [
       "['Year',\n",
       " 'Present_Price',\n",
       " 'Kms_Driven',\n",
       " 'Owner',\n",
       " 'Fuel_Type_Diesel',\n",
       " 'Fuel_Type_Petrol',\n",
       " 'Seller_Type_Individual',\n",
       " 'Transmission_Manual']"
      ]
     },
     "execution_count": 19,
     "metadata": {},
     "output_type": "execute_result"
    }
   ],
   "source": [
    "columns = joblib.load(\"columns.joblib\")\n",
    "columns"
   ]
  },
  {
   "cell_type": "code",
   "execution_count": 20,
   "metadata": {},
   "outputs": [
    {
     "data": {
      "text/html": [
       "<div>\n",
       "<style scoped>\n",
       "    .dataframe tbody tr th:only-of-type {\n",
       "        vertical-align: middle;\n",
       "    }\n",
       "\n",
       "    .dataframe tbody tr th {\n",
       "        vertical-align: top;\n",
       "    }\n",
       "\n",
       "    .dataframe thead th {\n",
       "        text-align: right;\n",
       "    }\n",
       "</style>\n",
       "<table border=\"1\" class=\"dataframe\">\n",
       "  <thead>\n",
       "    <tr style=\"text-align: right;\">\n",
       "      <th></th>\n",
       "      <th>Year</th>\n",
       "      <th>Selling_Price</th>\n",
       "      <th>Present_Price</th>\n",
       "      <th>Kms_Driven</th>\n",
       "      <th>Fuel_Type</th>\n",
       "      <th>Seller_Type</th>\n",
       "      <th>Transmission</th>\n",
       "      <th>Owner</th>\n",
       "    </tr>\n",
       "  </thead>\n",
       "  <tbody>\n",
       "    <tr>\n",
       "      <th>0</th>\n",
       "      <td>2014</td>\n",
       "      <td>3.35</td>\n",
       "      <td>5.59</td>\n",
       "      <td>27000</td>\n",
       "      <td>Petrol</td>\n",
       "      <td>Dealer</td>\n",
       "      <td>Manual</td>\n",
       "      <td>0</td>\n",
       "    </tr>\n",
       "  </tbody>\n",
       "</table>\n",
       "</div>"
      ],
      "text/plain": [
       "   Year  Selling_Price  Present_Price  Kms_Driven Fuel_Type Seller_Type  \\\n",
       "0  2014           3.35           5.59       27000    Petrol      Dealer   \n",
       "\n",
       "  Transmission  Owner  \n",
       "0       Manual      0  "
      ]
     },
     "execution_count": 20,
     "metadata": {},
     "output_type": "execute_result"
    }
   ],
   "source": [
    "df_s = pd.DataFrame(sample_one)\n",
    "df_s"
   ]
  },
  {
   "cell_type": "code",
   "execution_count": 21,
   "metadata": {},
   "outputs": [
    {
     "data": {
      "text/html": [
       "<div>\n",
       "<style scoped>\n",
       "    .dataframe tbody tr th:only-of-type {\n",
       "        vertical-align: middle;\n",
       "    }\n",
       "\n",
       "    .dataframe tbody tr th {\n",
       "        vertical-align: top;\n",
       "    }\n",
       "\n",
       "    .dataframe thead th {\n",
       "        text-align: right;\n",
       "    }\n",
       "</style>\n",
       "<table border=\"1\" class=\"dataframe\">\n",
       "  <thead>\n",
       "    <tr style=\"text-align: right;\">\n",
       "      <th></th>\n",
       "      <th>Year</th>\n",
       "      <th>Present_Price</th>\n",
       "      <th>Kms_Driven</th>\n",
       "      <th>Owner</th>\n",
       "      <th>Fuel_Type_Diesel</th>\n",
       "      <th>Fuel_Type_Petrol</th>\n",
       "      <th>Seller_Type_Individual</th>\n",
       "      <th>Transmission_Manual</th>\n",
       "    </tr>\n",
       "  </thead>\n",
       "  <tbody>\n",
       "    <tr>\n",
       "      <th>0</th>\n",
       "      <td>4</td>\n",
       "      <td>5.59</td>\n",
       "      <td>27000</td>\n",
       "      <td>0</td>\n",
       "      <td>0</td>\n",
       "      <td>1</td>\n",
       "      <td>0</td>\n",
       "      <td>1</td>\n",
       "    </tr>\n",
       "  </tbody>\n",
       "</table>\n",
       "</div>"
      ],
      "text/plain": [
       "   Year  Present_Price  Kms_Driven  Owner  Fuel_Type_Diesel  Fuel_Type_Petrol  \\\n",
       "0     4           5.59       27000      0                 0                 1   \n",
       "\n",
       "   Seller_Type_Individual  Transmission_Manual  \n",
       "0                       0                    1  "
      ]
     },
     "execution_count": 21,
     "metadata": {},
     "output_type": "execute_result"
    }
   ],
   "source": [
    "df_s[\"Year\"] = 2018-df_s[\"Year\"]\n",
    "df_s = pd.get_dummies(df_s).reindex(columns=columns, fill_value=0)\n",
    "df_s"
   ]
  },
  {
   "cell_type": "code",
   "execution_count": 22,
   "metadata": {},
   "outputs": [
    {
     "data": {
      "text/plain": [
       "array([3.3797061], dtype=float32)"
      ]
     },
     "execution_count": 22,
     "metadata": {},
     "output_type": "execute_result"
    }
   ],
   "source": [
    "scaler = joblib.load(open(\"scaler.joblib\",\"rb\"))\n",
    "model = joblib.load(open(\"xgb_model.joblib\",\"rb\"))\n",
    "df_s = scaler.transform(df_s)\n",
    "res = model.predict(df_s)\n",
    "res"
   ]
  },
  {
   "cell_type": "code",
   "execution_count": 25,
   "metadata": {},
   "outputs": [],
   "source": [
    "sample_two = [{\n",
    "\"Year\":2014,\n",
    "\"Present_Price\":5.59,\n",
    "\"Kms_Driven\":27000,\n",
    "\"Fuel_Type\":\"Petrol\",\n",
    "\"Seller_Type\":\"Dealer\",\n",
    "\"Transmission\":\"Manual\",\n",
    "\"Owner\":0\n",
    "    },\n",
    "{\n",
    "\"Year\":2014,\n",
    "\"Present_Price\":5.59,\n",
    "\"Kms_Driven\":27000,\n",
    "\"Fuel_Type\":\"Petrol\",\n",
    "\"Seller_Type\":\"Dealer\",\n",
    "\"Transmission\":\"Manual\",\n",
    "\"Owner\":0\n",
    "    }\n",
    "]"
   ]
  },
  {
   "cell_type": "code",
   "execution_count": 26,
   "metadata": {},
   "outputs": [
    {
     "data": {
      "text/plain": [
       "array([3.3797061, 3.3797061], dtype=float32)"
      ]
     },
     "execution_count": 26,
     "metadata": {},
     "output_type": "execute_result"
    }
   ],
   "source": [
    "scaler = joblib.load(open(\"scaler.joblib\",\"rb\"))\n",
    "model = joblib.load(open(\"xgb_model.joblib\",\"rb\"))\n",
    "columns = joblib.load(\"columns.joblib\")\n",
    "df_two = pd.DataFrame(sample_two)\n",
    "df_two[\"Year\"] = 2018-df_two[\"Year\"]\n",
    "df_two = pd.get_dummies(df_two).reindex(columns=columns, fill_value=0)\n",
    "df_two = scaler.transform(df_two)\n",
    "res = model.predict(df_two)\n",
    "res\n"
   ]
  },
  {
   "cell_type": "code",
   "execution_count": 27,
   "metadata": {},
   "outputs": [
    {
     "data": {
      "text/plain": [
       "Year                          8.000000\n",
       "Selling_Price                35.000000\n",
       "Present_Price                92.600000\n",
       "Kms_Driven                78000.000000\n",
       "Owner                         0.000000\n",
       "Fuel_Type_Diesel              1.000000\n",
       "Fuel_Type_Petrol              0.000000\n",
       "Seller_Type_Individual        0.000000\n",
       "Transmission_Manual           1.000000\n",
       "y_pred                       34.994293\n",
       "Name: 86, dtype: float64"
      ]
     },
     "execution_count": 27,
     "metadata": {},
     "output_type": "execute_result"
    }
   ],
   "source": [
    "df.iloc[y_pred.argmax()]"
   ]
  },
  {
   "cell_type": "code",
   "execution_count": 1,
   "metadata": {},
   "outputs": [],
   "source": [
    "import requests"
   ]
  },
  {
   "cell_type": "code",
   "execution_count": 3,
   "metadata": {},
   "outputs": [
    {
     "name": "stdout",
     "output_type": "stream",
     "text": [
      "<!DOCTYPE HTML PUBLIC \"-//W3C//DTD HTML 4.01 Transitional//EN\"\n",
      "  \"http://www.w3.org/TR/html4/loose.dtd\">\n",
      "<html>\n",
      "  <head>\n",
      "    <title>TypeError: float() argument must be a string or a number, not &#x27;NoneType&#x27; // Werkzeug Debugger</title>\n",
      "    <link rel=\"stylesheet\" href=\"?__debugger__=yes&amp;cmd=resource&amp;f=style.css\"\n",
      "        type=\"text/css\">\n",
      "    <!-- We need to make sure this has a favicon so that the debugger does\n",
      "         not accidentally trigger a request to /favicon.ico which might\n",
      "         change the application's state. -->\n",
      "    <link rel=\"shortcut icon\"\n",
      "        href=\"?__debugger__=yes&amp;cmd=resource&amp;f=console.png\">\n",
      "    <script src=\"?__debugger__=yes&amp;cmd=resource&amp;f=debugger.js\"></script>\n",
      "    <script type=\"text/javascript\">\n",
      "      var TRACEBACK = 140381358519312,\n",
      "          CONSOLE_MODE = false,\n",
      "          EVALEX = true,\n",
      "          EVALEX_TRUSTED = false,\n",
      "          SECRET = \"79tqYA7Wl5xQU2PN3rAn\";\n",
      "    </script>\n",
      "  </head>\n",
      "  <body style=\"background-color: #fff\">\n",
      "    <div class=\"debugger\">\n",
      "<h1>TypeError</h1>\n",
      "<div class=\"detail\">\n",
      "  <p class=\"errormsg\">TypeError: float() argument must be a string or a number, not &#x27;NoneType&#x27;</p>\n",
      "</div>\n",
      "<h2 class=\"traceback\">Traceback <em>(most recent call last)</em></h2>\n",
      "<div class=\"traceback\">\n",
      "  <h3></h3>\n",
      "  <ul><li><div class=\"frame\" id=\"frame-140381358518992\">\n",
      "  <h4>File <cite class=\"filename\">\"/home/ec2-user/flask_needed/venv/lib/python3.7/site-packages/flask/app.py\"</cite>,\n",
      "      line <em class=\"line\">2091</em>,\n",
      "      in <code class=\"function\">__call__</code></h4>\n",
      "  <div class=\"source library\"><pre class=\"line before\"><span class=\"ws\">    </span>def __call__(self, environ: dict, start_response: t.Callable) -&gt; t.Any:</pre>\n",
      "<pre class=\"line before\"><span class=\"ws\">        </span>&quot;&quot;&quot;The WSGI server calls the Flask application object as the</pre>\n",
      "<pre class=\"line before\"><span class=\"ws\">        </span>WSGI application. This calls :meth:`wsgi_app`, which can be</pre>\n",
      "<pre class=\"line before\"><span class=\"ws\">        </span>wrapped to apply middleware.</pre>\n",
      "<pre class=\"line before\"><span class=\"ws\">        </span>&quot;&quot;&quot;</pre>\n",
      "<pre class=\"line current\"><span class=\"ws\">        </span>return self.wsgi_app(environ, start_response)</pre></div>\n",
      "</div>\n",
      "\n",
      "<li><div class=\"frame\" id=\"frame-140381358519888\">\n",
      "  <h4>File <cite class=\"filename\">\"/home/ec2-user/flask_needed/venv/lib/python3.7/site-packages/flask/app.py\"</cite>,\n",
      "      line <em class=\"line\">2076</em>,\n",
      "      in <code class=\"function\">wsgi_app</code></h4>\n",
      "  <div class=\"source library\"><pre class=\"line before\"><span class=\"ws\">            </span>try:</pre>\n",
      "<pre class=\"line before\"><span class=\"ws\">                </span>ctx.push()</pre>\n",
      "<pre class=\"line before\"><span class=\"ws\">                </span>response = self.full_dispatch_request()</pre>\n",
      "<pre class=\"line before\"><span class=\"ws\">            </span>except Exception as e:</pre>\n",
      "<pre class=\"line before\"><span class=\"ws\">                </span>error = e</pre>\n",
      "<pre class=\"line current\"><span class=\"ws\">                </span>response = self.handle_exception(e)</pre>\n",
      "<pre class=\"line after\"><span class=\"ws\">            </span>except:  # noqa: B001</pre>\n",
      "<pre class=\"line after\"><span class=\"ws\">                </span>error = sys.exc_info()[1]</pre>\n",
      "<pre class=\"line after\"><span class=\"ws\">                </span>raise</pre>\n",
      "<pre class=\"line after\"><span class=\"ws\">            </span>return response(environ, start_response)</pre>\n",
      "<pre class=\"line after\"><span class=\"ws\">        </span>finally:</pre></div>\n",
      "</div>\n",
      "\n",
      "<li><div class=\"frame\" id=\"frame-140381358519952\">\n",
      "  <h4>File <cite class=\"filename\">\"/home/ec2-user/flask_needed/venv/lib/python3.7/site-packages/flask/app.py\"</cite>,\n",
      "      line <em class=\"line\">2073</em>,\n",
      "      in <code class=\"function\">wsgi_app</code></h4>\n",
      "  <div class=\"source library\"><pre class=\"line before\"><span class=\"ws\">        </span>ctx = self.request_context(environ)</pre>\n",
      "<pre class=\"line before\"><span class=\"ws\">        </span>error: t.Optional[BaseException] = None</pre>\n",
      "<pre class=\"line before\"><span class=\"ws\">        </span>try:</pre>\n",
      "<pre class=\"line before\"><span class=\"ws\">            </span>try:</pre>\n",
      "<pre class=\"line before\"><span class=\"ws\">                </span>ctx.push()</pre>\n",
      "<pre class=\"line current\"><span class=\"ws\">                </span>response = self.full_dispatch_request()</pre>\n",
      "<pre class=\"line after\"><span class=\"ws\">            </span>except Exception as e:</pre>\n",
      "<pre class=\"line after\"><span class=\"ws\">                </span>error = e</pre>\n",
      "<pre class=\"line after\"><span class=\"ws\">                </span>response = self.handle_exception(e)</pre>\n",
      "<pre class=\"line after\"><span class=\"ws\">            </span>except:  # noqa: B001</pre>\n",
      "<pre class=\"line after\"><span class=\"ws\">                </span>error = sys.exc_info()[1]</pre></div>\n",
      "</div>\n",
      "\n",
      "<li><div class=\"frame\" id=\"frame-140381358520016\">\n",
      "  <h4>File <cite class=\"filename\">\"/home/ec2-user/flask_needed/venv/lib/python3.7/site-packages/flask/app.py\"</cite>,\n",
      "      line <em class=\"line\">1518</em>,\n",
      "      in <code class=\"function\">full_dispatch_request</code></h4>\n",
      "  <div class=\"source library\"><pre class=\"line before\"><span class=\"ws\">            </span>request_started.send(self)</pre>\n",
      "<pre class=\"line before\"><span class=\"ws\">            </span>rv = self.preprocess_request()</pre>\n",
      "<pre class=\"line before\"><span class=\"ws\">            </span>if rv is None:</pre>\n",
      "<pre class=\"line before\"><span class=\"ws\">                </span>rv = self.dispatch_request()</pre>\n",
      "<pre class=\"line before\"><span class=\"ws\">        </span>except Exception as e:</pre>\n",
      "<pre class=\"line current\"><span class=\"ws\">            </span>rv = self.handle_user_exception(e)</pre>\n",
      "<pre class=\"line after\"><span class=\"ws\">        </span>return self.finalize_request(rv)</pre>\n",
      "<pre class=\"line after\"><span class=\"ws\"></span> </pre>\n",
      "<pre class=\"line after\"><span class=\"ws\">    </span>def finalize_request(</pre>\n",
      "<pre class=\"line after\"><span class=\"ws\">        </span>self,</pre>\n",
      "<pre class=\"line after\"><span class=\"ws\">        </span>rv: t.Union[ResponseReturnValue, HTTPException],</pre></div>\n",
      "</div>\n",
      "\n",
      "<li><div class=\"frame\" id=\"frame-140381358520080\">\n",
      "  <h4>File <cite class=\"filename\">\"/home/ec2-user/flask_needed/venv/lib/python3.7/site-packages/flask/app.py\"</cite>,\n",
      "      line <em class=\"line\">1516</em>,\n",
      "      in <code class=\"function\">full_dispatch_request</code></h4>\n",
      "  <div class=\"source library\"><pre class=\"line before\"><span class=\"ws\">        </span>self.try_trigger_before_first_request_functions()</pre>\n",
      "<pre class=\"line before\"><span class=\"ws\">        </span>try:</pre>\n",
      "<pre class=\"line before\"><span class=\"ws\">            </span>request_started.send(self)</pre>\n",
      "<pre class=\"line before\"><span class=\"ws\">            </span>rv = self.preprocess_request()</pre>\n",
      "<pre class=\"line before\"><span class=\"ws\">            </span>if rv is None:</pre>\n",
      "<pre class=\"line current\"><span class=\"ws\">                </span>rv = self.dispatch_request()</pre>\n",
      "<pre class=\"line after\"><span class=\"ws\">        </span>except Exception as e:</pre>\n",
      "<pre class=\"line after\"><span class=\"ws\">            </span>rv = self.handle_user_exception(e)</pre>\n",
      "<pre class=\"line after\"><span class=\"ws\">        </span>return self.finalize_request(rv)</pre>\n",
      "<pre class=\"line after\"><span class=\"ws\"></span> </pre>\n",
      "<pre class=\"line after\"><span class=\"ws\">    </span>def finalize_request(</pre></div>\n",
      "</div>\n",
      "\n",
      "<li><div class=\"frame\" id=\"frame-140381358519632\">\n",
      "  <h4>File <cite class=\"filename\">\"/home/ec2-user/flask_needed/venv/lib/python3.7/site-packages/flask/app.py\"</cite>,\n",
      "      line <em class=\"line\">1502</em>,\n",
      "      in <code class=\"function\">dispatch_request</code></h4>\n",
      "  <div class=\"source library\"><pre class=\"line before\"><span class=\"ws\">            </span>getattr(rule, &quot;provide_automatic_options&quot;, False)</pre>\n",
      "<pre class=\"line before\"><span class=\"ws\">            </span>and req.method == &quot;OPTIONS&quot;</pre>\n",
      "<pre class=\"line before\"><span class=\"ws\">        </span>):</pre>\n",
      "<pre class=\"line before\"><span class=\"ws\">            </span>return self.make_default_options_response()</pre>\n",
      "<pre class=\"line before\"><span class=\"ws\">        </span># otherwise dispatch to the handler for that endpoint</pre>\n",
      "<pre class=\"line current\"><span class=\"ws\">        </span>return self.ensure_sync(self.view_functions[rule.endpoint])(**req.view_args)</pre>\n",
      "<pre class=\"line after\"><span class=\"ws\"></span> </pre>\n",
      "<pre class=\"line after\"><span class=\"ws\">    </span>def full_dispatch_request(self) -&gt; Response:</pre>\n",
      "<pre class=\"line after\"><span class=\"ws\">        </span>&quot;&quot;&quot;Dispatches the request and on top of that performs request</pre>\n",
      "<pre class=\"line after\"><span class=\"ws\">        </span>pre and postprocessing as well as HTTP exception catching and</pre>\n",
      "<pre class=\"line after\"><span class=\"ws\">        </span>error handling.</pre></div>\n",
      "</div>\n",
      "\n",
      "<li><div class=\"frame\" id=\"frame-140381358520272\">\n",
      "  <h4>File <cite class=\"filename\">\"/home/ec2-user/flask_needed/app2.py\"</cite>,\n",
      "      line <em class=\"line\">56</em>,\n",
      "      in <code class=\"function\">rootpage</code></h4>\n",
      "  <div class=\"source \"><pre class=\"line before\"><span class=\"ws\">        </span>hp = request.form.get(&#x27;hp&#x27;)</pre>\n",
      "<pre class=\"line before\"><span class=\"ws\">        </span>km = request.form.get(&#x27;km&#x27;)</pre>\n",
      "<pre class=\"line before\"><span class=\"ws\">        </span>age = request.form.get(&#x27;age&#x27;)</pre>\n",
      "<pre class=\"line before\"><span class=\"ws\">        </span>gtype = request.form.get(&#x27;gtype&#x27;)</pre>\n",
      "<pre class=\"line before\"><span class=\"ws\">        </span>gnumber = request.form.get(&#x27;gnumber&#x27;)</pre>\n",
      "<pre class=\"line current\"><span class=\"ws\">        </span>res = prediction(make, hp, km, age, gtype, gnumber)</pre>\n",
      "<pre class=\"line after\"><span class=\"ws\">    </span>return render_template(&#x27;new_index.html&#x27;, res=res, make=make, hp=hp, km=km, age=age, gtype=gtype, gnumber=gnumber)</pre>\n",
      "<pre class=\"line after\"><span class=\"ws\"></span> </pre>\n",
      "<pre class=\"line after\"><span class=\"ws\"></span> </pre>\n",
      "<pre class=\"line after\"><span class=\"ws\"></span>app.run(host=&#x27;0.0.0.0&#x27;, port=5000, debug=True)</pre></div>\n",
      "</div>\n",
      "\n",
      "<li><div class=\"frame\" id=\"frame-140381358519696\">\n",
      "  <h4>File <cite class=\"filename\">\"/home/ec2-user/flask_needed/app2.py\"</cite>,\n",
      "      line <em class=\"line\">11</em>,\n",
      "      in <code class=\"function\">prediction</code></h4>\n",
      "  <div class=\"source \"><pre class=\"line before\"><span class=\"ws\"></span>app = Flask(__name__)</pre>\n",
      "<pre class=\"line before\"><span class=\"ws\"></span> </pre>\n",
      "<pre class=\"line before\"><span class=\"ws\"></span>def prediction(make, hp, km, age, gtype, gnumber, df=&#x27;feature_selected_df.csv&#x27;, rf=&#x27;streamlit_final_rf&#x27;, xgb=&#x27;streamlit_final_xgb&#x27;):</pre>\n",
      "<pre class=\"line before\"><span class=\"ws\"></span> </pre>\n",
      "<pre class=\"line before\"><span class=\"ws\">    </span>new_df = {&#x27;make_model&#x27;: make,</pre>\n",
      "<pre class=\"line current\"><span class=\"ws\">              </span>&#x27;hp_kW&#x27;:float(hp),</pre>\n",
      "<pre class=\"line after\"><span class=\"ws\">              </span>&#x27;km&#x27;:float(km),</pre>\n",
      "<pre class=\"line after\"><span class=\"ws\">              </span>&#x27;age&#x27;:float(age),</pre>\n",
      "<pre class=\"line after\"><span class=\"ws\">              </span>&#x27;Gearing_Type&#x27;:gtype,</pre>\n",
      "<pre class=\"line after\"><span class=\"ws\">              </span>&#x27;Gears&#x27;:float(gnumber)}</pre>\n",
      "<pre class=\"line after\"><span class=\"ws\">    </span>features = pd.DataFrame(new_df, index=[0])</pre></div>\n",
      "</div>\n",
      "</ul>\n",
      "  <blockquote>TypeError: float() argument must be a string or a number, not &#x27;NoneType&#x27;</blockquote>\n",
      "</div>\n",
      "\n",
      "<div class=\"plain\">\n",
      "    <p>\n",
      "      This is the Copy/Paste friendly version of the traceback.\n",
      "    </p>\n",
      "    <textarea cols=\"50\" rows=\"10\" name=\"code\" readonly>Traceback (most recent call last):\n",
      "  File &quot;/home/ec2-user/flask_needed/venv/lib/python3.7/site-packages/flask/app.py&quot;, line 2091, in __call__\n",
      "    return self.wsgi_app(environ, start_response)\n",
      "  File &quot;/home/ec2-user/flask_needed/venv/lib/python3.7/site-packages/flask/app.py&quot;, line 2076, in wsgi_app\n",
      "    response = self.handle_exception(e)\n",
      "  File &quot;/home/ec2-user/flask_needed/venv/lib/python3.7/site-packages/flask/app.py&quot;, line 2073, in wsgi_app\n",
      "    response = self.full_dispatch_request()\n",
      "  File &quot;/home/ec2-user/flask_needed/venv/lib/python3.7/site-packages/flask/app.py&quot;, line 1518, in full_dispatch_request\n",
      "    rv = self.handle_user_exception(e)\n",
      "  File &quot;/home/ec2-user/flask_needed/venv/lib/python3.7/site-packages/flask/app.py&quot;, line 1516, in full_dispatch_request\n",
      "    rv = self.dispatch_request()\n",
      "  File &quot;/home/ec2-user/flask_needed/venv/lib/python3.7/site-packages/flask/app.py&quot;, line 1502, in dispatch_request\n",
      "    return self.ensure_sync(self.view_functions[rule.endpoint])(**req.view_args)\n",
      "  File &quot;/home/ec2-user/flask_needed/app2.py&quot;, line 56, in rootpage\n",
      "    res = prediction(make, hp, km, age, gtype, gnumber)\n",
      "  File &quot;/home/ec2-user/flask_needed/app2.py&quot;, line 11, in prediction\n",
      "    &#x27;hp_kW&#x27;:float(hp),\n",
      "TypeError: float() argument must be a string or a number, not &#x27;NoneType&#x27;</textarea>\n",
      "</div>\n",
      "<div class=\"explanation\">\n",
      "  The debugger caught an exception in your WSGI application.  You can now\n",
      "  look at the traceback which led to the error.  <span class=\"nojavascript\">\n",
      "  If you enable JavaScript you can also use additional features such as code\n",
      "  execution (if the evalex feature is enabled), automatic pasting of the\n",
      "  exceptions and much more.</span>\n",
      "</div>\n",
      "      <div class=\"footer\">\n",
      "        Brought to you by <strong class=\"arthur\">DON'T PANIC</strong>, your\n",
      "        friendly Werkzeug powered traceback interpreter.\n",
      "      </div>\n",
      "    </div>\n",
      "\n",
      "    <div class=\"pin-prompt\">\n",
      "      <div class=\"inner\">\n",
      "        <h3>Console Locked</h3>\n",
      "        <p>\n",
      "          The console is locked and needs to be unlocked by entering the PIN.\n",
      "          You can find the PIN printed out on the standard output of your\n",
      "          shell that runs the server.\n",
      "        <form>\n",
      "          <p>PIN:\n",
      "            <input type=text name=pin size=14>\n",
      "            <input type=submit name=btn value=\"Confirm Pin\">\n",
      "        </form>\n",
      "      </div>\n",
      "    </div>\n",
      "  </body>\n",
      "</html>\n",
      "\n",
      "<!--\n",
      "\n",
      "Traceback (most recent call last):\n",
      "  File \"/home/ec2-user/flask_needed/venv/lib/python3.7/site-packages/flask/app.py\", line 2091, in __call__\n",
      "    return self.wsgi_app(environ, start_response)\n",
      "  File \"/home/ec2-user/flask_needed/venv/lib/python3.7/site-packages/flask/app.py\", line 2076, in wsgi_app\n",
      "    response = self.handle_exception(e)\n",
      "  File \"/home/ec2-user/flask_needed/venv/lib/python3.7/site-packages/flask/app.py\", line 2073, in wsgi_app\n",
      "    response = self.full_dispatch_request()\n",
      "  File \"/home/ec2-user/flask_needed/venv/lib/python3.7/site-packages/flask/app.py\", line 1518, in full_dispatch_request\n",
      "    rv = self.handle_user_exception(e)\n",
      "  File \"/home/ec2-user/flask_needed/venv/lib/python3.7/site-packages/flask/app.py\", line 1516, in full_dispatch_request\n",
      "    rv = self.dispatch_request()\n",
      "  File \"/home/ec2-user/flask_needed/venv/lib/python3.7/site-packages/flask/app.py\", line 1502, in dispatch_request\n",
      "    return self.ensure_sync(self.view_functions[rule.endpoint])(**req.view_args)\n",
      "  File \"/home/ec2-user/flask_needed/app2.py\", line 56, in rootpage\n",
      "    res = prediction(make, hp, km, age, gtype, gnumber)\n",
      "  File \"/home/ec2-user/flask_needed/app2.py\", line 11, in prediction\n",
      "    'hp_kW':float(hp),\n",
      "TypeError: float() argument must be a string or a number, not 'NoneType'\n",
      "\n",
      "-->\n",
      "\n"
     ]
    }
   ],
   "source": [
    "url = \"http://44.203.125.165:5000/\"\n",
    "data ={\n",
    "\"make_model\":'Audi A3',\n",
    "\"hp_kW\":'40',\n",
    "\"km\":'1000',\n",
    "\"age\":'0',\n",
    "\"gtype\":\"Automatic\",\n",
    "\"gnumber\":'5'\n",
    "    }\n",
    "response = requests.post(url, json=data)\n",
    "print(response.text)"
   ]
  },
  {
   "cell_type": "code",
   "execution_count": 11,
   "metadata": {},
   "outputs": [
    {
     "name": "stdout",
     "output_type": "stream",
     "text": [
      "{\n",
      "  \"Predicted price\": \"$ 3.3797\"\n",
      "}\n",
      "\n"
     ]
    }
   ],
   "source": [
    "url = \"http://127.0.0.1:5000/api\"\n",
    "data ={\n",
    "\"Year\":2014,\n",
    "\"Present_Price\":5.59,\n",
    "\"Kms_Driven\":27000,\n",
    "\"Fuel_Type\":\"Petrol\",\n",
    "\"Seller_Type\":\"Dealer\",\n",
    "\"Transmission\":\"Manual\",\n",
    "\"Owner\":0\n",
    "    }\n",
    "response = requests.post(url, json=data)\n",
    "print(response.text)"
   ]
  },
  {
   "cell_type": "code",
   "execution_count": null,
   "metadata": {},
   "outputs": [],
   "source": []
  }
 ],
 "metadata": {
  "interpreter": {
   "hash": "89f176e6837753ece4738ac623e2a1bf4a5e6585e12e752f080d83d764f71ce3"
  },
  "kernelspec": {
   "display_name": "Python 3.8.7 64-bit",
   "language": "python",
   "name": "python3"
  },
  "language_info": {
   "codemirror_mode": {
    "name": "ipython",
    "version": 3
   },
   "file_extension": ".py",
   "mimetype": "text/x-python",
   "name": "python",
   "nbconvert_exporter": "python",
   "pygments_lexer": "ipython3",
   "version": "3.9.7"
  },
  "orig_nbformat": 4
 },
 "nbformat": 4,
 "nbformat_minor": 2
}
