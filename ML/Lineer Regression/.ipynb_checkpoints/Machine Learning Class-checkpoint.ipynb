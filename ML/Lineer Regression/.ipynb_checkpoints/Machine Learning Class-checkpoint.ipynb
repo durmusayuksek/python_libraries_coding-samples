{
 "cells": [
  {
   "cell_type": "code",
   "execution_count": 1,
   "metadata": {},
   "outputs": [],
   "source": [
    "import numpy as np\n",
    "import pandas as pd\n",
    "import matplotlib.pyplot as plt\n",
    "import seaborn as sns\n",
    "import scipy.stats as stats\n",
    "plt.rcParams[\"figure.figsize\"] = (10,6)\n",
    "\n",
    "import warnings\n",
    "warnings.filterwarnings('ignore')"
   ]
  },
  {
   "cell_type": "code",
   "execution_count": 3,
   "metadata": {},
   "outputs": [
    {
     "data": {
      "text/html": [
       "<div>\n",
       "<style scoped>\n",
       "    .dataframe tbody tr th:only-of-type {\n",
       "        vertical-align: middle;\n",
       "    }\n",
       "\n",
       "    .dataframe tbody tr th {\n",
       "        vertical-align: top;\n",
       "    }\n",
       "\n",
       "    .dataframe thead th {\n",
       "        text-align: right;\n",
       "    }\n",
       "</style>\n",
       "<table border=\"1\" class=\"dataframe\">\n",
       "  <thead>\n",
       "    <tr style=\"text-align: right;\">\n",
       "      <th></th>\n",
       "      <th>TV</th>\n",
       "      <th>radio</th>\n",
       "      <th>newspaper</th>\n",
       "      <th>sales</th>\n",
       "    </tr>\n",
       "  </thead>\n",
       "  <tbody>\n",
       "    <tr>\n",
       "      <th>0</th>\n",
       "      <td>230.1</td>\n",
       "      <td>37.8</td>\n",
       "      <td>69.2</td>\n",
       "      <td>22.1</td>\n",
       "    </tr>\n",
       "    <tr>\n",
       "      <th>1</th>\n",
       "      <td>44.5</td>\n",
       "      <td>39.3</td>\n",
       "      <td>45.1</td>\n",
       "      <td>10.4</td>\n",
       "    </tr>\n",
       "  </tbody>\n",
       "</table>\n",
       "</div>"
      ],
      "text/plain": [
       "      TV  radio  newspaper  sales\n",
       "0  230.1   37.8       69.2   22.1\n",
       "1   44.5   39.3       45.1   10.4"
      ]
     },
     "execution_count": 3,
     "metadata": {},
     "output_type": "execute_result"
    }
   ],
   "source": [
    "df = pd.read_csv(\"Advertising.csv\")\n",
    "df.head(2)"
   ]
  },
  {
   "cell_type": "code",
   "execution_count": 6,
   "metadata": {},
   "outputs": [],
   "source": [
    "X = df.drop('sales', axis=1)\n",
    "y = df['sales']"
   ]
  },
  {
   "cell_type": "code",
   "execution_count": 23,
   "metadata": {},
   "outputs": [],
   "source": [
    "class MachineLearning(object):\n",
    "    def __init__(self, x, y):\n",
    "        self.x = x\n",
    "        self.y = y\n",
    "    def get_x(self):\n",
    "        return self.x\n",
    "    def get_y(self):\n",
    "        return self.y\n",
    "    def corr(self):\n",
    "        for i in self.x:\n",
    "            print(f'corr between {i} and the target label: {y.corr(self.x[i])}')\n",
    "    def scatter(self, x_axis):\n",
    "        sns.scatterplot(self.x[x_axis], y)\n",
    "    def __str__(self):\n",
    "        return f'Machine Learning object of features: {self.x.columns} and the target label.'"
   ]
  },
  {
   "cell_type": "code",
   "execution_count": 54,
   "metadata": {},
   "outputs": [],
   "source": [
    "class polyfit(MachineLearning):\n",
    "    \"\"\"possible with only one feature\"\"\"\n",
    "    def __init__(self, x, y, deg=1):\n",
    "        MachineLearning.__init__(self, x, y)\n",
    "        self.deg = deg\n",
    "    def fit(self):\n",
    "        slope, intercept = np.polyfit(self.x, self.y, self.deg)\n",
    "        y_pred = slope*X + intercept\n",
    "        print(y_pred)\n",
    "        print('slope:', slope, '\\nintercept:', intercept)\n",
    "#         values = {\"actual\": y, \"predicted\": y_pred, \"residual\":y-y_pred}\n",
    "#         df_1 = pd.DataFrame(values)\n",
    "    def __str__(self):\n",
    "        return f'Machine Learning object of features: {self.x.columns} and the target label.'"
   ]
  },
  {
   "cell_type": "code",
   "execution_count": 55,
   "metadata": {},
   "outputs": [],
   "source": [
    "a = polyfit(X['TV'], y)"
   ]
  },
  {
   "cell_type": "code",
   "execution_count": 56,
   "metadata": {},
   "outputs": [
    {
     "name": "stdout",
     "output_type": "stream",
     "text": [
      "            TV     radio  newspaper\n",
      "0    17.970775  8.829479  10.322129\n",
      "1     9.147974  8.900784   9.176496\n",
      "2     7.850224  9.214525  10.326883\n",
      "3    14.234395  8.995857   9.813487\n",
      "4    15.627218  7.545989   9.808733\n",
      "..         ...       ...        ...\n",
      "195   8.848493  7.208479   7.688599\n",
      "196  11.510545  7.265523   7.417640\n",
      "197  15.446579  7.474684   7.336828\n",
      "198  20.513985  9.029132  10.179519\n",
      "199  18.065848  7.441409   7.446162\n",
      "\n",
      "[200 rows x 3 columns]\n",
      "slope: 0.04753664043301972 \n",
      "intercept: 7.032593549127697\n"
     ]
    }
   ],
   "source": [
    "a.fit()"
   ]
  },
  {
   "cell_type": "code",
   "execution_count": null,
   "metadata": {},
   "outputs": [],
   "source": []
  },
  {
   "cell_type": "code",
   "execution_count": null,
   "metadata": {},
   "outputs": [],
   "source": [
    "class polyfit()"
   ]
  }
 ],
 "metadata": {
  "kernelspec": {
   "display_name": "Python 3 (ipykernel)",
   "language": "python",
   "name": "python3"
  },
  "language_info": {
   "codemirror_mode": {
    "name": "ipython",
    "version": 3
   },
   "file_extension": ".py",
   "mimetype": "text/x-python",
   "name": "python",
   "nbconvert_exporter": "python",
   "pygments_lexer": "ipython3",
   "version": "3.8.5"
  }
 },
 "nbformat": 4,
 "nbformat_minor": 4
}
