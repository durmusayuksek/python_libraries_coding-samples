{
 "cells": [
  {
   "cell_type": "markdown",
   "id": "e1791d0b",
   "metadata": {},
   "source": [
    "### how to download mysql:\n",
    "<a>https://www.youtube.com/watch?v=yOmxJbZjTnU</a>"
   ]
  },
  {
   "cell_type": "code",
   "execution_count": null,
   "id": "9ab14f93",
   "metadata": {},
   "outputs": [],
   "source": [
    "# !pip install mysql-connector"
   ]
  },
  {
   "cell_type": "code",
   "execution_count": 1,
   "id": "4efcf167",
   "metadata": {},
   "outputs": [],
   "source": [
    "import mysql.connector"
   ]
  },
  {
   "cell_type": "code",
   "execution_count": 2,
   "id": "3c8af166",
   "metadata": {},
   "outputs": [],
   "source": [
    "# first, we connect to mysql through mysql.connector\n",
    "\n",
    "db = mysql.connector.connect(host=\"localhost\",\n",
    "                             user=\"root\",\n",
    "                             passwd=\"BatonRouge1299-\")"
   ]
  },
  {
   "cell_type": "code",
   "execution_count": 3,
   "id": "0f0b6780",
   "metadata": {},
   "outputs": [],
   "source": [
    "c = db.cursor()"
   ]
  },
  {
   "cell_type": "code",
   "execution_count": 4,
   "id": "7b726a99",
   "metadata": {},
   "outputs": [],
   "source": [
    "# creating a database\n",
    "\n",
    "c.execute('CREATE DATABASE testdatabase')"
   ]
  },
  {
   "cell_type": "code",
   "execution_count": 5,
   "id": "583e12ac",
   "metadata": {},
   "outputs": [],
   "source": [
    "# how to show the current databases in mysql\n",
    "\n",
    "c.execute('SHOW DATABASES')"
   ]
  },
  {
   "cell_type": "code",
   "execution_count": 6,
   "id": "cbb3fbb0",
   "metadata": {},
   "outputs": [
    {
     "data": {
      "text/plain": [
       "[('information_schema',),\n",
       " ('mysql',),\n",
       " ('performance_schema',),\n",
       " ('sql_hr',),\n",
       " ('sql_inventory',),\n",
       " ('sql_invoicing',),\n",
       " ('sql_store',),\n",
       " ('sys',),\n",
       " ('testdatabase',)]"
      ]
     },
     "execution_count": 6,
     "metadata": {},
     "output_type": "execute_result"
    }
   ],
   "source": [
    "c.fetchall()"
   ]
  },
  {
   "cell_type": "code",
   "execution_count": 7,
   "id": "6f142e2b",
   "metadata": {},
   "outputs": [],
   "source": [
    "c.execute(\"USE testdatabase\")"
   ]
  },
  {
   "cell_type": "code",
   "execution_count": 8,
   "id": "dda24c74",
   "metadata": {},
   "outputs": [],
   "source": [
    "# creating a table in the database\n",
    "\n",
    "c.execute(\"\"\"\n",
    "    CREATE TABLE deneme\n",
    "    (first_name VARCHAR(50),\n",
    "     last_name VARCHAR(50),\n",
    "     email VARCHAR(50),\n",
    "     age INTEGER,\n",
    "     user_id INTEGER AUTO_INCREMENT PRIMARY KEY);\n",
    "\"\"\")"
   ]
  },
  {
   "cell_type": "code",
   "execution_count": 9,
   "id": "c3f70a55",
   "metadata": {},
   "outputs": [],
   "source": [
    "c.execute(\"\"\"\n",
    "    INSERT INTO deneme\n",
    "    VALUES ('dustin', 'yates', 'dustinyates@gmail.com', 30, DEFAULT)\n",
    "\"\"\")"
   ]
  },
  {
   "cell_type": "code",
   "execution_count": 10,
   "id": "cba6c5b5",
   "metadata": {},
   "outputs": [],
   "source": [
    "c.execute(\"SELECT * FROM deneme\")"
   ]
  },
  {
   "cell_type": "code",
   "execution_count": 11,
   "id": "421ef59b",
   "metadata": {},
   "outputs": [
    {
     "data": {
      "text/plain": [
       "[('dustin', 'yates', 'dustinyates@gmail.com', 30, 1)]"
      ]
     },
     "execution_count": 11,
     "metadata": {},
     "output_type": "execute_result"
    }
   ],
   "source": [
    "c.fetchall()"
   ]
  },
  {
   "cell_type": "code",
   "execution_count": 12,
   "id": "ee235144",
   "metadata": {},
   "outputs": [],
   "source": [
    "# connecting to another database in mysql\n",
    "\n",
    "c.execute(\"USE sql_store\")"
   ]
  },
  {
   "cell_type": "code",
   "execution_count": 13,
   "id": "a9e9e34d",
   "metadata": {},
   "outputs": [],
   "source": [
    "c.execute(\"SHOW TABLES\")"
   ]
  },
  {
   "cell_type": "code",
   "execution_count": 14,
   "id": "aa303262",
   "metadata": {},
   "outputs": [
    {
     "data": {
      "text/plain": [
       "[('customers',),\n",
       " ('order_item_notes',),\n",
       " ('order_items',),\n",
       " ('order_statuses',),\n",
       " ('orders',),\n",
       " ('products',),\n",
       " ('shippers',)]"
      ]
     },
     "execution_count": 14,
     "metadata": {},
     "output_type": "execute_result"
    }
   ],
   "source": [
    "c.fetchall()"
   ]
  },
  {
   "cell_type": "code",
   "execution_count": 15,
   "id": "37c6bf0e",
   "metadata": {},
   "outputs": [],
   "source": [
    "c.execute(\"SELECT * FROM customers\")"
   ]
  },
  {
   "cell_type": "code",
   "execution_count": 16,
   "id": "a8427a5d",
   "metadata": {},
   "outputs": [],
   "source": [
    "# assigning the values in the customers table to the data variable\n",
    "\n",
    "data = c.fetchall()"
   ]
  },
  {
   "cell_type": "code",
   "execution_count": 20,
   "id": "554fd413",
   "metadata": {},
   "outputs": [],
   "source": [
    "# to examine the column names of the customers table and their details \n",
    "\n",
    "c.execute(\"SHOW COLUMNS FROM customers\")"
   ]
  },
  {
   "cell_type": "code",
   "execution_count": 21,
   "id": "1da0b53d",
   "metadata": {},
   "outputs": [
    {
     "data": {
      "text/plain": [
       "[('customer_id', b'int', 'NO', 'PRI', None, 'auto_increment'),\n",
       " ('first_name', b'varchar(50)', 'NO', '', None, ''),\n",
       " ('last_name', b'varchar(50)', 'NO', '', None, ''),\n",
       " ('birth_date', b'date', 'YES', '', None, ''),\n",
       " ('phone', b'varchar(50)', 'YES', '', None, ''),\n",
       " ('address', b'varchar(50)', 'NO', '', None, ''),\n",
       " ('city', b'varchar(50)', 'NO', '', None, ''),\n",
       " ('state', b'char(2)', 'NO', '', None, ''),\n",
       " ('points', b'int', 'NO', '', b'0', '')]"
      ]
     },
     "execution_count": 21,
     "metadata": {},
     "output_type": "execute_result"
    }
   ],
   "source": [
    "c.fetchall()"
   ]
  },
  {
   "cell_type": "code",
   "execution_count": 22,
   "id": "b7d46409",
   "metadata": {},
   "outputs": [],
   "source": [
    "# to get only the column names of the customers table\n",
    "\n",
    "c.execute(\"\"\"\n",
    "    SELECT column_name\n",
    "    FROM information_schema.columns\n",
    "    WHERE table_name='customers';\n",
    "\"\"\")"
   ]
  },
  {
   "cell_type": "code",
   "execution_count": 23,
   "id": "aa70e9eb",
   "metadata": {},
   "outputs": [],
   "source": [
    "column_names = c.fetchall()"
   ]
  },
  {
   "cell_type": "code",
   "execution_count": 24,
   "id": "c79c8ed4",
   "metadata": {},
   "outputs": [
    {
     "data": {
      "text/plain": [
       "[('customer_id',),\n",
       " ('first_name',),\n",
       " ('last_name',),\n",
       " ('birth_date',),\n",
       " ('phone',),\n",
       " ('address',),\n",
       " ('city',),\n",
       " ('state',),\n",
       " ('points',)]"
      ]
     },
     "execution_count": 24,
     "metadata": {},
     "output_type": "execute_result"
    }
   ],
   "source": [
    "column_names"
   ]
  },
  {
   "cell_type": "code",
   "execution_count": 25,
   "id": "cdd50871",
   "metadata": {},
   "outputs": [],
   "source": [
    "column_names = [i[0] for i in column_names]"
   ]
  },
  {
   "cell_type": "code",
   "execution_count": 26,
   "id": "be85da9d",
   "metadata": {},
   "outputs": [
    {
     "data": {
      "application/javascript": [
       "\n",
       "        if (window._pyforest_update_imports_cell) { window._pyforest_update_imports_cell('import pandas as pd'); }\n",
       "    "
      ],
      "text/plain": [
       "<IPython.core.display.Javascript object>"
      ]
     },
     "metadata": {},
     "output_type": "display_data"
    },
    {
     "data": {
      "text/html": [
       "<div>\n",
       "<style scoped>\n",
       "    .dataframe tbody tr th:only-of-type {\n",
       "        vertical-align: middle;\n",
       "    }\n",
       "\n",
       "    .dataframe tbody tr th {\n",
       "        vertical-align: top;\n",
       "    }\n",
       "\n",
       "    .dataframe thead th {\n",
       "        text-align: right;\n",
       "    }\n",
       "</style>\n",
       "<table border=\"1\" class=\"dataframe\">\n",
       "  <thead>\n",
       "    <tr style=\"text-align: right;\">\n",
       "      <th></th>\n",
       "      <th>customer_id</th>\n",
       "      <th>first_name</th>\n",
       "      <th>last_name</th>\n",
       "      <th>birth_date</th>\n",
       "      <th>phone</th>\n",
       "      <th>address</th>\n",
       "      <th>city</th>\n",
       "      <th>state</th>\n",
       "      <th>points</th>\n",
       "    </tr>\n",
       "  </thead>\n",
       "  <tbody>\n",
       "    <tr>\n",
       "      <th>0</th>\n",
       "      <td>1</td>\n",
       "      <td>Babara</td>\n",
       "      <td>MacCaffrey</td>\n",
       "      <td>1986-03-28</td>\n",
       "      <td>781-932-9754</td>\n",
       "      <td>0 Sage Terrace</td>\n",
       "      <td>Waltham</td>\n",
       "      <td>MA</td>\n",
       "      <td>2273</td>\n",
       "    </tr>\n",
       "    <tr>\n",
       "      <th>1</th>\n",
       "      <td>2</td>\n",
       "      <td>Ines</td>\n",
       "      <td>Brushfield</td>\n",
       "      <td>1986-04-13</td>\n",
       "      <td>804-427-9456</td>\n",
       "      <td>14187 Commercial Trail</td>\n",
       "      <td>Hampton</td>\n",
       "      <td>VA</td>\n",
       "      <td>947</td>\n",
       "    </tr>\n",
       "    <tr>\n",
       "      <th>2</th>\n",
       "      <td>3</td>\n",
       "      <td>Freddi</td>\n",
       "      <td>Boagey</td>\n",
       "      <td>1985-02-07</td>\n",
       "      <td>719-724-7869</td>\n",
       "      <td>251 Springs Junction</td>\n",
       "      <td>Colorado Springs</td>\n",
       "      <td>CO</td>\n",
       "      <td>2967</td>\n",
       "    </tr>\n",
       "    <tr>\n",
       "      <th>3</th>\n",
       "      <td>4</td>\n",
       "      <td>Ambur</td>\n",
       "      <td>Roseburgh</td>\n",
       "      <td>1974-04-14</td>\n",
       "      <td>407-231-8017</td>\n",
       "      <td>30 Arapahoe Terrace</td>\n",
       "      <td>Orlando</td>\n",
       "      <td>FL</td>\n",
       "      <td>457</td>\n",
       "    </tr>\n",
       "    <tr>\n",
       "      <th>4</th>\n",
       "      <td>5</td>\n",
       "      <td>Clemmie</td>\n",
       "      <td>Betchley</td>\n",
       "      <td>1973-11-07</td>\n",
       "      <td>None</td>\n",
       "      <td>5 Spohn Circle</td>\n",
       "      <td>Arlington</td>\n",
       "      <td>TX</td>\n",
       "      <td>3675</td>\n",
       "    </tr>\n",
       "    <tr>\n",
       "      <th>5</th>\n",
       "      <td>6</td>\n",
       "      <td>Elka</td>\n",
       "      <td>Twiddell</td>\n",
       "      <td>1991-09-04</td>\n",
       "      <td>312-480-8498</td>\n",
       "      <td>7 Manley Drive</td>\n",
       "      <td>Chicago</td>\n",
       "      <td>IL</td>\n",
       "      <td>3073</td>\n",
       "    </tr>\n",
       "    <tr>\n",
       "      <th>6</th>\n",
       "      <td>7</td>\n",
       "      <td>Ilene</td>\n",
       "      <td>Dowson</td>\n",
       "      <td>1964-08-30</td>\n",
       "      <td>615-641-4759</td>\n",
       "      <td>50 Lillian Crossing</td>\n",
       "      <td>Nashville</td>\n",
       "      <td>TN</td>\n",
       "      <td>1672</td>\n",
       "    </tr>\n",
       "    <tr>\n",
       "      <th>7</th>\n",
       "      <td>8</td>\n",
       "      <td>Thacher</td>\n",
       "      <td>Naseby</td>\n",
       "      <td>1993-07-17</td>\n",
       "      <td>941-527-3977</td>\n",
       "      <td>538 Mosinee Center</td>\n",
       "      <td>Sarasota</td>\n",
       "      <td>FL</td>\n",
       "      <td>205</td>\n",
       "    </tr>\n",
       "    <tr>\n",
       "      <th>8</th>\n",
       "      <td>9</td>\n",
       "      <td>Romola</td>\n",
       "      <td>Rumgay</td>\n",
       "      <td>1992-05-23</td>\n",
       "      <td>559-181-3744</td>\n",
       "      <td>3520 Ohio Trail</td>\n",
       "      <td>Visalia</td>\n",
       "      <td>CA</td>\n",
       "      <td>1486</td>\n",
       "    </tr>\n",
       "    <tr>\n",
       "      <th>9</th>\n",
       "      <td>10</td>\n",
       "      <td>Levy</td>\n",
       "      <td>Mynett</td>\n",
       "      <td>1969-10-13</td>\n",
       "      <td>404-246-3370</td>\n",
       "      <td>68 Lawn Avenue</td>\n",
       "      <td>Atlanta</td>\n",
       "      <td>GA</td>\n",
       "      <td>796</td>\n",
       "    </tr>\n",
       "  </tbody>\n",
       "</table>\n",
       "</div>"
      ],
      "text/plain": [
       "   customer_id first_name   last_name  birth_date         phone  \\\n",
       "0            1     Babara  MacCaffrey  1986-03-28  781-932-9754   \n",
       "1            2       Ines  Brushfield  1986-04-13  804-427-9456   \n",
       "2            3     Freddi      Boagey  1985-02-07  719-724-7869   \n",
       "3            4      Ambur   Roseburgh  1974-04-14  407-231-8017   \n",
       "4            5    Clemmie    Betchley  1973-11-07          None   \n",
       "5            6       Elka    Twiddell  1991-09-04  312-480-8498   \n",
       "6            7      Ilene      Dowson  1964-08-30  615-641-4759   \n",
       "7            8    Thacher      Naseby  1993-07-17  941-527-3977   \n",
       "8            9     Romola      Rumgay  1992-05-23  559-181-3744   \n",
       "9           10       Levy      Mynett  1969-10-13  404-246-3370   \n",
       "\n",
       "                  address              city state  points  \n",
       "0          0 Sage Terrace           Waltham    MA    2273  \n",
       "1  14187 Commercial Trail           Hampton    VA     947  \n",
       "2    251 Springs Junction  Colorado Springs    CO    2967  \n",
       "3     30 Arapahoe Terrace           Orlando    FL     457  \n",
       "4          5 Spohn Circle         Arlington    TX    3675  \n",
       "5          7 Manley Drive           Chicago    IL    3073  \n",
       "6     50 Lillian Crossing         Nashville    TN    1672  \n",
       "7      538 Mosinee Center          Sarasota    FL     205  \n",
       "8         3520 Ohio Trail           Visalia    CA    1486  \n",
       "9          68 Lawn Avenue           Atlanta    GA     796  "
      ]
     },
     "execution_count": 26,
     "metadata": {},
     "output_type": "execute_result"
    }
   ],
   "source": [
    "# converting the information in the customers table to a pandas dataframe\n",
    "\n",
    "pd.DataFrame(data, columns=column_names)"
   ]
  },
  {
   "cell_type": "code",
   "execution_count": null,
   "id": "a3fcf4d8",
   "metadata": {},
   "outputs": [],
   "source": []
  }
 ],
 "metadata": {
  "kernelspec": {
   "display_name": "Python 3 (ipykernel)",
   "language": "python",
   "name": "python3"
  },
  "language_info": {
   "codemirror_mode": {
    "name": "ipython",
    "version": 3
   },
   "file_extension": ".py",
   "mimetype": "text/x-python",
   "name": "python",
   "nbconvert_exporter": "python",
   "pygments_lexer": "ipython3",
   "version": "3.9.7"
  }
 },
 "nbformat": 4,
 "nbformat_minor": 5
}
