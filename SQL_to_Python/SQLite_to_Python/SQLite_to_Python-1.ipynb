{
 "cells": [
  {
   "cell_type": "code",
   "execution_count": 1,
   "id": "4f234f20",
   "metadata": {},
   "outputs": [],
   "source": [
    "import sqlite3"
   ]
  },
  {
   "cell_type": "code",
   "execution_count": 2,
   "id": "49734f2b",
   "metadata": {},
   "outputs": [],
   "source": [
    "conn = sqlite3.connect('employeetable_sqlite.ipynb') # sql ile connection olusturuluyor\n",
    "\n",
    "# eger burada file ismi yerine :memory: yazarsam olusturulan database'i memory'ye olusturacak ve her calistirdigimda\n",
    "# silinip tekrar olusacagi icin ayni isimde tablo olustursam bile daha once olusturdunuz gibi bir hata vermeyecek\n",
    "\n",
    "# memory daha cok test amacli kullaniliyor"
   ]
  },
  {
   "cell_type": "code",
   "execution_count": 3,
   "id": "c54c1fdb",
   "metadata": {},
   "outputs": [],
   "source": [
    "c = conn.cursor() # sql komutlarimizi yazmak icin cursor kuruyoruz"
   ]
  },
  {
   "cell_type": "code",
   "execution_count": 4,
   "id": "bbfdcbfc",
   "metadata": {},
   "outputs": [
    {
     "data": {
      "text/plain": [
       "<sqlite3.Cursor at 0x7fcb55501500>"
      ]
     },
     "execution_count": 4,
     "metadata": {},
     "output_type": "execute_result"
    }
   ],
   "source": [
    "c.execute(\"\"\"CREATE TABLE employee (\n",
    "            first text,\n",
    "            last text,\n",
    "            pay integer\n",
    "            )\"\"\")\n",
    "\n",
    "# sql komutunu buraya yaziyoruz"
   ]
  },
  {
   "cell_type": "code",
   "execution_count": null,
   "id": "fc454c6e",
   "metadata": {},
   "outputs": [],
   "source": [
    "# eger bu komutlari vs code'da yaziyor olsaydim, her bir komutu ayri ayri ve sirayla calistirmak icin \n",
    "# conn.commit() demem gerekirdi."
   ]
  },
  {
   "cell_type": "code",
   "execution_count": 5,
   "id": "69a2d29c",
   "metadata": {},
   "outputs": [
    {
     "data": {
      "text/plain": [
       "<sqlite3.Cursor at 0x7fcb55501500>"
      ]
     },
     "execution_count": 5,
     "metadata": {},
     "output_type": "execute_result"
    }
   ],
   "source": [
    "c.execute(\"INSERT INTO employee VALUES ('Corey', 'Schafer', 50000)\")\n",
    "\n",
    "# Burada yukarida olusturdugumuz employee tablosuna veri girisi yapmis olduk"
   ]
  },
  {
   "cell_type": "code",
   "execution_count": 9,
   "id": "c18b8e89",
   "metadata": {},
   "outputs": [
    {
     "data": {
      "text/plain": [
       "<sqlite3.Cursor at 0x7fcb55501500>"
      ]
     },
     "execution_count": 9,
     "metadata": {},
     "output_type": "execute_result"
    }
   ],
   "source": [
    "c.execute(\"SELECT * FROM employee WHERE last='Schafer'\")\n",
    "# c.fetchone() ilk row'u dondurur, ilk row'da aradigimiz degeri bulamazsa None dondurur\n",
    "\n",
    "# c.fetchmany(5) icine yazildigi kadar row'u bir liste icinde dondurur, eger deger bulamazsa bos liste dondurur\n",
    "\n",
    "# c.fetchall() butun row'lari bir liste icinde dondurur, eger deger bulamazsa bos liste dondurur"
   ]
  },
  {
   "cell_type": "code",
   "execution_count": 7,
   "id": "a52d0d7a",
   "metadata": {},
   "outputs": [
    {
     "data": {
      "text/plain": [
       "('Corey', 'Schafer', 50000)"
      ]
     },
     "execution_count": 7,
     "metadata": {},
     "output_type": "execute_result"
    }
   ],
   "source": [
    "c.fetchone()\n",
    "\n",
    "# bu kodu calistirdiktan sonra ikinci bir fetch islemi yapamam, oncesinde yeni bir execute yapmam gerekli"
   ]
  },
  {
   "cell_type": "code",
   "execution_count": null,
   "id": "8fafc346",
   "metadata": {},
   "outputs": [],
   "source": [
    "c.execute(\"SELECT * FROM employee WHERE last='Schafer'\")"
   ]
  },
  {
   "cell_type": "code",
   "execution_count": 10,
   "id": "836553b2",
   "metadata": {},
   "outputs": [
    {
     "data": {
      "text/plain": [
       "[('Corey', 'Schafer', 50000)]"
      ]
     },
     "execution_count": 10,
     "metadata": {},
     "output_type": "execute_result"
    }
   ],
   "source": [
    "c.fetchall()"
   ]
  },
  {
   "cell_type": "code",
   "execution_count": 11,
   "id": "95721373",
   "metadata": {},
   "outputs": [
    {
     "data": {
      "text/plain": [
       "<sqlite3.Cursor at 0x7fcb55501500>"
      ]
     },
     "execution_count": 11,
     "metadata": {},
     "output_type": "execute_result"
    }
   ],
   "source": [
    "c.execute(\"INSERT INTO employee VALUES ('Mary', 'Schafer', 70000)\")"
   ]
  },
  {
   "cell_type": "code",
   "execution_count": 13,
   "id": "04986767",
   "metadata": {},
   "outputs": [
    {
     "data": {
      "text/plain": [
       "<sqlite3.Cursor at 0x7fcb55501500>"
      ]
     },
     "execution_count": 13,
     "metadata": {},
     "output_type": "execute_result"
    }
   ],
   "source": [
    "c.execute(\"SELECT * FROM employee WHERE last='Schafer'\")"
   ]
  },
  {
   "cell_type": "code",
   "execution_count": 14,
   "id": "88253744",
   "metadata": {},
   "outputs": [
    {
     "data": {
      "text/plain": [
       "[('Corey', 'Schafer', 50000), ('Mary', 'Schafer', 70000)]"
      ]
     },
     "execution_count": 14,
     "metadata": {},
     "output_type": "execute_result"
    }
   ],
   "source": [
    "c.fetchall()"
   ]
  },
  {
   "cell_type": "code",
   "execution_count": 16,
   "id": "dce87c7b",
   "metadata": {},
   "outputs": [],
   "source": [
    "from employee import Employee"
   ]
  },
  {
   "cell_type": "code",
   "execution_count": 17,
   "id": "b494cd69",
   "metadata": {},
   "outputs": [],
   "source": [
    "emp_1 = Employee('John', 'Doe', 80000)\n",
    "emp_2 = Employee('Jane', 'Doe', 90000)"
   ]
  },
  {
   "cell_type": "code",
   "execution_count": 18,
   "id": "b2b0ba2a",
   "metadata": {},
   "outputs": [
    {
     "data": {
      "text/plain": [
       "<sqlite3.Cursor at 0x7fcb55501500>"
      ]
     },
     "execution_count": 18,
     "metadata": {},
     "output_type": "execute_result"
    }
   ],
   "source": [
    "c.execute(\"INSERT INTO employee VALUES (?, ?, ?)\", (emp_1.first, emp_1.last, emp_1.pay))"
   ]
  },
  {
   "cell_type": "code",
   "execution_count": 19,
   "id": "fde0ce27",
   "metadata": {},
   "outputs": [
    {
     "data": {
      "text/plain": [
       "<sqlite3.Cursor at 0x7fcb55501500>"
      ]
     },
     "execution_count": 19,
     "metadata": {},
     "output_type": "execute_result"
    }
   ],
   "source": [
    "c.execute(\"INSERT INTO employee VALUES (:first, :last, :pay)\", {'first':emp_2.first, 'last':emp_2.last,\n",
    "                                                               'pay':emp_2.pay})"
   ]
  },
  {
   "cell_type": "code",
   "execution_count": 20,
   "id": "245389d9",
   "metadata": {},
   "outputs": [
    {
     "data": {
      "text/plain": [
       "<sqlite3.Cursor at 0x7fcb55501500>"
      ]
     },
     "execution_count": 20,
     "metadata": {},
     "output_type": "execute_result"
    }
   ],
   "source": [
    "c.execute(\"SELECT * FROM employee WHERE last=?\", ('Schafer',))"
   ]
  },
  {
   "cell_type": "code",
   "execution_count": 21,
   "id": "c66694f1",
   "metadata": {},
   "outputs": [
    {
     "data": {
      "text/plain": [
       "('Corey', 'Schafer', 50000)"
      ]
     },
     "execution_count": 21,
     "metadata": {},
     "output_type": "execute_result"
    }
   ],
   "source": [
    "c.fetchone()"
   ]
  },
  {
   "cell_type": "code",
   "execution_count": 24,
   "id": "fd9a0c49",
   "metadata": {},
   "outputs": [
    {
     "data": {
      "text/plain": [
       "<sqlite3.Cursor at 0x7fcb55501500>"
      ]
     },
     "execution_count": 24,
     "metadata": {},
     "output_type": "execute_result"
    }
   ],
   "source": [
    "c.execute(\"SELECT * FROM employee WHERE last=:last\", {'last': 'Doe'})"
   ]
  },
  {
   "cell_type": "code",
   "execution_count": 25,
   "id": "97b512ff",
   "metadata": {},
   "outputs": [
    {
     "data": {
      "text/plain": [
       "[('John', 'Doe', 80000), ('Jane', 'Doe', 90000)]"
      ]
     },
     "execution_count": 25,
     "metadata": {},
     "output_type": "execute_result"
    }
   ],
   "source": [
    "c.fetchall()"
   ]
  },
  {
   "cell_type": "code",
   "execution_count": null,
   "id": "8a525509",
   "metadata": {},
   "outputs": [],
   "source": [
    "###########################\n",
    "###########################"
   ]
  },
  {
   "cell_type": "code",
   "execution_count": 29,
   "id": "ef8ac716",
   "metadata": {},
   "outputs": [
    {
     "name": "stdout",
     "output_type": "stream",
     "text": [
      "[('John', 'Doe', 80000), ('Jane', 'Doe', 90000)]\n",
      "[('Jane', 'Doe', 95000)]\n"
     ]
    }
   ],
   "source": [
    "import sqlite3\n",
    "from employee import Employee\n",
    "\n",
    "conn = sqlite3.connect(':memory:')\n",
    "\n",
    "c = conn.cursor()\n",
    "\n",
    "c.execute(\"\"\"CREATE TABLE employee (\n",
    "            first text,\n",
    "            last text,\n",
    "            pay integer\n",
    "            )\"\"\")\n",
    "\n",
    "def insert_emp(emp):\n",
    "    with conn: # execution islemi commit yapilmasi gerektigi icin commit ac kapa yapmamak icin bunu kullandik,\n",
    "               # burada otomatik acma kapama islemi yapacak\n",
    "        c.execute(\"INSERT INTO employee VALUES (:first, :last, :pay)\", {'first':emp.first, 'last':emp.last,\n",
    "                                                               'pay':emp.pay})\n",
    "\n",
    "def get_emps_by_name(lastname):\n",
    "    c.execute(\"SELECT * FROM employee WHERE last = :last\", {'last': lastname})\n",
    "    return c.fetchall()\n",
    "\n",
    "def update_pay(emp, pay):\n",
    "    with conn:\n",
    "        c.execute(\"\"\"UPDATE employee SET pay = :pay\n",
    "                    WHERE first = :first AND last = :last\"\"\", {'first':emp.first, 'last':emp.last, 'pay':pay})\n",
    "\n",
    "def remove_emp(emp):\n",
    "    with conn:\n",
    "        c.execute(\"DELETE from employee WHERE first = :first AND last = :last\", {'first':emp.first, 'last':emp.last})\n",
    "\n",
    "emp_1 = Employee('John', 'Doe', 80000)\n",
    "emp_2 = Employee('Jane', 'Doe', 90000)\n",
    "\n",
    "insert_emp(emp_1)\n",
    "insert_emp(emp_2)\n",
    "\n",
    "emps = get_emps_by_name('Doe')\n",
    "print(emps)\n",
    "\n",
    "update_pay(emp_2, 95000)\n",
    "\n",
    "remove_emp(emp_1)\n",
    "\n",
    "emps = get_emps_by_name('Doe')\n",
    "print(emps)\n",
    "\n",
    "conn.close() # olusturdugumuz connection'i kapattik"
   ]
  },
  {
   "cell_type": "code",
   "execution_count": null,
   "id": "a02c7877",
   "metadata": {},
   "outputs": [],
   "source": []
  }
 ],
 "metadata": {
  "kernelspec": {
   "display_name": "Python 3 (ipykernel)",
   "language": "python",
   "name": "python3"
  },
  "language_info": {
   "codemirror_mode": {
    "name": "ipython",
    "version": 3
   },
   "file_extension": ".py",
   "mimetype": "text/x-python",
   "name": "python",
   "nbconvert_exporter": "python",
   "pygments_lexer": "ipython3",
   "version": "3.9.7"
  }
 },
 "nbformat": 4,
 "nbformat_minor": 5
}
