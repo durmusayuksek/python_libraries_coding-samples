{
 "cells": [
  {
   "cell_type": "markdown",
   "id": "3ebe889c",
   "metadata": {},
   "source": [
    "### how to download python, sqlite, git bash, etc:\n",
    "<a>https://www.youtube.com/watch?v=byHcYRpMgI4</a>"
   ]
  },
  {
   "cell_type": "markdown",
   "id": "c36c1a76",
   "metadata": {},
   "source": [
    "### importing the sqlite module"
   ]
  },
  {
   "cell_type": "code",
   "execution_count": 1,
   "id": "d81f1ee4",
   "metadata": {},
   "outputs": [],
   "source": [
    "import sqlite3"
   ]
  },
  {
   "cell_type": "markdown",
   "id": "6b83a14c",
   "metadata": {},
   "source": [
    "### creating a connection to sqlite"
   ]
  },
  {
   "cell_type": "code",
   "execution_count": 2,
   "id": "c64b9a0b",
   "metadata": {},
   "outputs": [],
   "source": [
    "conn = sqlite3.connect('customer.db')"
   ]
  },
  {
   "cell_type": "code",
   "execution_count": 3,
   "id": "dcde64bc",
   "metadata": {},
   "outputs": [],
   "source": [
    "# eger buraya sqlite3.connect(':memory:') dersem yine ayni database'i olusturur ancak memory'de gecici bir sureyle\n",
    "# olusturmus olur."
   ]
  },
  {
   "cell_type": "markdown",
   "id": "5b834f73",
   "metadata": {},
   "source": [
    "### creating a cursor\n"
   ]
  },
  {
   "cell_type": "code",
   "execution_count": 4,
   "id": "1f8e6751",
   "metadata": {},
   "outputs": [],
   "source": [
    "c = conn.cursor()"
   ]
  },
  {
   "cell_type": "markdown",
   "id": "c56f6df4",
   "metadata": {},
   "source": [
    "### creating a table"
   ]
  },
  {
   "cell_type": "code",
   "execution_count": 5,
   "id": "5ae23be5",
   "metadata": {},
   "outputs": [
    {
     "ename": "OperationalError",
     "evalue": "table customers already exists",
     "output_type": "error",
     "traceback": [
      "\u001b[0;31m---------------------------------------------------------------------------\u001b[0m",
      "\u001b[0;31mOperationalError\u001b[0m                          Traceback (most recent call last)",
      "\u001b[0;32m/var/folders/8h/k9jsy58x1213yy3fgg122yf80000gn/T/ipykernel_72068/1316777615.py\u001b[0m in \u001b[0;36m<module>\u001b[0;34m\u001b[0m\n\u001b[0;32m----> 1\u001b[0;31m c.execute(\"\"\"\n\u001b[0m\u001b[1;32m      2\u001b[0m     CREATE TABLE customers (\n\u001b[1;32m      3\u001b[0m     \u001b[0mfirst_name\u001b[0m \u001b[0mTEXT\u001b[0m\u001b[0;34m,\u001b[0m\u001b[0;34m\u001b[0m\u001b[0;34m\u001b[0m\u001b[0m\n\u001b[1;32m      4\u001b[0m     \u001b[0mlast_name\u001b[0m \u001b[0mTEXT\u001b[0m\u001b[0;34m,\u001b[0m\u001b[0;34m\u001b[0m\u001b[0;34m\u001b[0m\u001b[0m\n\u001b[1;32m      5\u001b[0m     email TEXT)\n",
      "\u001b[0;31mOperationalError\u001b[0m: table customers already exists"
     ]
    }
   ],
   "source": [
    "c.execute(\"\"\"\n",
    "    CREATE TABLE customers (\n",
    "    first_name TEXT,\n",
    "    last_name TEXT,\n",
    "    email TEXT)\n",
    "\"\"\")\n",
    "\n",
    "# there are five datatypes in sqlite: TEXT, INTEGER, NULL, BLOB, REAL"
   ]
  },
  {
   "cell_type": "markdown",
   "id": "37c0c6a0",
   "metadata": {},
   "source": [
    "### inserting a row into the table"
   ]
  },
  {
   "cell_type": "code",
   "execution_count": 6,
   "id": "edec682d",
   "metadata": {},
   "outputs": [
    {
     "data": {
      "text/plain": [
       "<sqlite3.Cursor at 0x7f807c50d6c0>"
      ]
     },
     "execution_count": 6,
     "metadata": {},
     "output_type": "execute_result"
    }
   ],
   "source": [
    "c.execute(\"INSERT INTO customers VALUES ('Mary', 'Brown', 'marybrown@gmail.com')\")"
   ]
  },
  {
   "cell_type": "markdown",
   "id": "b1c624b2",
   "metadata": {},
   "source": [
    "### selecting the current customer information"
   ]
  },
  {
   "cell_type": "code",
   "execution_count": 7,
   "id": "a9a76271",
   "metadata": {},
   "outputs": [
    {
     "data": {
      "text/plain": [
       "<sqlite3.Cursor at 0x7f807c50d6c0>"
      ]
     },
     "execution_count": 7,
     "metadata": {},
     "output_type": "execute_result"
    }
   ],
   "source": [
    "c.execute(\"SELECT * FROM customers\")"
   ]
  },
  {
   "cell_type": "markdown",
   "id": "c1bb2e1d",
   "metadata": {},
   "source": [
    "### fetching all the information that the select clause brought us"
   ]
  },
  {
   "cell_type": "code",
   "execution_count": 8,
   "id": "efb7d7fb",
   "metadata": {},
   "outputs": [
    {
     "data": {
      "text/plain": [
       "[('Mary', 'Brown', 'marybrown@gmail.com')]"
      ]
     },
     "execution_count": 8,
     "metadata": {},
     "output_type": "execute_result"
    }
   ],
   "source": [
    "c.fetchall()"
   ]
  },
  {
   "cell_type": "code",
   "execution_count": 9,
   "id": "d2e5d8f1",
   "metadata": {},
   "outputs": [],
   "source": [
    "new_customers = [('Wes', 'Brown', 'wesbrown@gmail.com'),('Aron', 'Jack', 'aronjack@gmail.com'),\n",
    "                 ('Dan', 'As', 'danas@gmail.com')]"
   ]
  },
  {
   "cell_type": "markdown",
   "id": "5d296de4",
   "metadata": {},
   "source": [
    "### inserting many rows at the same time"
   ]
  },
  {
   "cell_type": "code",
   "execution_count": 10,
   "id": "eff3ea69",
   "metadata": {},
   "outputs": [
    {
     "data": {
      "text/plain": [
       "<sqlite3.Cursor at 0x7f807c50d6c0>"
      ]
     },
     "execution_count": 10,
     "metadata": {},
     "output_type": "execute_result"
    }
   ],
   "source": [
    "c.executemany(\"INSERT INTO customers VALUES (?,?,?)\", new_customers)"
   ]
  },
  {
   "cell_type": "code",
   "execution_count": 11,
   "id": "9fa9eda3",
   "metadata": {},
   "outputs": [
    {
     "data": {
      "text/plain": [
       "<sqlite3.Cursor at 0x7f807c50d6c0>"
      ]
     },
     "execution_count": 11,
     "metadata": {},
     "output_type": "execute_result"
    }
   ],
   "source": [
    "c.execute(\"SELECT * FROM customers\")"
   ]
  },
  {
   "cell_type": "code",
   "execution_count": 12,
   "id": "ee787c57",
   "metadata": {},
   "outputs": [],
   "source": [
    "# c.fetchone() ilk row'u dondurur\n",
    "# c.fetchmany(3) ilk 3 row'u dondurur\n",
    "# c.fetchall() butun row'lari dondurur"
   ]
  },
  {
   "cell_type": "code",
   "execution_count": 13,
   "id": "853e66dc",
   "metadata": {},
   "outputs": [
    {
     "data": {
      "text/plain": [
       "[('Mary', 'Brown', 'marybrown@gmail.com'),\n",
       " ('Wes', 'Brown', 'wesbrown@gmail.com'),\n",
       " ('Aron', 'Jack', 'aronjack@gmail.com'),\n",
       " ('Dan', 'As', 'danas@gmail.com')]"
      ]
     },
     "execution_count": 13,
     "metadata": {},
     "output_type": "execute_result"
    }
   ],
   "source": [
    "c.fetchall()"
   ]
  },
  {
   "cell_type": "code",
   "execution_count": 14,
   "id": "b5ba4da5",
   "metadata": {},
   "outputs": [
    {
     "data": {
      "text/plain": [
       "<sqlite3.Cursor at 0x7f807c50d6c0>"
      ]
     },
     "execution_count": 14,
     "metadata": {},
     "output_type": "execute_result"
    }
   ],
   "source": [
    "c.execute(\"SELECT * FROM customers\")"
   ]
  },
  {
   "cell_type": "code",
   "execution_count": 15,
   "id": "abd08640",
   "metadata": {},
   "outputs": [
    {
     "data": {
      "text/plain": [
       "('Mary', 'Brown', 'marybrown@gmail.com')"
      ]
     },
     "execution_count": 15,
     "metadata": {},
     "output_type": "execute_result"
    }
   ],
   "source": [
    "c.fetchone()"
   ]
  },
  {
   "cell_type": "code",
   "execution_count": 16,
   "id": "03ab01db",
   "metadata": {},
   "outputs": [
    {
     "data": {
      "text/plain": [
       "<sqlite3.Cursor at 0x7f807c50d6c0>"
      ]
     },
     "execution_count": 16,
     "metadata": {},
     "output_type": "execute_result"
    }
   ],
   "source": [
    "c.execute(\"SELECT * FROM customers\")"
   ]
  },
  {
   "cell_type": "code",
   "execution_count": 17,
   "id": "8c6a8f46",
   "metadata": {},
   "outputs": [
    {
     "data": {
      "text/plain": [
       "[('Mary', 'Brown', 'marybrown@gmail.com'),\n",
       " ('Wes', 'Brown', 'wesbrown@gmail.com')]"
      ]
     },
     "execution_count": 17,
     "metadata": {},
     "output_type": "execute_result"
    }
   ],
   "source": [
    "c.fetchmany(2)"
   ]
  },
  {
   "cell_type": "markdown",
   "id": "00d25f35",
   "metadata": {},
   "source": [
    "### class yardimiyla deger atama"
   ]
  },
  {
   "cell_type": "code",
   "execution_count": 18,
   "id": "a83a7db3",
   "metadata": {},
   "outputs": [],
   "source": [
    "class customer:\n",
    "    \n",
    "    def __init__(self, first, last, email):\n",
    "        self.first = first\n",
    "        self.last = last\n",
    "        self.email = email"
   ]
  },
  {
   "cell_type": "code",
   "execution_count": 19,
   "id": "eea6531e",
   "metadata": {},
   "outputs": [],
   "source": [
    "cus_1 = customer('John', 'Doe', 'johndoe@gmail.com')\n",
    "cus_2 = customer('Jane', 'Doe', 'janedoe@gmail.com')"
   ]
  },
  {
   "cell_type": "code",
   "execution_count": 20,
   "id": "223e3ec1",
   "metadata": {},
   "outputs": [
    {
     "data": {
      "text/plain": [
       "<sqlite3.Cursor at 0x7f807c50d6c0>"
      ]
     },
     "execution_count": 20,
     "metadata": {},
     "output_type": "execute_result"
    }
   ],
   "source": [
    "# yer tutuculari iki farkli sekilde kullanmak mumkun\n",
    "# 1\n",
    "c.execute(\"INSERT INTO customers VALUES (?, ?, ?)\", (cus_1.first, cus_1.last, cus_1.email))\n",
    "\n",
    "\n",
    "#2\n",
    "c.execute(\"INSERT INTO customers VALUES (:first, :last, :email)\", {'first':cus_2.first, 'last':cus_2.last, \n",
    "                                                                  'email':cus_2.email})"
   ]
  },
  {
   "cell_type": "code",
   "execution_count": 21,
   "id": "09560ec8",
   "metadata": {},
   "outputs": [
    {
     "data": {
      "text/plain": [
       "<sqlite3.Cursor at 0x7f807c50d6c0>"
      ]
     },
     "execution_count": 21,
     "metadata": {},
     "output_type": "execute_result"
    }
   ],
   "source": [
    "c.execute(\"SELECT * FROM customers\")"
   ]
  },
  {
   "cell_type": "code",
   "execution_count": 22,
   "id": "f246ab46",
   "metadata": {},
   "outputs": [
    {
     "data": {
      "text/plain": [
       "[('Mary', 'Brown', 'marybrown@gmail.com'),\n",
       " ('Wes', 'Brown', 'wesbrown@gmail.com'),\n",
       " ('Aron', 'Jack', 'aronjack@gmail.com'),\n",
       " ('Dan', 'As', 'danas@gmail.com'),\n",
       " ('John', 'Doe', 'johndoe@gmail.com'),\n",
       " ('Jane', 'Doe', 'janedoe@gmail.com')]"
      ]
     },
     "execution_count": 22,
     "metadata": {},
     "output_type": "execute_result"
    }
   ],
   "source": [
    "c.fetchall()"
   ]
  },
  {
   "cell_type": "markdown",
   "id": "9f6114dc",
   "metadata": {},
   "source": [
    "### selecting the primary key with customer information"
   ]
  },
  {
   "cell_type": "code",
   "execution_count": 23,
   "id": "85372f9d",
   "metadata": {},
   "outputs": [
    {
     "data": {
      "text/plain": [
       "<sqlite3.Cursor at 0x7f807c50d6c0>"
      ]
     },
     "execution_count": 23,
     "metadata": {},
     "output_type": "execute_result"
    }
   ],
   "source": [
    "c.execute(\"SELECT rowid, * FROM customers\")"
   ]
  },
  {
   "cell_type": "code",
   "execution_count": 24,
   "id": "3ebf98eb",
   "metadata": {},
   "outputs": [
    {
     "data": {
      "text/plain": [
       "[(1, 'Mary', 'Brown', 'marybrown@gmail.com'),\n",
       " (2, 'Wes', 'Brown', 'wesbrown@gmail.com'),\n",
       " (3, 'Aron', 'Jack', 'aronjack@gmail.com'),\n",
       " (4, 'Dan', 'As', 'danas@gmail.com'),\n",
       " (5, 'John', 'Doe', 'johndoe@gmail.com'),\n",
       " (6, 'Jane', 'Doe', 'janedoe@gmail.com')]"
      ]
     },
     "execution_count": 24,
     "metadata": {},
     "output_type": "execute_result"
    }
   ],
   "source": [
    "c.fetchall()"
   ]
  },
  {
   "cell_type": "code",
   "execution_count": 25,
   "id": "bea9f43d",
   "metadata": {},
   "outputs": [
    {
     "data": {
      "text/plain": [
       "<sqlite3.Cursor at 0x7f807c50d6c0>"
      ]
     },
     "execution_count": 25,
     "metadata": {},
     "output_type": "execute_result"
    }
   ],
   "source": [
    "c.execute(\"SELECT rowid, * FROM customers WHERE last_name = 'Brown'\")"
   ]
  },
  {
   "cell_type": "code",
   "execution_count": 26,
   "id": "5ae50637",
   "metadata": {},
   "outputs": [
    {
     "data": {
      "text/plain": [
       "[(1, 'Mary', 'Brown', 'marybrown@gmail.com'),\n",
       " (2, 'Wes', 'Brown', 'wesbrown@gmail.com')]"
      ]
     },
     "execution_count": 26,
     "metadata": {},
     "output_type": "execute_result"
    }
   ],
   "source": [
    "c.fetchall()"
   ]
  },
  {
   "cell_type": "code",
   "execution_count": 27,
   "id": "4b5f0036",
   "metadata": {},
   "outputs": [
    {
     "data": {
      "text/plain": [
       "<sqlite3.Cursor at 0x7f807c50d6c0>"
      ]
     },
     "execution_count": 27,
     "metadata": {},
     "output_type": "execute_result"
    }
   ],
   "source": [
    "c.execute(\"SELECT rowid, * FROM customers WHERE email LIKE '%gmail%'\")"
   ]
  },
  {
   "cell_type": "code",
   "execution_count": 28,
   "id": "26652bd8",
   "metadata": {},
   "outputs": [
    {
     "data": {
      "text/plain": [
       "[(1, 'Mary', 'Brown', 'marybrown@gmail.com'),\n",
       " (2, 'Wes', 'Brown', 'wesbrown@gmail.com'),\n",
       " (3, 'Aron', 'Jack', 'aronjack@gmail.com'),\n",
       " (4, 'Dan', 'As', 'danas@gmail.com'),\n",
       " (5, 'John', 'Doe', 'johndoe@gmail.com'),\n",
       " (6, 'Jane', 'Doe', 'janedoe@gmail.com')]"
      ]
     },
     "execution_count": 28,
     "metadata": {},
     "output_type": "execute_result"
    }
   ],
   "source": [
    "c.fetchall()"
   ]
  },
  {
   "cell_type": "code",
   "execution_count": 29,
   "id": "7184155e",
   "metadata": {},
   "outputs": [
    {
     "data": {
      "text/plain": [
       "<sqlite3.Cursor at 0x7f807c50d6c0>"
      ]
     },
     "execution_count": 29,
     "metadata": {},
     "output_type": "execute_result"
    }
   ],
   "source": [
    "name = 'Brown'\n",
    "c.execute(\"SELECT * FROM customers WHERE last_name = (?)\", (name,)) # tuple'da tek deger icin virgul onemli"
   ]
  },
  {
   "cell_type": "code",
   "execution_count": 30,
   "id": "86c76153",
   "metadata": {},
   "outputs": [
    {
     "data": {
      "text/plain": [
       "[('Mary', 'Brown', 'marybrown@gmail.com'),\n",
       " ('Wes', 'Brown', 'wesbrown@gmail.com')]"
      ]
     },
     "execution_count": 30,
     "metadata": {},
     "output_type": "execute_result"
    }
   ],
   "source": [
    "c.fetchall()"
   ]
  },
  {
   "cell_type": "markdown",
   "id": "889da232",
   "metadata": {},
   "source": [
    "### updating records"
   ]
  },
  {
   "cell_type": "code",
   "execution_count": 31,
   "id": "198119b2",
   "metadata": {},
   "outputs": [
    {
     "data": {
      "text/plain": [
       "<sqlite3.Cursor at 0x7f807c50d6c0>"
      ]
     },
     "execution_count": 31,
     "metadata": {},
     "output_type": "execute_result"
    }
   ],
   "source": [
    "c.execute(\"\"\"\n",
    "    UPDATE customers SET first_name = 'Bob'\n",
    "    WHERE last_name = 'Jack'\n",
    "\"\"\")"
   ]
  },
  {
   "cell_type": "code",
   "execution_count": 32,
   "id": "6a09f83b",
   "metadata": {},
   "outputs": [
    {
     "data": {
      "text/plain": [
       "<sqlite3.Cursor at 0x7f807c50d6c0>"
      ]
     },
     "execution_count": 32,
     "metadata": {},
     "output_type": "execute_result"
    }
   ],
   "source": [
    "c.execute(\"SELECT * FROM customers\")"
   ]
  },
  {
   "cell_type": "code",
   "execution_count": 33,
   "id": "f55e0f80",
   "metadata": {},
   "outputs": [
    {
     "data": {
      "text/plain": [
       "[('Mary', 'Brown', 'marybrown@gmail.com'),\n",
       " ('Wes', 'Brown', 'wesbrown@gmail.com'),\n",
       " ('Bob', 'Jack', 'aronjack@gmail.com'),\n",
       " ('Dan', 'As', 'danas@gmail.com'),\n",
       " ('John', 'Doe', 'johndoe@gmail.com'),\n",
       " ('Jane', 'Doe', 'janedoe@gmail.com')]"
      ]
     },
     "execution_count": 33,
     "metadata": {},
     "output_type": "execute_result"
    }
   ],
   "source": [
    "c.fetchall()"
   ]
  },
  {
   "cell_type": "code",
   "execution_count": 34,
   "id": "639370ac",
   "metadata": {},
   "outputs": [
    {
     "data": {
      "text/plain": [
       "<sqlite3.Cursor at 0x7f807c50d6c0>"
      ]
     },
     "execution_count": 34,
     "metadata": {},
     "output_type": "execute_result"
    }
   ],
   "source": [
    "c.execute(\"\"\"\n",
    "    UPDATE customers SET first_name = 'Dustin'\n",
    "    WHERE rowid = 4\n",
    "\"\"\")"
   ]
  },
  {
   "cell_type": "code",
   "execution_count": 35,
   "id": "66bb53be",
   "metadata": {},
   "outputs": [
    {
     "data": {
      "text/plain": [
       "<sqlite3.Cursor at 0x7f807c50d6c0>"
      ]
     },
     "execution_count": 35,
     "metadata": {},
     "output_type": "execute_result"
    }
   ],
   "source": [
    "c.execute(\"SELECT * FROM customers\")"
   ]
  },
  {
   "cell_type": "code",
   "execution_count": 36,
   "id": "3252f34a",
   "metadata": {},
   "outputs": [
    {
     "data": {
      "text/plain": [
       "[('Mary', 'Brown', 'marybrown@gmail.com'),\n",
       " ('Wes', 'Brown', 'wesbrown@gmail.com'),\n",
       " ('Bob', 'Jack', 'aronjack@gmail.com'),\n",
       " ('Dustin', 'As', 'danas@gmail.com'),\n",
       " ('John', 'Doe', 'johndoe@gmail.com'),\n",
       " ('Jane', 'Doe', 'janedoe@gmail.com')]"
      ]
     },
     "execution_count": 36,
     "metadata": {},
     "output_type": "execute_result"
    }
   ],
   "source": [
    "c.fetchall()"
   ]
  },
  {
   "cell_type": "markdown",
   "id": "77f3f281",
   "metadata": {},
   "source": [
    "### deleting a record"
   ]
  },
  {
   "cell_type": "code",
   "execution_count": 37,
   "id": "695eefe3",
   "metadata": {},
   "outputs": [
    {
     "data": {
      "text/plain": [
       "<sqlite3.Cursor at 0x7f807c50d6c0>"
      ]
     },
     "execution_count": 37,
     "metadata": {},
     "output_type": "execute_result"
    }
   ],
   "source": [
    "c.execute(\"\"\"\n",
    "    DELETE FROM customers\n",
    "    WHERE rowid = 4\n",
    "\"\"\")"
   ]
  },
  {
   "cell_type": "code",
   "execution_count": 38,
   "id": "49249f17",
   "metadata": {},
   "outputs": [
    {
     "data": {
      "text/plain": [
       "<sqlite3.Cursor at 0x7f807c50d6c0>"
      ]
     },
     "execution_count": 38,
     "metadata": {},
     "output_type": "execute_result"
    }
   ],
   "source": [
    "ide = '1' # islemlerde eger bu sekilde bir islem yapacaksam burada sayiyi string olarak gondermem gerekiyor\n",
    "c.execute(\"\"\"DELETE FROM customers WHERE rowid = (?)\"\"\", ide)"
   ]
  },
  {
   "cell_type": "code",
   "execution_count": 39,
   "id": "d18272a9",
   "metadata": {},
   "outputs": [
    {
     "data": {
      "text/plain": [
       "<sqlite3.Cursor at 0x7f807c50d6c0>"
      ]
     },
     "execution_count": 39,
     "metadata": {},
     "output_type": "execute_result"
    }
   ],
   "source": [
    "c.execute(\"SELECT * FROM customers\")"
   ]
  },
  {
   "cell_type": "code",
   "execution_count": 40,
   "id": "73f129e8",
   "metadata": {},
   "outputs": [
    {
     "data": {
      "text/plain": [
       "[('Wes', 'Brown', 'wesbrown@gmail.com'),\n",
       " ('Bob', 'Jack', 'aronjack@gmail.com'),\n",
       " ('John', 'Doe', 'johndoe@gmail.com'),\n",
       " ('Jane', 'Doe', 'janedoe@gmail.com')]"
      ]
     },
     "execution_count": 40,
     "metadata": {},
     "output_type": "execute_result"
    }
   ],
   "source": [
    "c.fetchall()"
   ]
  },
  {
   "cell_type": "code",
   "execution_count": 41,
   "id": "cc7fc6a0",
   "metadata": {},
   "outputs": [
    {
     "data": {
      "text/plain": [
       "<sqlite3.Cursor at 0x7f807c50d6c0>"
      ]
     },
     "execution_count": 41,
     "metadata": {},
     "output_type": "execute_result"
    }
   ],
   "source": [
    "c.execute(\"INSERT INTO customers VALUES ('Mary', 'Brown', 'marybrown@gmail.com')\")"
   ]
  },
  {
   "cell_type": "markdown",
   "id": "5b872cbd",
   "metadata": {},
   "source": [
    "### ordering the records"
   ]
  },
  {
   "cell_type": "code",
   "execution_count": 42,
   "id": "988ef41b",
   "metadata": {},
   "outputs": [
    {
     "data": {
      "text/plain": [
       "<sqlite3.Cursor at 0x7f807c50d6c0>"
      ]
     },
     "execution_count": 42,
     "metadata": {},
     "output_type": "execute_result"
    }
   ],
   "source": [
    "c.execute(\"SELECT rowid, * FROM customers ORDER BY first_name DESC\")"
   ]
  },
  {
   "cell_type": "code",
   "execution_count": 43,
   "id": "201bb4b5",
   "metadata": {},
   "outputs": [
    {
     "data": {
      "text/plain": [
       "[(2, 'Wes', 'Brown', 'wesbrown@gmail.com'),\n",
       " (7, 'Mary', 'Brown', 'marybrown@gmail.com'),\n",
       " (5, 'John', 'Doe', 'johndoe@gmail.com'),\n",
       " (6, 'Jane', 'Doe', 'janedoe@gmail.com'),\n",
       " (3, 'Bob', 'Jack', 'aronjack@gmail.com')]"
      ]
     },
     "execution_count": 43,
     "metadata": {},
     "output_type": "execute_result"
    }
   ],
   "source": [
    "c.fetchall()"
   ]
  },
  {
   "cell_type": "markdown",
   "id": "7f245909",
   "metadata": {},
   "source": [
    "### limiting the results"
   ]
  },
  {
   "cell_type": "code",
   "execution_count": 44,
   "id": "ee614497",
   "metadata": {},
   "outputs": [],
   "source": [
    "# sqlite'da order by'dan sonra limit clause'unu kullaniyoruz"
   ]
  },
  {
   "cell_type": "code",
   "execution_count": 45,
   "id": "ad1f5fd5",
   "metadata": {},
   "outputs": [
    {
     "data": {
      "text/plain": [
       "<sqlite3.Cursor at 0x7f807c50d6c0>"
      ]
     },
     "execution_count": 45,
     "metadata": {},
     "output_type": "execute_result"
    }
   ],
   "source": [
    "c.execute(\"SELECT * FROM customers LIMIT 1\")"
   ]
  },
  {
   "cell_type": "code",
   "execution_count": 46,
   "id": "255c4ac5",
   "metadata": {},
   "outputs": [
    {
     "data": {
      "text/plain": [
       "[('Wes', 'Brown', 'wesbrown@gmail.com')]"
      ]
     },
     "execution_count": 46,
     "metadata": {},
     "output_type": "execute_result"
    }
   ],
   "source": [
    "c.fetchall()"
   ]
  },
  {
   "cell_type": "markdown",
   "id": "47404531",
   "metadata": {},
   "source": [
    "### dropping a table"
   ]
  },
  {
   "cell_type": "code",
   "execution_count": 47,
   "id": "38c70c88",
   "metadata": {},
   "outputs": [],
   "source": [
    "# c.execute(\"DROP TABLE customers\")"
   ]
  },
  {
   "cell_type": "markdown",
   "id": "54cc85cc",
   "metadata": {},
   "source": [
    "### committing a query"
   ]
  },
  {
   "cell_type": "code",
   "execution_count": null,
   "id": "955073b6",
   "metadata": {},
   "outputs": [],
   "source": [
    "# vscode gibi ide'lerde ayni sayfada execution islemlerini calistirmak icin commit islemi yapmamiz gerekiyor\n",
    "# burada gerekli degil\n",
    "conn.commit()"
   ]
  },
  {
   "cell_type": "markdown",
   "id": "12e94fb2",
   "metadata": {},
   "source": [
    "### closing a connection"
   ]
  },
  {
   "cell_type": "code",
   "execution_count": 48,
   "id": "4922fa42",
   "metadata": {},
   "outputs": [],
   "source": [
    "# acilan connection'i kapatmak icin kullaniyoruz\n",
    "conn.close()"
   ]
  },
  {
   "cell_type": "markdown",
   "id": "d96d6809",
   "metadata": {},
   "source": [
    "### final function"
   ]
  },
  {
   "cell_type": "code",
   "execution_count": null,
   "id": "c792c8a0",
   "metadata": {},
   "outputs": [],
   "source": [
    "conn = sqlite3.connect('employee.db')\n",
    "\n",
    "c = conn.cursor()\n",
    "\n",
    "c.execute(\"\"\"CREATE TABLE employee (\n",
    "            first text,\n",
    "            last text,\n",
    "            pay integer\n",
    "            )\"\"\")\n",
    "\n",
    "def insert_emp(emp):\n",
    "    with conn: # execution islemi commit yapilmasi gerektigi icin commit ac kapa yapmamak icin bunu kullandik,\n",
    "               # burada otomatik acma kapama islemi yapacak\n",
    "        c.execute(\"INSERT INTO employee VALUES (:first, :last, :pay)\", {'first':emp.first, 'last':emp.last,\n",
    "                                                               'pay':emp.pay})\n",
    "\n",
    "def get_emps_by_name(lastname):\n",
    "    c.execute(\"SELECT * FROM employee WHERE last = :last\", {'last': lastname})\n",
    "    return c.fetchall()\n",
    "\n",
    "def update_pay(emp, pay):\n",
    "    with conn:\n",
    "        c.execute(\"\"\"UPDATE employee SET pay = :pay\n",
    "                    WHERE first = :first AND last = :last\"\"\", {'first':emp.first, 'last':emp.last, 'pay':pay})\n",
    "\n",
    "def remove_emp(emp):\n",
    "    with conn:\n",
    "        c.execute(\"DELETE from employee WHERE first = :first AND last = :last\", {'first':emp.first, 'last':emp.last})\n",
    "\n",
    "emp_1 = Employee('John', 'Doe', 80000)\n",
    "emp_2 = Employee('Jane', 'Doe', 90000)\n",
    "\n",
    "insert_emp(emp_1)\n",
    "insert_emp(emp_2)\n",
    "\n",
    "emps = get_emps_by_name('Doe')\n",
    "print(emps)\n",
    "\n",
    "update_pay(emp_2, 95000)\n",
    "\n",
    "remove_emp(emp_1)\n",
    "\n",
    "emps = get_emps_by_name('Doe')\n",
    "print(emps)\n",
    "\n",
    "conn.close() # olusturdugumuz connection'i kapattik"
   ]
  },
  {
   "cell_type": "markdown",
   "id": "51e77dae",
   "metadata": {},
   "source": [
    "## connecting to a currently available database"
   ]
  },
  {
   "cell_type": "code",
   "execution_count": 49,
   "id": "c6dfcab2",
   "metadata": {},
   "outputs": [],
   "source": [
    "conn2 = sqlite3.connect('chinook.db')"
   ]
  },
  {
   "cell_type": "code",
   "execution_count": 50,
   "id": "c05b4230",
   "metadata": {},
   "outputs": [],
   "source": [
    "c2 = conn2.cursor()"
   ]
  },
  {
   "cell_type": "code",
   "execution_count": 51,
   "id": "88491abc",
   "metadata": {},
   "outputs": [
    {
     "data": {
      "text/plain": [
       "<sqlite3.Cursor at 0x7f807c5930a0>"
      ]
     },
     "execution_count": 51,
     "metadata": {},
     "output_type": "execute_result"
    }
   ],
   "source": [
    "# querying the tables in the database\n",
    "\n",
    "c2.execute(\"\"\"\n",
    "    SELECT name\n",
    "    FROM sqlite_schema\n",
    "    WHERE type ='table' AND name NOT LIKE 'sqlite_%';\n",
    "\"\"\")"
   ]
  },
  {
   "cell_type": "code",
   "execution_count": 52,
   "id": "1f501078",
   "metadata": {},
   "outputs": [
    {
     "data": {
      "text/plain": [
       "[('albums',),\n",
       " ('artists',),\n",
       " ('customers',),\n",
       " ('employees',),\n",
       " ('genres',),\n",
       " ('invoices',),\n",
       " ('invoice_items',),\n",
       " ('media_types',),\n",
       " ('playlists',),\n",
       " ('playlist_track',),\n",
       " ('tracks',)]"
      ]
     },
     "execution_count": 52,
     "metadata": {},
     "output_type": "execute_result"
    }
   ],
   "source": [
    "c2.fetchall()"
   ]
  },
  {
   "cell_type": "markdown",
   "id": "446759f9",
   "metadata": {},
   "source": [
    "#### 1"
   ]
  },
  {
   "cell_type": "code",
   "execution_count": 53,
   "id": "51da3bad",
   "metadata": {},
   "outputs": [
    {
     "data": {
      "text/plain": [
       "<sqlite3.Cursor at 0x7f807c5930a0>"
      ]
     },
     "execution_count": 53,
     "metadata": {},
     "output_type": "execute_result"
    }
   ],
   "source": [
    "c2.execute(\"SELECT * FROM albums\")"
   ]
  },
  {
   "cell_type": "code",
   "execution_count": 54,
   "id": "a5f2c035",
   "metadata": {},
   "outputs": [],
   "source": [
    "albums_table = c2.fetchall()"
   ]
  },
  {
   "cell_type": "code",
   "execution_count": 55,
   "id": "b704075b",
   "metadata": {},
   "outputs": [
    {
     "data": {
      "text/plain": [
       "[(1, 'For Those About To Rock We Salute You', 1),\n",
       " (2, 'Balls to the Wall', 2),\n",
       " (3, 'Restless and Wild', 2),\n",
       " (4, 'Let There Be Rock', 1),\n",
       " (5, 'Big Ones', 3),\n",
       " (6, 'Jagged Little Pill', 4),\n",
       " (7, 'Facelift', 5),\n",
       " (8, 'Warner 25 Anos', 6),\n",
       " (9, 'Plays Metallica By Four Cellos', 7),\n",
       " (10, 'Audioslave', 8),\n",
       " (11, 'Out Of Exile', 8),\n",
       " (12, 'BackBeat Soundtrack', 9),\n",
       " (13, 'The Best Of Billy Cobham', 10),\n",
       " (14, 'Alcohol Fueled Brewtality Live! [Disc 1]', 11),\n",
       " (15, 'Alcohol Fueled Brewtality Live! [Disc 2]', 11),\n",
       " (16, 'Black Sabbath', 12),\n",
       " (17, 'Black Sabbath Vol. 4 (Remaster)', 12),\n",
       " (18, 'Body Count', 13),\n",
       " (19, 'Chemical Wedding', 14),\n",
       " (20, 'The Best Of Buddy Guy - The Millenium Collection', 15),\n",
       " (21, 'Prenda Minha', 16),\n",
       " (22, 'Sozinho Remix Ao Vivo', 16),\n",
       " (23, 'Minha Historia', 17),\n",
       " (24, 'Afrociberdelia', 18),\n",
       " (25, 'Da Lama Ao Caos', 18),\n",
       " (26, 'Acústico MTV [Live]', 19),\n",
       " (27, 'Cidade Negra - Hits', 19),\n",
       " (28, 'Na Pista', 20),\n",
       " (29, 'Axé Bahia 2001', 21),\n",
       " (30, 'BBC Sessions [Disc 1] [Live]', 22),\n",
       " (31, 'Bongo Fury', 23),\n",
       " (32, 'Carnaval 2001', 21),\n",
       " (33, 'Chill: Brazil (Disc 1)', 24),\n",
       " (34, 'Chill: Brazil (Disc 2)', 6),\n",
       " (35, 'Garage Inc. (Disc 1)', 50),\n",
       " (36, 'Greatest Hits II', 51),\n",
       " (37, 'Greatest Kiss', 52),\n",
       " (38, 'Heart of the Night', 53),\n",
       " (39, 'International Superhits', 54),\n",
       " (40, 'Into The Light', 55),\n",
       " (41, 'Meus Momentos', 56),\n",
       " (42, 'Minha História', 57),\n",
       " (43, 'MK III The Final Concerts [Disc 1]', 58),\n",
       " (44, 'Physical Graffiti [Disc 1]', 22),\n",
       " (45, 'Sambas De Enredo 2001', 21),\n",
       " (46, 'Supernatural', 59),\n",
       " (47, 'The Best of Ed Motta', 37),\n",
       " (48, 'The Essential Miles Davis [Disc 1]', 68),\n",
       " (49, 'The Essential Miles Davis [Disc 2]', 68),\n",
       " (50, 'The Final Concerts (Disc 2)', 58),\n",
       " (51, \"Up An' Atom\", 69),\n",
       " (52, 'Vinícius De Moraes - Sem Limite', 70),\n",
       " (53, 'Vozes do MPB', 21),\n",
       " (54, 'Chronicle, Vol. 1', 76),\n",
       " (55, 'Chronicle, Vol. 2', 76),\n",
       " (56, 'Cássia Eller - Coleção Sem Limite [Disc 2]', 77),\n",
       " (57, 'Cássia Eller - Sem Limite [Disc 1]', 77),\n",
       " (58, 'Come Taste The Band', 58),\n",
       " (59, 'Deep Purple In Rock', 58),\n",
       " (60, 'Fireball', 58),\n",
       " (61, \"Knocking at Your Back Door: The Best Of Deep Purple in the 80's\", 58),\n",
       " (62, 'Machine Head', 58),\n",
       " (63, 'Purpendicular', 58),\n",
       " (64, 'Slaves And Masters', 58),\n",
       " (65, 'Stormbringer', 58),\n",
       " (66, 'The Battle Rages On', 58),\n",
       " (67, \"Vault: Def Leppard's Greatest Hits\", 78),\n",
       " (68, 'Outbreak', 79),\n",
       " (69, 'Djavan Ao Vivo - Vol. 02', 80),\n",
       " (70, 'Djavan Ao Vivo - Vol. 1', 80),\n",
       " (71, 'Elis Regina-Minha História', 41),\n",
       " (72, 'The Cream Of Clapton', 81),\n",
       " (73, 'Unplugged', 81),\n",
       " (74, 'Album Of The Year', 82),\n",
       " (75, 'Angel Dust', 82),\n",
       " (76, 'King For A Day Fool For A Lifetime', 82),\n",
       " (77, 'The Real Thing', 82),\n",
       " (78, 'Deixa Entrar', 83),\n",
       " (79, 'In Your Honor [Disc 1]', 84),\n",
       " (80, 'In Your Honor [Disc 2]', 84),\n",
       " (81, 'One By One', 84),\n",
       " (82, 'The Colour And The Shape', 84),\n",
       " (83, 'My Way: The Best Of Frank Sinatra [Disc 1]', 85),\n",
       " (84, 'Roda De Funk', 86),\n",
       " (85, 'As Canções de Eu Tu Eles', 27),\n",
       " (86, 'Quanta Gente Veio Ver (Live)', 27),\n",
       " (87, 'Quanta Gente Veio ver--Bônus De Carnaval', 27),\n",
       " (88, 'Faceless', 87),\n",
       " (89, 'American Idiot', 54),\n",
       " (90, 'Appetite for Destruction', 88),\n",
       " (91, 'Use Your Illusion I', 88),\n",
       " (92, 'Use Your Illusion II', 88),\n",
       " (93, 'Blue Moods', 89),\n",
       " (94, 'A Matter of Life and Death', 90),\n",
       " (95, 'A Real Dead One', 90),\n",
       " (96, 'A Real Live One', 90),\n",
       " (97, 'Brave New World', 90),\n",
       " (98, 'Dance Of Death', 90),\n",
       " (99, 'Fear Of The Dark', 90),\n",
       " (100, 'Iron Maiden', 90),\n",
       " (101, 'Killers', 90),\n",
       " (102, 'Live After Death', 90),\n",
       " (103, 'Live At Donington 1992 (Disc 1)', 90),\n",
       " (104, 'Live At Donington 1992 (Disc 2)', 90),\n",
       " (105, 'No Prayer For The Dying', 90),\n",
       " (106, 'Piece Of Mind', 90),\n",
       " (107, 'Powerslave', 90),\n",
       " (108, 'Rock In Rio [CD1]', 90),\n",
       " (109, 'Rock In Rio [CD2]', 90),\n",
       " (110, 'Seventh Son of a Seventh Son', 90),\n",
       " (111, 'Somewhere in Time', 90),\n",
       " (112, 'The Number of The Beast', 90),\n",
       " (113, 'The X Factor', 90),\n",
       " (114, 'Virtual XI', 90),\n",
       " (115, 'Sex Machine', 91),\n",
       " (116, 'Emergency On Planet Earth', 92),\n",
       " (117, 'Synkronized', 92),\n",
       " (118, 'The Return Of The Space Cowboy', 92),\n",
       " (119, 'Get Born', 93),\n",
       " (120, 'Are You Experienced?', 94),\n",
       " (121, 'Surfing with the Alien (Remastered)', 95),\n",
       " (122, 'Jorge Ben Jor 25 Anos', 46),\n",
       " (123, 'Jota Quest-1995', 96),\n",
       " (124, 'Cafezinho', 97),\n",
       " (125, 'Living After Midnight', 98),\n",
       " (126, 'Unplugged [Live]', 52),\n",
       " (127, 'BBC Sessions [Disc 2] [Live]', 22),\n",
       " (128, 'Coda', 22),\n",
       " (129, 'Houses Of The Holy', 22),\n",
       " (130, 'In Through The Out Door', 22),\n",
       " (131, 'IV', 22),\n",
       " (132, 'Led Zeppelin I', 22),\n",
       " (133, 'Led Zeppelin II', 22),\n",
       " (134, 'Led Zeppelin III', 22),\n",
       " (135, 'Physical Graffiti [Disc 2]', 22),\n",
       " (136, 'Presence', 22),\n",
       " (137, 'The Song Remains The Same (Disc 1)', 22),\n",
       " (138, 'The Song Remains The Same (Disc 2)', 22),\n",
       " (139, 'A TempestadeTempestade Ou O Livro Dos Dias', 99),\n",
       " (140, 'Mais Do Mesmo', 99),\n",
       " (141, 'Greatest Hits', 100),\n",
       " (142, 'Lulu Santos - RCA 100 Anos De Música - Álbum 01', 101),\n",
       " (143, 'Lulu Santos - RCA 100 Anos De Música - Álbum 02', 101),\n",
       " (144, 'Misplaced Childhood', 102),\n",
       " (145, 'Barulhinho Bom', 103),\n",
       " (146, 'Seek And Shall Find: More Of The Best (1963-1981)', 104),\n",
       " (147, 'The Best Of Men At Work', 105),\n",
       " (148, 'Black Album', 50),\n",
       " (149, 'Garage Inc. (Disc 2)', 50),\n",
       " (150, \"Kill 'Em All\", 50),\n",
       " (151, 'Load', 50),\n",
       " (152, 'Master Of Puppets', 50),\n",
       " (153, 'ReLoad', 50),\n",
       " (154, 'Ride The Lightning', 50),\n",
       " (155, 'St. Anger', 50),\n",
       " (156, '...And Justice For All', 50),\n",
       " (157, 'Miles Ahead', 68),\n",
       " (158, 'Milton Nascimento Ao Vivo', 42),\n",
       " (159, 'Minas', 42),\n",
       " (160, 'Ace Of Spades', 106),\n",
       " (161, 'Demorou...', 108),\n",
       " (162, 'Motley Crue Greatest Hits', 109),\n",
       " (163, 'From The Muddy Banks Of The Wishkah [Live]', 110),\n",
       " (164, 'Nevermind', 110),\n",
       " (165, 'Compositores', 111),\n",
       " (166, 'Olodum', 112),\n",
       " (167, 'Acústico MTV', 113),\n",
       " (168, 'Arquivo II', 113),\n",
       " (169, 'Arquivo Os Paralamas Do Sucesso', 113),\n",
       " (170, 'Bark at the Moon (Remastered)', 114),\n",
       " (171, 'Blizzard of Ozz', 114),\n",
       " (172, 'Diary of a Madman (Remastered)', 114),\n",
       " (173, 'No More Tears (Remastered)', 114),\n",
       " (174, 'Tribute', 114),\n",
       " (175, 'Walking Into Clarksdale', 115),\n",
       " (176, 'Original Soundtracks 1', 116),\n",
       " (177, 'The Beast Live', 117),\n",
       " (178, 'Live On Two Legs [Live]', 118),\n",
       " (179, 'Pearl Jam', 118),\n",
       " (180, 'Riot Act', 118),\n",
       " (181, 'Ten', 118),\n",
       " (182, 'Vs.', 118),\n",
       " (183, 'Dark Side Of The Moon', 120),\n",
       " (184, 'Os Cães Ladram Mas A Caravana Não Pára', 121),\n",
       " (185, 'Greatest Hits I', 51),\n",
       " (186, 'News Of The World', 51),\n",
       " (187, 'Out Of Time', 122),\n",
       " (188, 'Green', 124),\n",
       " (189, 'New Adventures In Hi-Fi', 124),\n",
       " (190, 'The Best Of R.E.M.: The IRS Years', 124),\n",
       " (191, 'Cesta Básica', 125),\n",
       " (192, 'Raul Seixas', 126),\n",
       " (193, 'Blood Sugar Sex Magik', 127),\n",
       " (194, 'By The Way', 127),\n",
       " (195, 'Californication', 127),\n",
       " (196, 'Retrospective I (1974-1980)', 128),\n",
       " (197, 'Santana - As Years Go By', 59),\n",
       " (198, 'Santana Live', 59),\n",
       " (199, 'Maquinarama', 130),\n",
       " (200, 'O Samba Poconé', 130),\n",
       " (201, 'Judas 0: B-Sides and Rarities', 131),\n",
       " (202, 'Rotten Apples: Greatest Hits', 131),\n",
       " (203, 'A-Sides', 132),\n",
       " (204, 'Morning Dance', 53),\n",
       " (205, 'In Step', 133),\n",
       " (206, 'Core', 134),\n",
       " (207, 'Mezmerize', 135),\n",
       " (208, '[1997] Black Light Syndrome', 136),\n",
       " (209, 'Live [Disc 1]', 137),\n",
       " (210, 'Live [Disc 2]', 137),\n",
       " (211, 'The Singles', 138),\n",
       " (212, 'Beyond Good And Evil', 139),\n",
       " (213,\n",
       "  'Pure Cult: The Best Of The Cult (For Rockers, Ravers, Lovers & Sinners) [UK]',\n",
       "  139),\n",
       " (214, 'The Doors', 140),\n",
       " (215, 'The Police Greatest Hits', 141),\n",
       " (216, 'Hot Rocks, 1964-1971 (Disc 1)', 142),\n",
       " (217, 'No Security', 142),\n",
       " (218, 'Voodoo Lounge', 142),\n",
       " (219, 'Tangents', 143),\n",
       " (220, 'Transmission', 143),\n",
       " (221, 'My Generation - The Very Best Of The Who', 144),\n",
       " (222, 'Serie Sem Limite (Disc 1)', 145),\n",
       " (223, 'Serie Sem Limite (Disc 2)', 145),\n",
       " (224, 'Acústico', 146),\n",
       " (225, 'Volume Dois', 146),\n",
       " (226, 'Battlestar Galactica: The Story So Far', 147),\n",
       " (227, 'Battlestar Galactica, Season 3', 147),\n",
       " (228, 'Heroes, Season 1', 148),\n",
       " (229, 'Lost, Season 3', 149),\n",
       " (230, 'Lost, Season 1', 149),\n",
       " (231, 'Lost, Season 2', 149),\n",
       " (232, 'Achtung Baby', 150),\n",
       " (233, \"All That You Can't Leave Behind\", 150),\n",
       " (234, 'B-Sides 1980-1990', 150),\n",
       " (235, 'How To Dismantle An Atomic Bomb', 150),\n",
       " (236, 'Pop', 150),\n",
       " (237, 'Rattle And Hum', 150),\n",
       " (238, 'The Best Of 1980-1990', 150),\n",
       " (239, 'War', 150),\n",
       " (240, 'Zooropa', 150),\n",
       " (241, 'UB40 The Best Of - Volume Two [UK]', 151),\n",
       " (242, 'Diver Down', 152),\n",
       " (243, 'The Best Of Van Halen, Vol. I', 152),\n",
       " (244, 'Van Halen', 152),\n",
       " (245, 'Van Halen III', 152),\n",
       " (246, 'Contraband', 153),\n",
       " (247, 'Vinicius De Moraes', 72),\n",
       " (248, 'Ao Vivo [IMPORT]', 155),\n",
       " (249, 'The Office, Season 1', 156),\n",
       " (250, 'The Office, Season 2', 156),\n",
       " (251, 'The Office, Season 3', 156),\n",
       " (252, 'Un-Led-Ed', 157),\n",
       " (253, 'Battlestar Galactica (Classic), Season 1', 158),\n",
       " (254, 'Aquaman', 159),\n",
       " (255,\n",
       "  'Instant Karma: The Amnesty International Campaign to Save Darfur',\n",
       "  150),\n",
       " (256, 'Speak of the Devil', 114),\n",
       " (257,\n",
       "  '20th Century Masters - The Millennium Collection: The Best of Scorpions',\n",
       "  179),\n",
       " (258, 'House of Pain', 180),\n",
       " (259,\n",
       "  'Radio Brasil (O Som da Jovem Vanguarda) - Seleccao de Henrique Amaro',\n",
       "  36),\n",
       " (260, 'Cake: B-Sides and Rarities', 196),\n",
       " (261, 'LOST, Season 4', 149),\n",
       " (262, 'Quiet Songs', 197),\n",
       " (263, 'Muso Ko', 198),\n",
       " (264, 'Realize', 199),\n",
       " (265, 'Every Kind of Light', 200),\n",
       " (266, 'Duos II', 201),\n",
       " (267, 'Worlds', 202),\n",
       " (268, 'The Best of Beethoven', 203),\n",
       " (269, 'Temple of the Dog', 204),\n",
       " (270, 'Carry On', 205),\n",
       " (271, 'Revelations', 8),\n",
       " (272, 'Adorate Deum: Gregorian Chant from the Proper of the Mass', 206),\n",
       " (273, 'Allegri: Miserere', 207),\n",
       " (274, 'Pachelbel: Canon & Gigue', 208),\n",
       " (275, 'Vivaldi: The Four Seasons', 209),\n",
       " (276, 'Bach: Violin Concertos', 210),\n",
       " (277, 'Bach: Goldberg Variations', 211),\n",
       " (278, 'Bach: The Cello Suites', 212),\n",
       " (279, 'Handel: The Messiah (Highlights)', 213),\n",
       " (280, 'The World of Classical Favourites', 214),\n",
       " (281, 'Sir Neville Marriner: A Celebration', 215),\n",
       " (282, 'Mozart: Wind Concertos', 216),\n",
       " (283, 'Haydn: Symphonies 99 - 104', 217),\n",
       " (284, 'Beethoven: Symhonies Nos. 5 & 6', 218),\n",
       " (285, 'A Soprano Inspired', 219),\n",
       " (286, 'Great Opera Choruses', 220),\n",
       " (287, 'Wagner: Favourite Overtures', 221),\n",
       " (288, 'Fauré: Requiem, Ravel: Pavane & Others', 222),\n",
       " (289, 'Tchaikovsky: The Nutcracker', 223),\n",
       " (290, 'The Last Night of the Proms', 224),\n",
       " (291, 'Puccini: Madama Butterfly - Highlights', 225),\n",
       " (292, 'Holst: The Planets, Op. 32 & Vaughan Williams: Fantasies', 226),\n",
       " (293, \"Pavarotti's Opera Made Easy\", 227),\n",
       " (294,\n",
       "  \"Great Performances - Barber's Adagio and Other Romantic Favorites for Strings\",\n",
       "  228),\n",
       " (295, 'Carmina Burana', 229),\n",
       " (296, 'A Copland Celebration, Vol. I', 230),\n",
       " (297, 'Bach: Toccata & Fugue in D Minor', 231),\n",
       " (298, 'Prokofiev: Symphony No.1', 232),\n",
       " (299, 'Scheherazade', 233),\n",
       " (300, 'Bach: The Brandenburg Concertos', 234),\n",
       " (301, 'Chopin: Piano Concertos Nos. 1 & 2', 235),\n",
       " (302, 'Mascagni: Cavalleria Rusticana', 236),\n",
       " (303, 'Sibelius: Finlandia', 237),\n",
       " (304, 'Beethoven Piano Sonatas: Moonlight & Pastorale', 238),\n",
       " (305, 'Great Recordings of the Century - Mahler: Das Lied von der Erde', 240),\n",
       " (306, 'Elgar: Cello Concerto & Vaughan Williams: Fantasias', 241),\n",
       " (307, 'Adams, John: The Chairman Dances', 242),\n",
       " (308,\n",
       "  \"Tchaikovsky: 1812 Festival Overture, Op.49, Capriccio Italien & Beethoven: Wellington's Victory\",\n",
       "  243),\n",
       " (309, 'Palestrina: Missa Papae Marcelli & Allegri: Miserere', 244),\n",
       " (310, 'Prokofiev: Romeo & Juliet', 245),\n",
       " (311, 'Strauss: Waltzes', 226),\n",
       " (312, 'Berlioz: Symphonie Fantastique', 245),\n",
       " (313, 'Bizet: Carmen Highlights', 246),\n",
       " (314, 'English Renaissance', 247),\n",
       " (315, 'Handel: Music for the Royal Fireworks (Original Version 1749)', 208),\n",
       " (316, 'Grieg: Peer Gynt Suites & Sibelius: Pelléas et Mélisande', 248),\n",
       " (317, 'Mozart Gala: Famous Arias', 249),\n",
       " (318, 'SCRIABIN: Vers la flamme', 250),\n",
       " (319, 'Armada: Music from the Courts of England and Spain', 251),\n",
       " (320, 'Mozart: Symphonies Nos. 40 & 41', 248),\n",
       " (321, 'Back to Black', 252),\n",
       " (322, 'Frank', 252),\n",
       " (323, 'Carried to Dust (Bonus Track Version)', 253),\n",
       " (324, \"Beethoven: Symphony No. 6 'Pastoral' Etc.\", 254),\n",
       " (325, 'Bartok: Violin & Viola Concertos', 255),\n",
       " (326, \"Mendelssohn: A Midsummer Night's Dream\", 256),\n",
       " (327, 'Bach: Orchestral Suites Nos. 1 - 4', 257),\n",
       " (328, 'Charpentier: Divertissements, Airs & Concerts', 258),\n",
       " (329, 'South American Getaway', 259),\n",
       " (330, 'Górecki: Symphony No. 3', 260),\n",
       " (331, 'Purcell: The Fairy Queen', 261),\n",
       " (332, 'The Ultimate Relexation Album', 262),\n",
       " (333, 'Purcell: Music for the Queen Mary', 263),\n",
       " (334, 'Weill: The Seven Deadly Sins', 264),\n",
       " (335,\n",
       "  'J.S. Bach: Chaconne, Suite in E Minor, Partita in E Major & Prelude, Fugue and Allegro',\n",
       "  265),\n",
       " (336, 'Prokofiev: Symphony No.5 & Stravinksy: Le Sacre Du Printemps', 248),\n",
       " (337, 'Szymanowski: Piano Works, Vol. 1', 266),\n",
       " (338, 'Nielsen: The Six Symphonies', 267),\n",
       " (339, \"Great Recordings of the Century: Paganini's 24 Caprices\", 268),\n",
       " (340, \"Liszt - 12 Études D'Execution Transcendante\", 269),\n",
       " (341,\n",
       "  'Great Recordings of the Century - Shubert: Schwanengesang, 4 Lieder',\n",
       "  270),\n",
       " (342, 'Locatelli: Concertos for Violin, Strings and Continuo, Vol. 3', 271),\n",
       " (343, 'Respighi:Pines of Rome', 226),\n",
       " (344, \"Schubert: The Late String Quartets & String Quintet (3 CD's)\", 272),\n",
       " (345, \"Monteverdi: L'Orfeo\", 273),\n",
       " (346, 'Mozart: Chamber Music', 274),\n",
       " (347, 'Koyaanisqatsi (Soundtrack from the Motion Picture)', 275)]"
      ]
     },
     "execution_count": 55,
     "metadata": {},
     "output_type": "execute_result"
    }
   ],
   "source": [
    "albums_table"
   ]
  },
  {
   "cell_type": "code",
   "execution_count": 56,
   "id": "d0369c3c",
   "metadata": {},
   "outputs": [
    {
     "data": {
      "text/plain": [
       "<sqlite3.Cursor at 0x7f807c5930a0>"
      ]
     },
     "execution_count": 56,
     "metadata": {},
     "output_type": "execute_result"
    }
   ],
   "source": [
    "# querying the selected table column names\n",
    "\n",
    "c2.execute(\"PRAGMA table_info(albums)\")"
   ]
  },
  {
   "cell_type": "code",
   "execution_count": 57,
   "id": "bc84c322",
   "metadata": {},
   "outputs": [],
   "source": [
    "albums_table_column_names = c2.fetchall()"
   ]
  },
  {
   "cell_type": "code",
   "execution_count": 58,
   "id": "7cf6706a",
   "metadata": {},
   "outputs": [
    {
     "data": {
      "text/plain": [
       "[(0, 'AlbumId', 'INTEGER', 1, None, 1),\n",
       " (1, 'Title', 'NVARCHAR(160)', 1, None, 0),\n",
       " (2, 'ArtistId', 'INTEGER', 1, None, 0)]"
      ]
     },
     "execution_count": 58,
     "metadata": {},
     "output_type": "execute_result"
    }
   ],
   "source": [
    "albums_table_column_names"
   ]
  },
  {
   "cell_type": "code",
   "execution_count": 59,
   "id": "4cf5db2f",
   "metadata": {},
   "outputs": [],
   "source": [
    "import pandas as pd"
   ]
  },
  {
   "cell_type": "code",
   "execution_count": 60,
   "id": "fdb78971",
   "metadata": {},
   "outputs": [],
   "source": [
    "albums_table_columns = pd.DataFrame(albums_table_column_names)"
   ]
  },
  {
   "cell_type": "code",
   "execution_count": 61,
   "id": "4c403fb8",
   "metadata": {},
   "outputs": [],
   "source": [
    "albums_df = pd.DataFrame(albums_table, columns=albums_table_columns.loc[:,1])"
   ]
  },
  {
   "cell_type": "code",
   "execution_count": 62,
   "id": "6d0bd366",
   "metadata": {},
   "outputs": [
    {
     "data": {
      "text/html": [
       "<div>\n",
       "<style scoped>\n",
       "    .dataframe tbody tr th:only-of-type {\n",
       "        vertical-align: middle;\n",
       "    }\n",
       "\n",
       "    .dataframe tbody tr th {\n",
       "        vertical-align: top;\n",
       "    }\n",
       "\n",
       "    .dataframe thead th {\n",
       "        text-align: right;\n",
       "    }\n",
       "</style>\n",
       "<table border=\"1\" class=\"dataframe\">\n",
       "  <thead>\n",
       "    <tr style=\"text-align: right;\">\n",
       "      <th>1</th>\n",
       "      <th>AlbumId</th>\n",
       "      <th>Title</th>\n",
       "      <th>ArtistId</th>\n",
       "    </tr>\n",
       "  </thead>\n",
       "  <tbody>\n",
       "    <tr>\n",
       "      <th>0</th>\n",
       "      <td>1</td>\n",
       "      <td>For Those About To Rock We Salute You</td>\n",
       "      <td>1</td>\n",
       "    </tr>\n",
       "    <tr>\n",
       "      <th>1</th>\n",
       "      <td>2</td>\n",
       "      <td>Balls to the Wall</td>\n",
       "      <td>2</td>\n",
       "    </tr>\n",
       "    <tr>\n",
       "      <th>2</th>\n",
       "      <td>3</td>\n",
       "      <td>Restless and Wild</td>\n",
       "      <td>2</td>\n",
       "    </tr>\n",
       "    <tr>\n",
       "      <th>3</th>\n",
       "      <td>4</td>\n",
       "      <td>Let There Be Rock</td>\n",
       "      <td>1</td>\n",
       "    </tr>\n",
       "    <tr>\n",
       "      <th>4</th>\n",
       "      <td>5</td>\n",
       "      <td>Big Ones</td>\n",
       "      <td>3</td>\n",
       "    </tr>\n",
       "    <tr>\n",
       "      <th>...</th>\n",
       "      <td>...</td>\n",
       "      <td>...</td>\n",
       "      <td>...</td>\n",
       "    </tr>\n",
       "    <tr>\n",
       "      <th>342</th>\n",
       "      <td>343</td>\n",
       "      <td>Respighi:Pines of Rome</td>\n",
       "      <td>226</td>\n",
       "    </tr>\n",
       "    <tr>\n",
       "      <th>343</th>\n",
       "      <td>344</td>\n",
       "      <td>Schubert: The Late String Quartets &amp; String Qu...</td>\n",
       "      <td>272</td>\n",
       "    </tr>\n",
       "    <tr>\n",
       "      <th>344</th>\n",
       "      <td>345</td>\n",
       "      <td>Monteverdi: L'Orfeo</td>\n",
       "      <td>273</td>\n",
       "    </tr>\n",
       "    <tr>\n",
       "      <th>345</th>\n",
       "      <td>346</td>\n",
       "      <td>Mozart: Chamber Music</td>\n",
       "      <td>274</td>\n",
       "    </tr>\n",
       "    <tr>\n",
       "      <th>346</th>\n",
       "      <td>347</td>\n",
       "      <td>Koyaanisqatsi (Soundtrack from the Motion Pict...</td>\n",
       "      <td>275</td>\n",
       "    </tr>\n",
       "  </tbody>\n",
       "</table>\n",
       "<p>347 rows × 3 columns</p>\n",
       "</div>"
      ],
      "text/plain": [
       "1    AlbumId                                              Title  ArtistId\n",
       "0          1              For Those About To Rock We Salute You         1\n",
       "1          2                                  Balls to the Wall         2\n",
       "2          3                                  Restless and Wild         2\n",
       "3          4                                  Let There Be Rock         1\n",
       "4          5                                           Big Ones         3\n",
       "..       ...                                                ...       ...\n",
       "342      343                             Respighi:Pines of Rome       226\n",
       "343      344  Schubert: The Late String Quartets & String Qu...       272\n",
       "344      345                                Monteverdi: L'Orfeo       273\n",
       "345      346                              Mozart: Chamber Music       274\n",
       "346      347  Koyaanisqatsi (Soundtrack from the Motion Pict...       275\n",
       "\n",
       "[347 rows x 3 columns]"
      ]
     },
     "execution_count": 62,
     "metadata": {},
     "output_type": "execute_result"
    }
   ],
   "source": [
    "albums_df"
   ]
  },
  {
   "cell_type": "markdown",
   "id": "0523a741",
   "metadata": {},
   "source": [
    "#### 2"
   ]
  },
  {
   "cell_type": "code",
   "execution_count": 63,
   "id": "7b75c833",
   "metadata": {},
   "outputs": [
    {
     "data": {
      "text/plain": [
       "<sqlite3.Cursor at 0x7f807c5930a0>"
      ]
     },
     "execution_count": 63,
     "metadata": {},
     "output_type": "execute_result"
    }
   ],
   "source": [
    "c2.execute(\"SELECT * FROM artists\")"
   ]
  },
  {
   "cell_type": "code",
   "execution_count": 64,
   "id": "17bee914",
   "metadata": {},
   "outputs": [],
   "source": [
    "artists_table = c2.fetchall()"
   ]
  },
  {
   "cell_type": "code",
   "execution_count": 65,
   "id": "cfd98f46",
   "metadata": {},
   "outputs": [
    {
     "data": {
      "text/plain": [
       "[(1, 'AC/DC'),\n",
       " (2, 'Accept'),\n",
       " (3, 'Aerosmith'),\n",
       " (4, 'Alanis Morissette'),\n",
       " (5, 'Alice In Chains'),\n",
       " (6, 'Antônio Carlos Jobim'),\n",
       " (7, 'Apocalyptica'),\n",
       " (8, 'Audioslave'),\n",
       " (9, 'BackBeat'),\n",
       " (10, 'Billy Cobham'),\n",
       " (11, 'Black Label Society'),\n",
       " (12, 'Black Sabbath'),\n",
       " (13, 'Body Count'),\n",
       " (14, 'Bruce Dickinson'),\n",
       " (15, 'Buddy Guy'),\n",
       " (16, 'Caetano Veloso'),\n",
       " (17, 'Chico Buarque'),\n",
       " (18, 'Chico Science & Nação Zumbi'),\n",
       " (19, 'Cidade Negra'),\n",
       " (20, 'Cláudio Zoli'),\n",
       " (21, 'Various Artists'),\n",
       " (22, 'Led Zeppelin'),\n",
       " (23, 'Frank Zappa & Captain Beefheart'),\n",
       " (24, 'Marcos Valle'),\n",
       " (25, 'Milton Nascimento & Bebeto'),\n",
       " (26, 'Azymuth'),\n",
       " (27, 'Gilberto Gil'),\n",
       " (28, 'João Gilberto'),\n",
       " (29, 'Bebel Gilberto'),\n",
       " (30, 'Jorge Vercilo'),\n",
       " (31, 'Baby Consuelo'),\n",
       " (32, 'Ney Matogrosso'),\n",
       " (33, 'Luiz Melodia'),\n",
       " (34, 'Nando Reis'),\n",
       " (35, 'Pedro Luís & A Parede'),\n",
       " (36, 'O Rappa'),\n",
       " (37, 'Ed Motta'),\n",
       " (38, 'Banda Black Rio'),\n",
       " (39, 'Fernanda Porto'),\n",
       " (40, 'Os Cariocas'),\n",
       " (41, 'Elis Regina'),\n",
       " (42, 'Milton Nascimento'),\n",
       " (43, 'A Cor Do Som'),\n",
       " (44, 'Kid Abelha'),\n",
       " (45, 'Sandra De Sá'),\n",
       " (46, 'Jorge Ben'),\n",
       " (47, 'Hermeto Pascoal'),\n",
       " (48, 'Barão Vermelho'),\n",
       " (49, 'Edson, DJ Marky & DJ Patife Featuring Fernanda Porto'),\n",
       " (50, 'Metallica'),\n",
       " (51, 'Queen'),\n",
       " (52, 'Kiss'),\n",
       " (53, 'Spyro Gyra'),\n",
       " (54, 'Green Day'),\n",
       " (55, 'David Coverdale'),\n",
       " (56, 'Gonzaguinha'),\n",
       " (57, 'Os Mutantes'),\n",
       " (58, 'Deep Purple'),\n",
       " (59, 'Santana'),\n",
       " (60, 'Santana Feat. Dave Matthews'),\n",
       " (61, 'Santana Feat. Everlast'),\n",
       " (62, 'Santana Feat. Rob Thomas'),\n",
       " (63, 'Santana Feat. Lauryn Hill & Cee-Lo'),\n",
       " (64, 'Santana Feat. The Project G&B'),\n",
       " (65, 'Santana Feat. Maná'),\n",
       " (66, 'Santana Feat. Eagle-Eye Cherry'),\n",
       " (67, 'Santana Feat. Eric Clapton'),\n",
       " (68, 'Miles Davis'),\n",
       " (69, 'Gene Krupa'),\n",
       " (70, 'Toquinho & Vinícius'),\n",
       " (71, 'Vinícius De Moraes & Baden Powell'),\n",
       " (72, 'Vinícius De Moraes'),\n",
       " (73, 'Vinícius E Qurteto Em Cy'),\n",
       " (74, 'Vinícius E Odette Lara'),\n",
       " (75, 'Vinicius, Toquinho & Quarteto Em Cy'),\n",
       " (76, 'Creedence Clearwater Revival'),\n",
       " (77, 'Cássia Eller'),\n",
       " (78, 'Def Leppard'),\n",
       " (79, 'Dennis Chambers'),\n",
       " (80, 'Djavan'),\n",
       " (81, 'Eric Clapton'),\n",
       " (82, 'Faith No More'),\n",
       " (83, 'Falamansa'),\n",
       " (84, 'Foo Fighters'),\n",
       " (85, 'Frank Sinatra'),\n",
       " (86, 'Funk Como Le Gusta'),\n",
       " (87, 'Godsmack'),\n",
       " (88, \"Guns N' Roses\"),\n",
       " (89, 'Incognito'),\n",
       " (90, 'Iron Maiden'),\n",
       " (91, 'James Brown'),\n",
       " (92, 'Jamiroquai'),\n",
       " (93, 'JET'),\n",
       " (94, 'Jimi Hendrix'),\n",
       " (95, 'Joe Satriani'),\n",
       " (96, 'Jota Quest'),\n",
       " (97, 'João Suplicy'),\n",
       " (98, 'Judas Priest'),\n",
       " (99, 'Legião Urbana'),\n",
       " (100, 'Lenny Kravitz'),\n",
       " (101, 'Lulu Santos'),\n",
       " (102, 'Marillion'),\n",
       " (103, 'Marisa Monte'),\n",
       " (104, 'Marvin Gaye'),\n",
       " (105, 'Men At Work'),\n",
       " (106, 'Motörhead'),\n",
       " (107, 'Motörhead & Girlschool'),\n",
       " (108, 'Mônica Marianno'),\n",
       " (109, 'Mötley Crüe'),\n",
       " (110, 'Nirvana'),\n",
       " (111, 'O Terço'),\n",
       " (112, 'Olodum'),\n",
       " (113, 'Os Paralamas Do Sucesso'),\n",
       " (114, 'Ozzy Osbourne'),\n",
       " (115, 'Page & Plant'),\n",
       " (116, 'Passengers'),\n",
       " (117, \"Paul D'Ianno\"),\n",
       " (118, 'Pearl Jam'),\n",
       " (119, 'Peter Tosh'),\n",
       " (120, 'Pink Floyd'),\n",
       " (121, 'Planet Hemp'),\n",
       " (122, 'R.E.M. Feat. Kate Pearson'),\n",
       " (123, 'R.E.M. Feat. KRS-One'),\n",
       " (124, 'R.E.M.'),\n",
       " (125, 'Raimundos'),\n",
       " (126, 'Raul Seixas'),\n",
       " (127, 'Red Hot Chili Peppers'),\n",
       " (128, 'Rush'),\n",
       " (129, 'Simply Red'),\n",
       " (130, 'Skank'),\n",
       " (131, 'Smashing Pumpkins'),\n",
       " (132, 'Soundgarden'),\n",
       " (133, 'Stevie Ray Vaughan & Double Trouble'),\n",
       " (134, 'Stone Temple Pilots'),\n",
       " (135, 'System Of A Down'),\n",
       " (136, 'Terry Bozzio, Tony Levin & Steve Stevens'),\n",
       " (137, 'The Black Crowes'),\n",
       " (138, 'The Clash'),\n",
       " (139, 'The Cult'),\n",
       " (140, 'The Doors'),\n",
       " (141, 'The Police'),\n",
       " (142, 'The Rolling Stones'),\n",
       " (143, 'The Tea Party'),\n",
       " (144, 'The Who'),\n",
       " (145, 'Tim Maia'),\n",
       " (146, 'Titãs'),\n",
       " (147, 'Battlestar Galactica'),\n",
       " (148, 'Heroes'),\n",
       " (149, 'Lost'),\n",
       " (150, 'U2'),\n",
       " (151, 'UB40'),\n",
       " (152, 'Van Halen'),\n",
       " (153, 'Velvet Revolver'),\n",
       " (154, 'Whitesnake'),\n",
       " (155, 'Zeca Pagodinho'),\n",
       " (156, 'The Office'),\n",
       " (157, 'Dread Zeppelin'),\n",
       " (158, 'Battlestar Galactica (Classic)'),\n",
       " (159, 'Aquaman'),\n",
       " (160, 'Christina Aguilera featuring BigElf'),\n",
       " (161, \"Aerosmith & Sierra Leone's Refugee Allstars\"),\n",
       " (162, 'Los Lonely Boys'),\n",
       " (163, 'Corinne Bailey Rae'),\n",
       " (164, 'Dhani Harrison & Jakob Dylan'),\n",
       " (165, 'Jackson Browne'),\n",
       " (166, 'Avril Lavigne'),\n",
       " (167, 'Big & Rich'),\n",
       " (168, \"Youssou N'Dour\"),\n",
       " (169, 'Black Eyed Peas'),\n",
       " (170, 'Jack Johnson'),\n",
       " (171, 'Ben Harper'),\n",
       " (172, 'Snow Patrol'),\n",
       " (173, 'Matisyahu'),\n",
       " (174, 'The Postal Service'),\n",
       " (175, 'Jaguares'),\n",
       " (176, 'The Flaming Lips'),\n",
       " (177, \"Jack's Mannequin & Mick Fleetwood\"),\n",
       " (178, 'Regina Spektor'),\n",
       " (179, 'Scorpions'),\n",
       " (180, 'House Of Pain'),\n",
       " (181, 'Xis'),\n",
       " (182, 'Nega Gizza'),\n",
       " (183, 'Gustavo & Andres Veiga & Salazar'),\n",
       " (184, 'Rodox'),\n",
       " (185, 'Charlie Brown Jr.'),\n",
       " (186, 'Pedro Luís E A Parede'),\n",
       " (187, 'Los Hermanos'),\n",
       " (188, 'Mundo Livre S/A'),\n",
       " (189, 'Otto'),\n",
       " (190, 'Instituto'),\n",
       " (191, 'Nação Zumbi'),\n",
       " (192, 'DJ Dolores & Orchestra Santa Massa'),\n",
       " (193, 'Seu Jorge'),\n",
       " (194, 'Sabotage E Instituto'),\n",
       " (195, 'Stereo Maracana'),\n",
       " (196, 'Cake'),\n",
       " (197, 'Aisha Duo'),\n",
       " (198, 'Habib Koité and Bamada'),\n",
       " (199, 'Karsh Kale'),\n",
       " (200, 'The Posies'),\n",
       " (201, 'Luciana Souza/Romero Lubambo'),\n",
       " (202, 'Aaron Goldberg'),\n",
       " (203, 'Nicolaus Esterhazy Sinfonia'),\n",
       " (204, 'Temple of the Dog'),\n",
       " (205, 'Chris Cornell'),\n",
       " (206, 'Alberto Turco & Nova Schola Gregoriana'),\n",
       " (207, 'Richard Marlow & The Choir of Trinity College, Cambridge'),\n",
       " (208, 'English Concert & Trevor Pinnock'),\n",
       " (209, 'Anne-Sophie Mutter, Herbert Von Karajan & Wiener Philharmoniker'),\n",
       " (210,\n",
       "  'Hilary Hahn, Jeffrey Kahane, Los Angeles Chamber Orchestra & Margaret Batjer'),\n",
       " (211, 'Wilhelm Kempff'),\n",
       " (212, 'Yo-Yo Ma'),\n",
       " (213, 'Scholars Baroque Ensemble'),\n",
       " (214, 'Academy of St. Martin in the Fields & Sir Neville Marriner'),\n",
       " (215,\n",
       "  'Academy of St. Martin in the Fields Chamber Ensemble & Sir Neville Marriner'),\n",
       " (216, 'Berliner Philharmoniker, Claudio Abbado & Sabine Meyer'),\n",
       " (217, 'Royal Philharmonic Orchestra & Sir Thomas Beecham'),\n",
       " (218, 'Orchestre Révolutionnaire et Romantique & John Eliot Gardiner'),\n",
       " (219, 'Britten Sinfonia, Ivor Bolton & Lesley Garrett'),\n",
       " (220,\n",
       "  'Chicago Symphony Chorus, Chicago Symphony Orchestra & Sir Georg Solti'),\n",
       " (221, 'Sir Georg Solti & Wiener Philharmoniker'),\n",
       " (222,\n",
       "  'Academy of St. Martin in the Fields, John Birch, Sir Neville Marriner & Sylvia McNair'),\n",
       " (223, 'London Symphony Orchestra & Sir Charles Mackerras'),\n",
       " (224, 'Barry Wordsworth & BBC Concert Orchestra'),\n",
       " (225, 'Herbert Von Karajan, Mirella Freni & Wiener Philharmoniker'),\n",
       " (226, 'Eugene Ormandy'),\n",
       " (227, 'Luciano Pavarotti'),\n",
       " (228, 'Leonard Bernstein & New York Philharmonic'),\n",
       " (229, 'Boston Symphony Orchestra & Seiji Ozawa'),\n",
       " (230, 'Aaron Copland & London Symphony Orchestra'),\n",
       " (231, 'Ton Koopman'),\n",
       " (232, 'Sergei Prokofiev & Yuri Temirkanov'),\n",
       " (233, 'Chicago Symphony Orchestra & Fritz Reiner'),\n",
       " (234, 'Orchestra of The Age of Enlightenment'),\n",
       " (235, 'Emanuel Ax, Eugene Ormandy & Philadelphia Orchestra'),\n",
       " (236, 'James Levine'),\n",
       " (237, 'Berliner Philharmoniker & Hans Rosbaud'),\n",
       " (238, 'Maurizio Pollini'),\n",
       " (239,\n",
       "  'Academy of St. Martin in the Fields, Sir Neville Marriner & William Bennett'),\n",
       " (240, 'Gustav Mahler'),\n",
       " (241, 'Felix Schmidt, London Symphony Orchestra & Rafael Frühbeck de Burgos'),\n",
       " (242, 'Edo de Waart & San Francisco Symphony'),\n",
       " (243, 'Antal Doráti & London Symphony Orchestra'),\n",
       " (244, 'Choir Of Westminster Abbey & Simon Preston'),\n",
       " (245, 'Michael Tilson Thomas & San Francisco Symphony'),\n",
       " (246,\n",
       "  'Chor der Wiener Staatsoper, Herbert Von Karajan & Wiener Philharmoniker'),\n",
       " (247, \"The King's Singers\"),\n",
       " (248, 'Berliner Philharmoniker & Herbert Von Karajan'),\n",
       " (249, 'Sir Georg Solti, Sumi Jo & Wiener Philharmoniker'),\n",
       " (250, \"Christopher O'Riley\"),\n",
       " (251, 'Fretwork'),\n",
       " (252, 'Amy Winehouse'),\n",
       " (253, 'Calexico'),\n",
       " (254, 'Otto Klemperer & Philharmonia Orchestra'),\n",
       " (255, 'Yehudi Menuhin'),\n",
       " (256, 'Philharmonia Orchestra & Sir Neville Marriner'),\n",
       " (257,\n",
       "  'Academy of St. Martin in the Fields, Sir Neville Marriner & Thurston Dart'),\n",
       " (258, 'Les Arts Florissants & William Christie'),\n",
       " (259, 'The 12 Cellists of The Berlin Philharmonic'),\n",
       " (260, 'Adrian Leaper & Doreen de Feis'),\n",
       " (261, 'Roger Norrington, London Classical Players'),\n",
       " (262, \"Charles Dutoit & L'Orchestre Symphonique de Montréal\"),\n",
       " (263,\n",
       "  'Equale Brass Ensemble, John Eliot Gardiner & Munich Monteverdi Orchestra and Choir'),\n",
       " (264, \"Kent Nagano and Orchestre de l'Opéra de Lyon\"),\n",
       " (265, 'Julian Bream'),\n",
       " (266, 'Martin Roscoe'),\n",
       " (267, 'Göteborgs Symfoniker & Neeme Järvi'),\n",
       " (268, 'Itzhak Perlman'),\n",
       " (269, 'Michele Campanella'),\n",
       " (270, 'Gerald Moore'),\n",
       " (271, 'Mela Tenenbaum, Pro Musica Prague & Richard Kapp'),\n",
       " (272, 'Emerson String Quartet'),\n",
       " (273,\n",
       "  'C. Monteverdi, Nigel Rogers - Chiaroscuro; London Baroque; London Cornett & Sackbu'),\n",
       " (274, 'Nash Ensemble'),\n",
       " (275, 'Philip Glass Ensemble')]"
      ]
     },
     "execution_count": 65,
     "metadata": {},
     "output_type": "execute_result"
    }
   ],
   "source": [
    "artists_table"
   ]
  },
  {
   "cell_type": "code",
   "execution_count": 66,
   "id": "4fb22418",
   "metadata": {},
   "outputs": [
    {
     "data": {
      "text/plain": [
       "<sqlite3.Cursor at 0x7f807c5930a0>"
      ]
     },
     "execution_count": 66,
     "metadata": {},
     "output_type": "execute_result"
    }
   ],
   "source": [
    "# querying the selected table column names\n",
    "\n",
    "c2.execute(\"PRAGMA table_info(artists)\")"
   ]
  },
  {
   "cell_type": "code",
   "execution_count": 67,
   "id": "c19c9385",
   "metadata": {},
   "outputs": [],
   "source": [
    "artists_table_column_names = c2.fetchall()"
   ]
  },
  {
   "cell_type": "code",
   "execution_count": 68,
   "id": "a41afb1b",
   "metadata": {},
   "outputs": [
    {
     "data": {
      "text/plain": [
       "[(0, 'ArtistId', 'INTEGER', 1, None, 1),\n",
       " (1, 'Name', 'NVARCHAR(120)', 0, None, 0)]"
      ]
     },
     "execution_count": 68,
     "metadata": {},
     "output_type": "execute_result"
    }
   ],
   "source": [
    "artists_table_column_names"
   ]
  },
  {
   "cell_type": "code",
   "execution_count": 69,
   "id": "8789c069",
   "metadata": {},
   "outputs": [],
   "source": [
    "artists_table_columns = pd.DataFrame(artists_table_column_names)"
   ]
  },
  {
   "cell_type": "code",
   "execution_count": 70,
   "id": "2f84734a",
   "metadata": {},
   "outputs": [],
   "source": [
    "artists_df = pd.DataFrame(artists_table, columns=artists_table_columns.loc[:,1])"
   ]
  },
  {
   "cell_type": "code",
   "execution_count": 71,
   "id": "0baa860d",
   "metadata": {},
   "outputs": [
    {
     "data": {
      "text/html": [
       "<div>\n",
       "<style scoped>\n",
       "    .dataframe tbody tr th:only-of-type {\n",
       "        vertical-align: middle;\n",
       "    }\n",
       "\n",
       "    .dataframe tbody tr th {\n",
       "        vertical-align: top;\n",
       "    }\n",
       "\n",
       "    .dataframe thead th {\n",
       "        text-align: right;\n",
       "    }\n",
       "</style>\n",
       "<table border=\"1\" class=\"dataframe\">\n",
       "  <thead>\n",
       "    <tr style=\"text-align: right;\">\n",
       "      <th>1</th>\n",
       "      <th>ArtistId</th>\n",
       "      <th>Name</th>\n",
       "    </tr>\n",
       "  </thead>\n",
       "  <tbody>\n",
       "    <tr>\n",
       "      <th>0</th>\n",
       "      <td>1</td>\n",
       "      <td>AC/DC</td>\n",
       "    </tr>\n",
       "    <tr>\n",
       "      <th>1</th>\n",
       "      <td>2</td>\n",
       "      <td>Accept</td>\n",
       "    </tr>\n",
       "    <tr>\n",
       "      <th>2</th>\n",
       "      <td>3</td>\n",
       "      <td>Aerosmith</td>\n",
       "    </tr>\n",
       "    <tr>\n",
       "      <th>3</th>\n",
       "      <td>4</td>\n",
       "      <td>Alanis Morissette</td>\n",
       "    </tr>\n",
       "    <tr>\n",
       "      <th>4</th>\n",
       "      <td>5</td>\n",
       "      <td>Alice In Chains</td>\n",
       "    </tr>\n",
       "    <tr>\n",
       "      <th>...</th>\n",
       "      <td>...</td>\n",
       "      <td>...</td>\n",
       "    </tr>\n",
       "    <tr>\n",
       "      <th>270</th>\n",
       "      <td>271</td>\n",
       "      <td>Mela Tenenbaum, Pro Musica Prague &amp; Richard Kapp</td>\n",
       "    </tr>\n",
       "    <tr>\n",
       "      <th>271</th>\n",
       "      <td>272</td>\n",
       "      <td>Emerson String Quartet</td>\n",
       "    </tr>\n",
       "    <tr>\n",
       "      <th>272</th>\n",
       "      <td>273</td>\n",
       "      <td>C. Monteverdi, Nigel Rogers - Chiaroscuro; Lon...</td>\n",
       "    </tr>\n",
       "    <tr>\n",
       "      <th>273</th>\n",
       "      <td>274</td>\n",
       "      <td>Nash Ensemble</td>\n",
       "    </tr>\n",
       "    <tr>\n",
       "      <th>274</th>\n",
       "      <td>275</td>\n",
       "      <td>Philip Glass Ensemble</td>\n",
       "    </tr>\n",
       "  </tbody>\n",
       "</table>\n",
       "<p>275 rows × 2 columns</p>\n",
       "</div>"
      ],
      "text/plain": [
       "1    ArtistId                                               Name\n",
       "0           1                                              AC/DC\n",
       "1           2                                             Accept\n",
       "2           3                                          Aerosmith\n",
       "3           4                                  Alanis Morissette\n",
       "4           5                                    Alice In Chains\n",
       "..        ...                                                ...\n",
       "270       271   Mela Tenenbaum, Pro Musica Prague & Richard Kapp\n",
       "271       272                             Emerson String Quartet\n",
       "272       273  C. Monteverdi, Nigel Rogers - Chiaroscuro; Lon...\n",
       "273       274                                      Nash Ensemble\n",
       "274       275                              Philip Glass Ensemble\n",
       "\n",
       "[275 rows x 2 columns]"
      ]
     },
     "execution_count": 71,
     "metadata": {},
     "output_type": "execute_result"
    }
   ],
   "source": [
    "artists_df"
   ]
  },
  {
   "cell_type": "markdown",
   "id": "c0d1ea94",
   "metadata": {},
   "source": [
    "#### joining the albums and artists tables"
   ]
  },
  {
   "cell_type": "code",
   "execution_count": 72,
   "id": "5a4fd187",
   "metadata": {},
   "outputs": [],
   "source": [
    "merged = pd.merge(albums_df, artists_df, on='ArtistId')"
   ]
  },
  {
   "cell_type": "code",
   "execution_count": 73,
   "id": "e8e2d965",
   "metadata": {},
   "outputs": [
    {
     "data": {
      "text/html": [
       "<div>\n",
       "<style scoped>\n",
       "    .dataframe tbody tr th:only-of-type {\n",
       "        vertical-align: middle;\n",
       "    }\n",
       "\n",
       "    .dataframe tbody tr th {\n",
       "        vertical-align: top;\n",
       "    }\n",
       "\n",
       "    .dataframe thead th {\n",
       "        text-align: right;\n",
       "    }\n",
       "</style>\n",
       "<table border=\"1\" class=\"dataframe\">\n",
       "  <thead>\n",
       "    <tr style=\"text-align: right;\">\n",
       "      <th>1</th>\n",
       "      <th>AlbumId</th>\n",
       "      <th>Title</th>\n",
       "      <th>ArtistId</th>\n",
       "      <th>Name</th>\n",
       "    </tr>\n",
       "  </thead>\n",
       "  <tbody>\n",
       "    <tr>\n",
       "      <th>0</th>\n",
       "      <td>1</td>\n",
       "      <td>For Those About To Rock We Salute You</td>\n",
       "      <td>1</td>\n",
       "      <td>AC/DC</td>\n",
       "    </tr>\n",
       "    <tr>\n",
       "      <th>1</th>\n",
       "      <td>4</td>\n",
       "      <td>Let There Be Rock</td>\n",
       "      <td>1</td>\n",
       "      <td>AC/DC</td>\n",
       "    </tr>\n",
       "    <tr>\n",
       "      <th>2</th>\n",
       "      <td>2</td>\n",
       "      <td>Balls to the Wall</td>\n",
       "      <td>2</td>\n",
       "      <td>Accept</td>\n",
       "    </tr>\n",
       "    <tr>\n",
       "      <th>3</th>\n",
       "      <td>3</td>\n",
       "      <td>Restless and Wild</td>\n",
       "      <td>2</td>\n",
       "      <td>Accept</td>\n",
       "    </tr>\n",
       "    <tr>\n",
       "      <th>4</th>\n",
       "      <td>5</td>\n",
       "      <td>Big Ones</td>\n",
       "      <td>3</td>\n",
       "      <td>Aerosmith</td>\n",
       "    </tr>\n",
       "    <tr>\n",
       "      <th>...</th>\n",
       "      <td>...</td>\n",
       "      <td>...</td>\n",
       "      <td>...</td>\n",
       "      <td>...</td>\n",
       "    </tr>\n",
       "    <tr>\n",
       "      <th>342</th>\n",
       "      <td>342</td>\n",
       "      <td>Locatelli: Concertos for Violin, Strings and C...</td>\n",
       "      <td>271</td>\n",
       "      <td>Mela Tenenbaum, Pro Musica Prague &amp; Richard Kapp</td>\n",
       "    </tr>\n",
       "    <tr>\n",
       "      <th>343</th>\n",
       "      <td>344</td>\n",
       "      <td>Schubert: The Late String Quartets &amp; String Qu...</td>\n",
       "      <td>272</td>\n",
       "      <td>Emerson String Quartet</td>\n",
       "    </tr>\n",
       "    <tr>\n",
       "      <th>344</th>\n",
       "      <td>345</td>\n",
       "      <td>Monteverdi: L'Orfeo</td>\n",
       "      <td>273</td>\n",
       "      <td>C. Monteverdi, Nigel Rogers - Chiaroscuro; Lon...</td>\n",
       "    </tr>\n",
       "    <tr>\n",
       "      <th>345</th>\n",
       "      <td>346</td>\n",
       "      <td>Mozart: Chamber Music</td>\n",
       "      <td>274</td>\n",
       "      <td>Nash Ensemble</td>\n",
       "    </tr>\n",
       "    <tr>\n",
       "      <th>346</th>\n",
       "      <td>347</td>\n",
       "      <td>Koyaanisqatsi (Soundtrack from the Motion Pict...</td>\n",
       "      <td>275</td>\n",
       "      <td>Philip Glass Ensemble</td>\n",
       "    </tr>\n",
       "  </tbody>\n",
       "</table>\n",
       "<p>347 rows × 4 columns</p>\n",
       "</div>"
      ],
      "text/plain": [
       "1    AlbumId                                              Title  ArtistId  \\\n",
       "0          1              For Those About To Rock We Salute You         1   \n",
       "1          4                                  Let There Be Rock         1   \n",
       "2          2                                  Balls to the Wall         2   \n",
       "3          3                                  Restless and Wild         2   \n",
       "4          5                                           Big Ones         3   \n",
       "..       ...                                                ...       ...   \n",
       "342      342  Locatelli: Concertos for Violin, Strings and C...       271   \n",
       "343      344  Schubert: The Late String Quartets & String Qu...       272   \n",
       "344      345                                Monteverdi: L'Orfeo       273   \n",
       "345      346                              Mozart: Chamber Music       274   \n",
       "346      347  Koyaanisqatsi (Soundtrack from the Motion Pict...       275   \n",
       "\n",
       "1                                                 Name  \n",
       "0                                                AC/DC  \n",
       "1                                                AC/DC  \n",
       "2                                               Accept  \n",
       "3                                               Accept  \n",
       "4                                            Aerosmith  \n",
       "..                                                 ...  \n",
       "342   Mela Tenenbaum, Pro Musica Prague & Richard Kapp  \n",
       "343                             Emerson String Quartet  \n",
       "344  C. Monteverdi, Nigel Rogers - Chiaroscuro; Lon...  \n",
       "345                                      Nash Ensemble  \n",
       "346                              Philip Glass Ensemble  \n",
       "\n",
       "[347 rows x 4 columns]"
      ]
     },
     "execution_count": 73,
     "metadata": {},
     "output_type": "execute_result"
    }
   ],
   "source": [
    "merged"
   ]
  },
  {
   "cell_type": "code",
   "execution_count": 74,
   "id": "fa668618",
   "metadata": {},
   "outputs": [],
   "source": [
    "conn2.close()"
   ]
  },
  {
   "cell_type": "code",
   "execution_count": null,
   "id": "769b2ad6",
   "metadata": {},
   "outputs": [],
   "source": []
  }
 ],
 "metadata": {
  "kernelspec": {
   "display_name": "Python 3 (ipykernel)",
   "language": "python",
   "name": "python3"
  },
  "language_info": {
   "codemirror_mode": {
    "name": "ipython",
    "version": 3
   },
   "file_extension": ".py",
   "mimetype": "text/x-python",
   "name": "python",
   "nbconvert_exporter": "python",
   "pygments_lexer": "ipython3",
   "version": "3.9.7"
  }
 },
 "nbformat": 4,
 "nbformat_minor": 5
}
